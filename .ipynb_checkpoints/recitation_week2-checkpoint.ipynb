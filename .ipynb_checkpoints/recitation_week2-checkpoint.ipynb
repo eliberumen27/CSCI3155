{
 "cells": [
  {
   "cell_type": "code",
   "execution_count": 1,
   "metadata": {},
   "outputs": [
    {
     "name": "stdout",
     "output_type": "stream",
     "text": [
      "Compiling /Users/Eli/Dropbox/FALL 2019 COURSES/CSCI 3155 Principles of Programming Languages/hw2stdlib.sc"
     ]
    },
    {
     "data": {
      "text/plain": [
       "\u001b[32mimport \u001b[39m\u001b[36m$file.$        \n",
       "\u001b[39m\n",
       "\u001b[32mimport \u001b[39m\u001b[36mhw2stdlib._\u001b[39m"
      ]
     },
     "execution_count": 1,
     "metadata": {},
     "output_type": "execute_result"
    }
   ],
   "source": [
    "import $file.hw2stdlib\n",
    "import hw2stdlib._"
   ]
  },
  {
   "cell_type": "markdown",
   "metadata": {},
   "source": [
    "# Recitation: Week 2\n",
    "\n",
    "## Topics\n",
    "\n",
    "* Polymorphism\n",
    "\n",
    "## Polymorphism\n",
    "\n",
    "Polymorphic lists will save us a lot of time and effort by having one list type that can store any type inside. Note that we can't mix the types inside.\n",
    "\n",
    "Given our definition of polymorphic lists in class:\n",
    "$$\n",
    "\\begin{align}\n",
    "\\mathbb{List}\\ A\\ :=\\ \\text{Empty}\\ \\mid\\ \\text{Cons}\\ A\\ (\\mathbb{List}\\ A)\n",
    "\\end{align}\n",
    "$$\n",
    "\n",
    "define Polymorphic lists in Scala."
   ]
  },
  {
   "cell_type": "code",
   "execution_count": 2,
   "metadata": {},
   "outputs": [
    {
     "ename": "",
     "evalue": "",
     "output_type": "error",
     "traceback": [
      "\u001b[31mscala.NotImplementedError: an implementation is missing\u001b[39m\n  scala.Predef$.$qmark$qmark$qmark(\u001b[32mPredef.scala\u001b[39m:\u001b[32m288\u001b[39m)\n  ammonite.$sess.cmd1$Helper.<init>(\u001b[32mcmd1.sc\u001b[39m:\u001b[32m1\u001b[39m)\n  ammonite.$sess.cmd1$.<init>(\u001b[32mcmd1.sc\u001b[39m:\u001b[32m7\u001b[39m)\n  ammonite.$sess.cmd1$.<clinit>(\u001b[32mcmd1.sc\u001b[39m:\u001b[32m-1\u001b[39m)"
     ]
    }
   ],
   "source": []
  },
  {
   "cell_type": "code",
   "execution_count": null,
   "metadata": {},
   "outputs": [],
   "source": [
    "// Tests for polymorphic lists\n",
    "val l1: List[Nat]  = Empty\n",
    "val l2: List[Nat]  = Cons(one, Cons(five, l1));\n",
    "val l3: List[Bool] = Cons(True, Cons(False, Cons(True, Empty)));"
   ]
  },
  {
   "cell_type": "markdown",
   "metadata": {},
   "source": [
    "## Functions on Polymorphic Lists"
   ]
  },
  {
   "cell_type": "markdown",
   "metadata": {},
   "source": [
    "Define a polymorphic function called `append` which concatenates two lists. E.g.:\n",
    "```scala\n",
    "append(Cons(one, Empty), Cons(two, Empty)) == Cons(one, Cons(two, Empty))\n",
    "```"
   ]
  },
  {
   "cell_type": "code",
   "execution_count": null,
   "metadata": {},
   "outputs": [],
   "source": [
    "???"
   ]
  },
  {
   "cell_type": "code",
   "execution_count": null,
   "metadata": {},
   "outputs": [],
   "source": [
    "// Tests for append\n",
    "assert(append(Empty, Empty) == Empty)\n",
    "assert(append(Cons(six, Cons(four, Empty)), Empty)\n",
    "       == Cons(six, Cons(four, Empty)))\n",
    "assert(append(Cons(two, Cons(four, Empty)), Cons(one, Cons(three, Empty)))\n",
    "       == Cons(two, Cons(four, Cons(one, Cons(three, Empty)))))"
   ]
  },
  {
   "cell_type": "markdown",
   "metadata": {},
   "source": [
    "Define a polymorphic function called `reverse` which reverses the elements in a list. E.g.:\n",
    "```scala\n",
    "reverse(Cons(one, Cons(two, Empty))) == Cons(two, Cons(one, Empty))\n",
    "```"
   ]
  },
  {
   "cell_type": "code",
   "execution_count": null,
   "metadata": {},
   "outputs": [],
   "source": [
    "???"
   ]
  },
  {
   "cell_type": "code",
   "execution_count": null,
   "metadata": {},
   "outputs": [],
   "source": [
    "// Tests for reverse\n",
    "assert(reverse(Empty)\n",
    "       == Empty)\n",
    "assert(reverse(Cons(three, Empty))\n",
    "       == Cons(three, Empty))\n",
    "assert(reverse(Cons(six, Cons(four, Cons(seven, Cons(three, Empty)))))\n",
    "       == Cons(three, Cons(seven, Cons(four, Cons(six, Empty)))))"
   ]
  },
  {
   "cell_type": "markdown",
   "metadata": {},
   "source": [
    "## Map"
   ]
  },
  {
   "cell_type": "markdown",
   "metadata": {},
   "source": [
    "Define the `map` function from class in scala.\n",
    "Recall what `map` does:\n",
    "```scala\n",
    "map(add_1, Cons(one, Cons(two, Empty))) == Cons(two, Cons(three, Empty))\n",
    "```"
   ]
  },
  {
   "cell_type": "code",
   "execution_count": null,
   "metadata": {},
   "outputs": [],
   "source": [
    "???"
   ]
  },
  {
   "cell_type": "code",
   "execution_count": null,
   "metadata": {},
   "outputs": [],
   "source": [
    "// Tests for map\n",
    "def add_1(x: Nat): Nat = plus(x, one)\n",
    "assert(map(add_1, Empty)\n",
    "       == Cons(three, Empty))\n",
    "assert(map(add_1, Cons(three, Empty))\n",
    "       == Cons(four, Empty))\n",
    "assert(map(add_1, Cons(six, Cons(four, Cons(seven, Cons(three, Empty)))))\n",
    "       == Cons(seven, Cons(five, Cons(eight, Cons(four, Empty)))))\n",
    "\n",
    "assert(map(not, Cons(True, Cons(False, Empty)))\n",
    "       == Cons(False, Cons(True, Empty)))"
   ]
  },
  {
   "cell_type": "code",
   "execution_count": null,
   "metadata": {},
   "outputs": [],
   "source": [
    "// Bonus tests\n",
    "// https://www.youtube.com/watch?v=kTHNpusq654\n",
    "val things_you_are: List[String] =\n",
    "    Cons(\"hot then you're cold\",\n",
    "    Cons(\"yes then you're no\",\n",
    "    Cons(\"in then you're out\",\n",
    "    Cons(\"up then you're down\", Empty))))\n",
    "def katy(x: String): String = \"You're \" + x\n",
    "map(katy, things_you_are)\n",
    "\n",
    "// (https://www.youtube.com/watch?v=ryDOy3AosBw)\n",
    "val things_i_wish: List[String] =\n",
    "    Cons(\"I was a little bit taller\",\n",
    "    Cons(\"I was a baller\",\n",
    "    Cons(\"I had a girl who looked good, I would call her\", Empty)))\n",
    "def skee_lo(x: String): String = \"I wish \" + x\n",
    "map(skee_lo, things_i_wish)"
   ]
  }
 ],
 "metadata": {
  "kernelspec": {
   "display_name": "Scala",
   "language": "scala",
   "name": "scala"
  },
  "language_info": {
   "codemirror_mode": "text/x-scala",
   "file_extension": ".scala",
   "mimetype": "text/x-scala",
   "name": "scala",
   "nbconvert_exporter": "script",
   "version": "2.12.8"
  }
 },
 "nbformat": 4,
 "nbformat_minor": 2
}
