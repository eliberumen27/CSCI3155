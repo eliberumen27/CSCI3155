{
 "cells": [
  {
   "cell_type": "code",
   "execution_count": 75,
   "metadata": {
    "nbgrader": {
     "grade": false,
     "grade_id": "cell-597e59ae79505596",
     "locked": true,
     "schema_version": 1,
     "solution": false
    }
   },
   "outputs": [
    {
     "name": "stdout",
     "output_type": "stream",
     "text": [
      "Compiling hw4stdlib.sc\n"
     ]
    },
    {
     "data": {
      "text/plain": [
       "\u001b[32mimport \u001b[39m\u001b[36m$file.$        \n",
       "\u001b[39m\n",
       "\u001b[32mimport \u001b[39m\u001b[36mhw4stdlib._\u001b[39m"
      ]
     },
     "execution_count": 75,
     "metadata": {},
     "output_type": "execute_result"
    }
   ],
   "source": [
    "import $file.hw4stdlib\n",
    "import hw4stdlib._"
   ]
  },
  {
   "cell_type": "markdown",
   "metadata": {
    "nbgrader": {
     "grade": false,
     "grade_id": "cell-2c05ba4d46efec6c",
     "locked": true,
     "schema_version": 1,
     "solution": false
    }
   },
   "source": [
    "# Homework 4\n",
    "\n",
    "This is a longer assignment due to the exam.\n",
    "Due 10/3 at 11:59pm\n",
    "\n",
    "## Submission Instructions\n",
    "Upload only this .ipynb file to Canvas. Do not add anything to stdlib since you can't submit it.\n",
    "\n",
    "In this homework we will define integers and their operations, then build an interpreter.\n",
    "\n",
    "See [This link](https://www.notion.so/Guidelines-for-Programming-Homework-dbd25efa7bb24915ae6bcb06827fc5b6) for what is and isn't allowed in your code. "
   ]
  },
  {
   "cell_type": "markdown",
   "metadata": {
    "nbgrader": {
     "grade": false,
     "grade_id": "cell-66e4b323026583ec",
     "locked": true,
     "schema_version": 1,
     "solution": false
    }
   },
   "source": [
    "## Problem 1 (20 pts)\n",
    "\n",
    "For the arithmetic interpreter we will write later on in the homework we will need arithmetic operations for the integers. These will obviously correspond very closely to the operations defined on the Natural Numbers. But now we will need to account for negative numbers in a proper way. \n",
    "\n",
    "Start by defining the Algebraic Datatype(sealed trait with case classes) for the Integers. The encoded type should be:\n",
    "\n",
    "$$\n",
    "\\begin{align}\n",
    "    \\mathbb{Z} ::=&\\ \\text{Positive}\\ \\mathbb{N}\\\\\n",
    "    \\mid&\\ \\text{Negative}\\ \\mathbb{N}\n",
    "\\end{align}\n",
    "$$\n",
    "\n",
    "We will use this encoding because it will allow us to use some of our definitions for the Natural Numbers to define the operations on the Integers. This is the core strategy of functional programming: using smaller functions to build up larger ones. This is true even across types. We want to always minimize the ammount of code we have be reusing what we have already constructed, whenever possible. "
   ]
  },
  {
   "cell_type": "markdown",
   "metadata": {
    "nbgrader": {
     "grade": false,
     "grade_id": "cell-806b50f4e9f1e1e9",
     "locked": true,
     "schema_version": 1,
     "solution": false
    }
   },
   "source": [
    "### 1a\n",
    "\n",
    "Define the ADT for Integers below: "
   ]
  },
  {
   "cell_type": "code",
   "execution_count": 76,
   "metadata": {
    "nbgrader": {
     "grade": false,
     "grade_id": "cell-9ee3e730ef837143",
     "locked": false,
     "schema_version": 1,
     "solution": true
    }
   },
   "outputs": [
    {
     "data": {
      "text/plain": [
       "defined \u001b[32mtrait\u001b[39m \u001b[36mInteger\u001b[39m\n",
       "defined \u001b[32mclass\u001b[39m \u001b[36mPositive\u001b[39m\n",
       "defined \u001b[32mclass\u001b[39m \u001b[36mNegative\u001b[39m"
      ]
     },
     "execution_count": 76,
     "metadata": {},
     "output_type": "execute_result"
    }
   ],
   "source": [
    "// BEGIN SOLUTION\n",
    "sealed trait Integer\n",
    "case class Positive(x : Nat) extends Integer\n",
    "case class Negative(x : Nat) extends Integer\n",
    "// END SOLUTION"
   ]
  },
  {
   "cell_type": "code",
   "execution_count": 77,
   "metadata": {
    "nbgrader": {
     "grade": true,
     "grade_id": "cell-cdc9d6798e91c35c",
     "locked": true,
     "points": 3,
     "schema_version": 1,
     "solution": false
    }
   },
   "outputs": [
    {
     "name": "stdout",
     "output_type": "stream",
     "text": [
      "1\n",
      "-1\n",
      "\n",
      "*** Tests Passed (3 points) ***\n"
     ]
    },
    {
     "data": {
      "text/plain": [
       "defined \u001b[32mfunction\u001b[39m \u001b[36mione\u001b[39m\n",
       "defined \u001b[32mfunction\u001b[39m \u001b[36mineg_one\u001b[39m\n",
       "defined \u001b[32mfunction\u001b[39m \u001b[36mint_to_str\u001b[39m\n",
       "defined \u001b[32mfunction\u001b[39m \u001b[36mprint_integer\u001b[39m"
      ]
     },
     "execution_count": 77,
     "metadata": {},
     "output_type": "execute_result"
    }
   ],
   "source": [
    "def ione : Integer = Positive(Succ(Zero))\n",
    "def ineg_one : Integer = Negative(Succ(Zero))\n",
    "\n",
    "def int_to_str(x : Integer) : String = x match {\n",
    "    case Positive(x) => nat_to_str(x)\n",
    "    case Negative(x) => \"-\" + nat_to_str(x)\n",
    "}\n",
    "\n",
    "def print_integer(x : Integer) = println(int_to_str(x))\n",
    "\n",
    "print_integer(ione)\n",
    "print_integer(ineg_one)\n",
    "passed(3)"
   ]
  },
  {
   "cell_type": "markdown",
   "metadata": {
    "nbgrader": {
     "grade": false,
     "grade_id": "cell-96873b437fb55c06",
     "locked": true,
     "schema_version": 1,
     "solution": false
    }
   },
   "source": [
    "### Absolute Value and Negation\n",
    "\n",
    "Below are defined the absolute value function and a negation function"
   ]
  },
  {
   "cell_type": "code",
   "execution_count": 78,
   "metadata": {
    "nbgrader": {
     "grade": false,
     "grade_id": "cell-0584ce98a22a973a",
     "locked": true,
     "schema_version": 1,
     "solution": false
    }
   },
   "outputs": [
    {
     "data": {
      "text/plain": [
       "defined \u001b[32mfunction\u001b[39m \u001b[36mabs\u001b[39m\n",
       "defined \u001b[32mfunction\u001b[39m \u001b[36mnegate\u001b[39m"
      ]
     },
     "execution_count": 78,
     "metadata": {},
     "output_type": "execute_result"
    }
   ],
   "source": [
    "def abs(x : Integer) : Nat = x match {\n",
    "    case Positive(x) => x\n",
    "    case Negative(x) => x\n",
    "}\n",
    "\n",
    "def negate(x : Integer) : Integer = x match {\n",
    "    case Positive(x) => Negative(x)\n",
    "    case Negative(x) => Positive(x)\n",
    "}"
   ]
  },
  {
   "cell_type": "markdown",
   "metadata": {
    "nbgrader": {
     "grade": false,
     "grade_id": "cell-dda9d34dce2f24b2",
     "locked": true,
     "schema_version": 1,
     "solution": false
    }
   },
   "source": [
    "### 1b: Addition\n",
    "\n",
    "Define plus and minus for Integers. Don't use the versions we created for $\\mathbb{N}$ as it did some funky things to get minus to behave correctly. Try and create these from scratch instead. It is recommended to use the lte(less than or equals) function we defined last week along with abs to make the job easier. \n",
    "\n",
    "Note that we have renamed the operations for natural numbers so that they are of the form:\n",
    "\n",
    "``` nat_<operation name> ```\n",
    "\n",
    "For instance, plus has been renamed to ``` nat_plus ```. This was done so we don't have namespace conflicts"
   ]
  },
  {
   "cell_type": "code",
   "execution_count": 79,
   "metadata": {
    "nbgrader": {
     "grade": false,
     "grade_id": "cell-3f813578972946cd",
     "locked": false,
     "schema_version": 1,
     "solution": true
    }
   },
   "outputs": [
    {
     "data": {
      "text/plain": [
       "defined \u001b[32mfunction\u001b[39m \u001b[36mplus\u001b[39m"
      ]
     },
     "execution_count": 79,
     "metadata": {},
     "output_type": "execute_result"
    }
   ],
   "source": [
    "// BEGIN SOLUTION\n",
    "def plus(n : Integer, m : Integer) : Integer = (n, m) match {\n",
    "    case (Positive(x), Positive(y)) => Positive(nat_plus(x, y))\n",
    "    case (Negative(x), Negative(y)) => Negative(nat_plus(x,y))\n",
    "    case (Negative(x), Positive(y)) => nat_lte(x, y) match {\n",
    "        case True  => Positive(nat_minus(y, x))\n",
    "        case False => Negative(nat_minus(x, y))\n",
    "    }\n",
    "    case (Positive(x), Negative(y)) => nat_lte(x, y) match {\n",
    "        case True  => Negative(nat_minus(y, x))\n",
    "        case False => Positive(nat_minus(x, y))\n",
    "    }    \n",
    "}\n",
    "// END SOLUTION"
   ]
  },
  {
   "cell_type": "code",
   "execution_count": 80,
   "metadata": {
    "nbgrader": {
     "grade": true,
     "grade_id": "cell-816461e09874b44b",
     "locked": true,
     "points": 5,
     "schema_version": 1,
     "solution": false
    }
   },
   "outputs": [
    {
     "name": "stdout",
     "output_type": "stream",
     "text": [
      "\n",
      "*** Tests Passed (5 points) ***\n"
     ]
    }
   ],
   "source": [
    "assert(plus(Positive(three), Negative(six)) == Negative(three))\n",
    "assert(plus(Positive(three), Negative(two)) == Positive(one))\n",
    "assert(plus(Positive(five), Positive(three)) == Positive(eight))\n",
    "passed(5)"
   ]
  },
  {
   "cell_type": "markdown",
   "metadata": {
    "nbgrader": {
     "grade": false,
     "grade_id": "cell-9d8b69b7575794e3",
     "locked": true,
     "schema_version": 1,
     "solution": false
    }
   },
   "source": [
    "### 1c: Subtraction\n",
    "Implement subtraction below\n",
    "Hint: Subtraction is very easy if you use ```plus``` and a ```negate```"
   ]
  },
  {
   "cell_type": "code",
   "execution_count": 81,
   "metadata": {
    "nbgrader": {
     "grade": false,
     "grade_id": "cell-cdaed49e10461f7f",
     "locked": false,
     "schema_version": 1,
     "solution": true
    }
   },
   "outputs": [
    {
     "data": {
      "text/plain": [
       "defined \u001b[32mfunction\u001b[39m \u001b[36mminus\u001b[39m"
      ]
     },
     "execution_count": 81,
     "metadata": {},
     "output_type": "execute_result"
    }
   ],
   "source": [
    "// BEGIN SOLUTION\n",
    "def minus(x : Integer, y : Integer) : Integer = plus(x, negate(y))\n",
    "// END SOLUTION"
   ]
  },
  {
   "cell_type": "code",
   "execution_count": 82,
   "metadata": {
    "nbgrader": {
     "grade": true,
     "grade_id": "cell-2f31b73a07aa01f8",
     "locked": true,
     "points": 3,
     "schema_version": 1,
     "solution": false
    },
    "scrolled": true
   },
   "outputs": [
    {
     "name": "stdout",
     "output_type": "stream",
     "text": [
      "\n",
      "*** Tests Passed (3 points) ***\n"
     ]
    }
   ],
   "source": [
    "assert(minus(Positive(three), Negative(six)) == Positive(nine))\n",
    "assert(minus(Positive(three), Negative(two)) == Positive(five))\n",
    "assert(minus(Positive(five), Positive(six)) == Negative(one))\n",
    "passed(3)"
   ]
  },
  {
   "cell_type": "markdown",
   "metadata": {
    "nbgrader": {
     "grade": false,
     "grade_id": "cell-287c9c7fb66c1007",
     "locked": true,
     "schema_version": 1,
     "solution": false
    }
   },
   "source": [
    "### 1d: Multiplication\n",
    "\n",
    "Write multiplication for Integers. You should be able to use ```nat_mult``` to greatly simplify this"
   ]
  },
  {
   "cell_type": "code",
   "execution_count": 83,
   "metadata": {
    "nbgrader": {
     "grade": false,
     "grade_id": "cell-1fb42ea8405c27ad",
     "locked": false,
     "schema_version": 1,
     "solution": true
    }
   },
   "outputs": [
    {
     "data": {
      "text/plain": [
       "defined \u001b[32mfunction\u001b[39m \u001b[36mmult\u001b[39m"
      ]
     },
     "execution_count": 83,
     "metadata": {},
     "output_type": "execute_result"
    }
   ],
   "source": [
    "// BEGIN SOLUTION\n",
    "def mult(x : Integer, y : Integer) : Integer = (x,y) match {\n",
    "    case (Positive(x), Positive(y)) => Positive(nat_mult(x, y))   \n",
    "    case (Negative(x), Negative(y)) => Positive(nat_mult(x, y))\n",
    "    case (Negative(x), Positive(y)) => Negative(nat_mult(x, y))\n",
    "    case (Positive(x), Negative(y)) => Negative(nat_mult(x, y))\n",
    "}\n",
    "// END SOLUTION"
   ]
  },
  {
   "cell_type": "code",
   "execution_count": 84,
   "metadata": {
    "nbgrader": {
     "grade": true,
     "grade_id": "cell-ab71ea516b48a773",
     "locked": true,
     "points": 5,
     "schema_version": 1,
     "solution": false
    }
   },
   "outputs": [
    {
     "name": "stdout",
     "output_type": "stream",
     "text": [
      "\n",
      "*** Tests Passed (5 points) ***\n"
     ]
    }
   ],
   "source": [
    "assert(mult(Positive(three), Negative(two)) == Negative(six))\n",
    "assert(mult(Positive(two), Positive(one)) == Positive(two))\n",
    "assert(mult(Negative(three), Negative(three)) == Positive(nine))\n",
    "passed(5)"
   ]
  },
  {
   "cell_type": "markdown",
   "metadata": {
    "nbgrader": {
     "grade": false,
     "grade_id": "cell-debbb1bfeca4e70e",
     "locked": true,
     "schema_version": 1,
     "solution": false
    }
   },
   "source": [
    "### 1e: Exponentiation\n",
    "\n",
    "Recall that for ``pow`` we will restrict ourselves to only positive powers. Use the definition of `mult` from above so that your polarity(Positive/Negative) is correct. Recall the cases for $-x^n$ for even vs odd $n$. A hint for your base case: `pow(x, 0) = Positive( 1 )`"
   ]
  },
  {
   "cell_type": "code",
   "execution_count": 85,
   "metadata": {
    "nbgrader": {
     "grade": false,
     "grade_id": "cell-8bf97e036b7c5e3c",
     "locked": false,
     "schema_version": 1,
     "solution": true
    }
   },
   "outputs": [
    {
     "data": {
      "text/plain": [
       "defined \u001b[32mfunction\u001b[39m \u001b[36mpow\u001b[39m"
      ]
     },
     "execution_count": 85,
     "metadata": {},
     "output_type": "execute_result"
    }
   ],
   "source": [
    "// BEGIN SOLUTION\n",
    "def pow(x : Integer, y : Nat) : Integer = y match {\n",
    "    case Zero => Positive(Succ(Zero))\n",
    "    case Succ(y) => mult(x, pow(x, y))\n",
    "}\n",
    "// END SOLUTION"
   ]
  },
  {
   "cell_type": "code",
   "execution_count": 86,
   "metadata": {
    "nbgrader": {
     "grade": true,
     "grade_id": "cell-8bfc201c0fa1c3ab",
     "locked": true,
     "points": 4,
     "schema_version": 1,
     "solution": false
    }
   },
   "outputs": [
    {
     "name": "stdout",
     "output_type": "stream",
     "text": [
      "\n",
      "*** Tests Passed (3 points) ***\n"
     ]
    }
   ],
   "source": [
    "assert(pow(Negative(two), two) == Positive(four))\n",
    "assert(pow(Positive(three), one) == Positive(three))\n",
    "assert(pow(Negative(two), three) == Negative(eight))\n",
    "passed(3)"
   ]
  },
  {
   "cell_type": "markdown",
   "metadata": {},
   "source": [
    "# The Arithmetic Language: Our First Interpreter\n",
    "\n",
    "Now we are ready to define our first interpreter. We will define the Arithmetic language syntax below as a sealed trait. It will be your job to correctly construct the interpreter for it based on the inference rules we covered in class. Recall that each rule corresponds to a case in the `eval` function."
   ]
  },
  {
   "cell_type": "code",
   "execution_count": 87,
   "metadata": {
    "nbgrader": {
     "grade": false,
     "grade_id": "cell-7f013ad0a4376aac",
     "locked": true,
     "schema_version": 1,
     "solution": false
    }
   },
   "outputs": [
    {
     "data": {
      "text/plain": [
       "defined \u001b[32mtrait\u001b[39m \u001b[36mExpr\u001b[39m\n",
       "defined \u001b[32mclass\u001b[39m \u001b[36mNum\u001b[39m\n",
       "defined \u001b[32mclass\u001b[39m \u001b[36mPlus\u001b[39m\n",
       "defined \u001b[32mclass\u001b[39m \u001b[36mMinus\u001b[39m\n",
       "defined \u001b[32mclass\u001b[39m \u001b[36mMult\u001b[39m\n",
       "defined \u001b[32mclass\u001b[39m \u001b[36mPow\u001b[39m"
      ]
     },
     "execution_count": 87,
     "metadata": {},
     "output_type": "execute_result"
    }
   ],
   "source": [
    "sealed trait Expr \n",
    "case class Num(x : Integer) extends Expr \n",
    "case class Plus(x : Expr, y : Expr) extends Expr\n",
    "case class Minus(x : Expr, y : Expr) extends Expr\n",
    "case class Mult(x : Expr, y : Expr) extends Expr\n",
    "case class Pow(x : Expr, y : Nat) extends Expr"
   ]
  },
  {
   "cell_type": "markdown",
   "metadata": {},
   "source": [
    "## Problem 2 (10 points)\n",
    "\n",
    "Now that we have defined the syntax for Arithmetic expressions. Go ahead and define the interpreter. We have given the signature for the function. (Bonus points if you define and use the helper function `eval-bin` that we discussed in class.\n",
    "\n",
    "Recall that the type of this interpreter should be $eval : \\text{Expr} \\rightarrow \\mathbb{Z}$"
   ]
  },
  {
   "cell_type": "code",
   "execution_count": 88,
   "metadata": {
    "nbgrader": {
     "grade": false,
     "grade_id": "cell-cd1a5c1ec38ae400",
     "locked": false,
     "schema_version": 1,
     "solution": true
    }
   },
   "outputs": [
    {
     "data": {
      "text/plain": [
       "defined \u001b[32mfunction\u001b[39m \u001b[36meval_bin\u001b[39m\n",
       "defined \u001b[32mfunction\u001b[39m \u001b[36meval\u001b[39m"
      ]
     },
     "execution_count": 88,
     "metadata": {},
     "output_type": "execute_result"
    }
   ],
   "source": [
    "def eval_bin(f : ((Integer, Integer) => Integer), e1 : Expr, e2 : Expr) : Integer =\n",
    "    f(eval(e1), eval(e2))\n",
    "\n",
    "def eval(expr : Expr) : Integer = expr match {\n",
    "    case Num(n) => n\n",
    "    case Plus(e1, e2) => eval_bin(plus, e1, e2)\n",
    "    case Minus(e1, e2) => eval_bin(minus, e1, e2)\n",
    "    case Mult(e1, e2) => eval_bin(mult, e1, e2)\n",
    "    case Pow(e1, n) => pow(eval(e1), n)\n",
    "}"
   ]
  },
  {
   "cell_type": "code",
   "execution_count": 89,
   "metadata": {
    "nbgrader": {
     "grade": true,
     "grade_id": "cell-14ceee2b601c4ef2",
     "locked": true,
     "points": 4,
     "schema_version": 1,
     "solution": false
    },
    "scrolled": true
   },
   "outputs": [
    {
     "name": "stdout",
     "output_type": "stream",
     "text": [
      "\n",
      "*** Tests Passed (4 points) ***\n"
     ]
    },
    {
     "data": {
      "text/plain": [
       "\u001b[36mx\u001b[39m: \u001b[32mExpr\u001b[39m = Num(Positive(Succ(Succ(Succ(Succ(Succ(Succ(Zero))))))))"
      ]
     },
     "execution_count": 89,
     "metadata": {},
     "output_type": "execute_result"
    }
   ],
   "source": [
    "val x: Expr = Num(Positive(six))\n",
    "assert(eval(x) == Positive(six))\n",
    "passed(4)"
   ]
  },
  {
   "cell_type": "code",
   "execution_count": 90,
   "metadata": {
    "nbgrader": {
     "grade": true,
     "grade_id": "cell-5ab79956b85cc902",
     "locked": true,
     "points": 3,
     "schema_version": 1,
     "solution": false
    }
   },
   "outputs": [
    {
     "name": "stdout",
     "output_type": "stream",
     "text": [
      "\n",
      "*** Tests Passed (3 points) ***\n"
     ]
    },
    {
     "data": {
      "text/plain": [
       "\u001b[36mx2\u001b[39m: \u001b[32mExpr\u001b[39m = Plus(Num(Positive(Succ(Succ(Zero)))),Num(Positive(Succ(Succ(Zero)))))"
      ]
     },
     "execution_count": 90,
     "metadata": {},
     "output_type": "execute_result"
    }
   ],
   "source": [
    "val x2: Expr = Plus(Num(Positive(two)), Num(Positive(two)))\n",
    "assert(eval(x2) == Positive(four))\n",
    "passed(3)"
   ]
  },
  {
   "cell_type": "code",
   "execution_count": 91,
   "metadata": {
    "nbgrader": {
     "grade": true,
     "grade_id": "cell-6b5e757e2dd296d2",
     "locked": true,
     "points": 3,
     "schema_version": 1,
     "solution": false
    }
   },
   "outputs": [
    {
     "name": "stdout",
     "output_type": "stream",
     "text": [
      "\n",
      "*** Tests Passed (3 points) ***\n"
     ]
    },
    {
     "data": {
      "text/plain": [
       "\u001b[36mx3\u001b[39m: \u001b[32mExpr\u001b[39m = Mult(Plus(Num(Positive(Succ(Succ(Zero)))),Num(Positive(Succ(Succ(Zero))))),Num(Negative(Succ(Succ(Zero)))))"
      ]
     },
     "execution_count": 91,
     "metadata": {},
     "output_type": "execute_result"
    }
   ],
   "source": [
    "val x3: Expr = Mult(Plus(Num(Positive(two)), Num(Positive(two))), Num(Negative(two)))\n",
    "assert(eval(x3) == Negative(eight))\n",
    "passed(3)"
   ]
  },
  {
   "cell_type": "markdown",
   "metadata": {
    "nbgrader": {
     "grade": false,
     "grade_id": "cell-c0793fcb256b6308",
     "locked": true,
     "schema_version": 1,
     "solution": false
    }
   },
   "source": [
    "## Problem 3 (10 points)\n",
    "Implement equality for $\\mathbb{B}$, $\\mathbb{N}$, $\\mathbb{Z}$, and $\\text{List}\\ a$\n",
    "\n",
    "Most should have the form:\n",
    "$$\n",
    "eq : A \\rightarrow A \\rightarrow \\mathbb{B}\n",
    "$$\n",
    "\n",
    "Where you will want to fill each $A$ with the type of equality you are defining"
   ]
  },
  {
   "cell_type": "markdown",
   "metadata": {
    "nbgrader": {
     "grade": false,
     "grade_id": "cell-121c3973d7d1aa6c",
     "locked": true,
     "schema_version": 1,
     "solution": false
    }
   },
   "source": [
    "### 3a: $\\mathbb{B}$\n",
    "Implement `bool_eq`"
   ]
  },
  {
   "cell_type": "code",
   "execution_count": 92,
   "metadata": {
    "nbgrader": {
     "grade": false,
     "grade_id": "cell-2798ee2b3f2a50f6",
     "locked": false,
     "schema_version": 1,
     "solution": true
    }
   },
   "outputs": [
    {
     "data": {
      "text/plain": [
       "defined \u001b[32mfunction\u001b[39m \u001b[36mbool_eq\u001b[39m"
      ]
     },
     "execution_count": 92,
     "metadata": {},
     "output_type": "execute_result"
    }
   ],
   "source": [
    "// BEGIN SOLUTION\n",
    "def bool_eq(x : Bool, y : Bool) : Bool = (x, y) match {\n",
    "    case (True, True) => True\n",
    "    case (False, False) => True\n",
    "    case _ => False\n",
    "}\n",
    "// END SOLUTION"
   ]
  },
  {
   "cell_type": "code",
   "execution_count": 93,
   "metadata": {
    "nbgrader": {
     "grade": true,
     "grade_id": "cell-722112b63bcac170",
     "locked": true,
     "points": 2,
     "schema_version": 1,
     "solution": false
    }
   },
   "outputs": [
    {
     "name": "stdout",
     "output_type": "stream",
     "text": [
      "\n",
      "*** Tests Passed (2 points) ***\n"
     ]
    }
   ],
   "source": [
    "assert(bool_eq(True, True) == True)\n",
    "assert(bool_eq(False, True) == False)\n",
    "assert(bool_eq(True, False) == False)\n",
    "assert(bool_eq(False, False) == True)\n",
    "passed(2)"
   ]
  },
  {
   "cell_type": "markdown",
   "metadata": {
    "nbgrader": {
     "grade": false,
     "grade_id": "cell-731fa3ea8ec6a853",
     "locked": true,
     "schema_version": 1,
     "solution": false
    }
   },
   "source": [
    "### 3b: $\\mathbb{N}$\n",
    "Implement `nat_eq`"
   ]
  },
  {
   "cell_type": "code",
   "execution_count": 94,
   "metadata": {
    "nbgrader": {
     "grade": false,
     "grade_id": "cell-22169f8784478436",
     "locked": false,
     "schema_version": 1,
     "solution": true
    }
   },
   "outputs": [
    {
     "data": {
      "text/plain": [
       "defined \u001b[32mfunction\u001b[39m \u001b[36mnat_eq\u001b[39m"
      ]
     },
     "execution_count": 94,
     "metadata": {},
     "output_type": "execute_result"
    }
   ],
   "source": [
    "// BEGIN SOLUTION\n",
    "def nat_eq(x : Nat, y : Nat) : Bool = (x, y) match {\n",
    "    case (Zero, Zero)         => True\n",
    "    case (Succ(px), Succ(py)) => nat_eq(px, py)\n",
    "    case _                    => False\n",
    "}\n",
    "// END SOLUTION"
   ]
  },
  {
   "cell_type": "code",
   "execution_count": 95,
   "metadata": {
    "nbgrader": {
     "grade": true,
     "grade_id": "cell-0ce38fa2255b8c9d",
     "locked": true,
     "points": 2,
     "schema_version": 1,
     "solution": false
    }
   },
   "outputs": [
    {
     "name": "stdout",
     "output_type": "stream",
     "text": [
      "\n",
      "*** Tests Passed (3 points) ***\n"
     ]
    }
   ],
   "source": [
    "assert(nat_eq(ten, ten) == True)\n",
    "assert(nat_eq(ten, Zero) == False)\n",
    "assert(nat_eq(five, six) == False)\n",
    "passed(3)"
   ]
  },
  {
   "cell_type": "markdown",
   "metadata": {
    "nbgrader": {
     "grade": false,
     "grade_id": "cell-18d15c3514b6ba66",
     "locked": true,
     "schema_version": 1,
     "solution": false
    }
   },
   "source": [
    "### 3c: $\\mathbb{Z}$\n",
    "Implement `int_eq`"
   ]
  },
  {
   "cell_type": "code",
   "execution_count": 96,
   "metadata": {
    "nbgrader": {
     "grade": false,
     "grade_id": "cell-eab55be5227ceeaf",
     "locked": false,
     "schema_version": 1,
     "solution": true
    }
   },
   "outputs": [
    {
     "data": {
      "text/plain": [
       "defined \u001b[32mfunction\u001b[39m \u001b[36mint_eq\u001b[39m"
      ]
     },
     "execution_count": 96,
     "metadata": {},
     "output_type": "execute_result"
    }
   ],
   "source": [
    "// BEGIN SOLUTION\n",
    "def int_eq(x : Integer, y : Integer) : Bool = (x, y) match {\n",
    "    case (Positive(x), Positive(y))       => nat_eq(x, y)\n",
    "    case (Negative(x), Negative(y))       => nat_eq(x, y)\n",
    "    case (Positive(Zero), Negative(Zero)) => True\n",
    "    case (Negative(Zero), Positive(Zero)) => True\n",
    "    case _                                => False\n",
    "}\n",
    "// END SOLUTION"
   ]
  },
  {
   "cell_type": "code",
   "execution_count": 97,
   "metadata": {
    "nbgrader": {
     "grade": true,
     "grade_id": "cell-f846b69e86a7d77f",
     "locked": true,
     "points": 2,
     "schema_version": 1,
     "solution": false
    }
   },
   "outputs": [
    {
     "name": "stdout",
     "output_type": "stream",
     "text": [
      "\n",
      "*** Tests Passed (2 points) ***\n"
     ]
    }
   ],
   "source": [
    "assert(int_eq(Positive(nine), Positive(nine)) == True)\n",
    "assert(int_eq(Negative(eight), Negative(eight)) == True)\n",
    "assert(int_eq(Positive(nine), Negative(nine)) == False)\n",
    "assert(int_eq(Positive(nine), Positive(Zero)) == False)\n",
    "assert(int_eq(Positive(five), Positive(six)) == False)\n",
    "passed(3)"
   ]
  },
  {
   "cell_type": "markdown",
   "metadata": {
    "nbgrader": {
     "grade": false,
     "grade_id": "cell-6f4aeb2f637c612e",
     "locked": true,
     "schema_version": 1,
     "solution": false
    }
   },
   "source": [
    "### 3d: $\\text{List}\\ a$\n",
    "Implement `list_eq`. Since lists are polymorphic, your function needs to take a third parameter which should be the `eq` function for the given $a$:\n",
    "$$\n",
    "eq : \\text{List}\\ A \\rightarrow \\text{List}\\ A \\rightarrow (A \\rightarrow A \\rightarrow \\mathbb{B}) \\rightarrow \\mathbb{B}\n",
    "$$"
   ]
  },
  {
   "cell_type": "code",
   "execution_count": 98,
   "metadata": {
    "nbgrader": {
     "grade": false,
     "grade_id": "cell-7459289e4fe0f331",
     "locked": false,
     "schema_version": 1,
     "solution": true
    }
   },
   "outputs": [
    {
     "data": {
      "text/plain": [
       "defined \u001b[32mfunction\u001b[39m \u001b[36mlist_eq\u001b[39m"
      ]
     },
     "execution_count": 98,
     "metadata": {},
     "output_type": "execute_result"
    }
   ],
   "source": [
    "// BEGIN SOLUTION\n",
    "def list_eq[A](l1: List[A], l2: List[A], eq: (A, A) => Bool): Bool =\n",
    "    (l1, l2) match {\n",
    "        case (Empty, Empty) => True\n",
    "        case (Cons(x1, t1), Cons(x2, t2)) => and(eq(x1, x2), list_eq(t1, t2, eq))\n",
    "        case _ => False\n",
    "    }\n",
    "// END SOLUTION"
   ]
  },
  {
   "cell_type": "code",
   "execution_count": 99,
   "metadata": {
    "nbgrader": {
     "grade": true,
     "grade_id": "cell-39a05cd0083a25bd",
     "locked": true,
     "points": 4,
     "schema_version": 1,
     "solution": false
    }
   },
   "outputs": [
    {
     "name": "stdout",
     "output_type": "stream",
     "text": [
      "\n",
      "*** Tests Passed (4 points) ***\n"
     ]
    }
   ],
   "source": [
    "assert(list_eq(Empty, Empty, nat_eq) == True)\n",
    "assert(list_eq(Empty, Empty, bool_eq) == True)\n",
    "assert(list_eq(Cons(True, Empty), Cons(True, Empty), bool_eq) == True)\n",
    "assert(list_eq(Cons(True, Empty), Empty, bool_eq) == False)\n",
    "assert(list_eq(Cons(True, Cons(False, Empty)), Cons(True, Cons(True, Empty)), bool_eq) == False)\n",
    "passed(4)"
   ]
  }
 ],
 "metadata": {
  "celltoolbar": "Create Assignment",
  "kernelspec": {
   "display_name": "Scala",
   "language": "scala",
   "name": "scala"
  },
  "language_info": {
   "codemirror_mode": "text/x-scala",
   "file_extension": ".scala",
   "mimetype": "text/x-scala",
   "name": "scala211",
   "nbconvert_exporter": "script",
   "pygments_lexer": "scala",
   "version": "2.11.11"
  }
 },
 "nbformat": 4,
 "nbformat_minor": 2
}
