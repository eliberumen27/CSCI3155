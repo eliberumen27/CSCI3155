{
 "cells": [
  {
   "cell_type": "code",
   "execution_count": 39,
   "metadata": {},
   "outputs": [
    {
     "data": {
      "text/plain": [
       "\u001b[32mimport \u001b[39m\u001b[36m$file.$        \n",
       "\u001b[39m\n",
       "\u001b[32mimport \u001b[39m\u001b[36mhw8stdlib._\u001b[39m"
      ]
     },
     "execution_count": 39,
     "metadata": {},
     "output_type": "execute_result"
    }
   ],
   "source": [
    "import $file.hw8stdlib\n",
    "import hw8stdlib._"
   ]
  },
  {
   "cell_type": "code",
   "execution_count": 2,
   "metadata": {},
   "outputs": [
    {
     "data": {
      "text/plain": [
       "defined \u001b[32mtype\u001b[39m \u001b[36mParser\u001b[39m\n",
       "defined \u001b[32mfunction\u001b[39m \u001b[36mchar\u001b[39m\n",
       "defined \u001b[32mfunction\u001b[39m \u001b[36msuccess\u001b[39m\n",
       "defined \u001b[32mfunction\u001b[39m \u001b[36mfailure\u001b[39m\n",
       "defined \u001b[32mfunction\u001b[39m \u001b[36mchoose\u001b[39m"
      ]
     },
     "execution_count": 2,
     "metadata": {},
     "output_type": "execute_result"
    }
   ],
   "source": [
    "type Parser[S,D] = List[S] => List[(D, List[S])]\n",
    "\n",
    "def char(c : Char) : Parser[Char,Char] = \n",
    "(ss : List[Char]) => ss match {\n",
    "    case Empty      => Empty\n",
    "    case Cons(s,ss) => char_eq(s,c) match {\n",
    "        case True  => singleton((s, ss))\n",
    "        case False => Empty\n",
    "    }\n",
    "}\n",
    "\n",
    "def success[S, D](x : D) : Parser[S, D] = \n",
    "  (ss : List[S]) => singleton((x, ss))\n",
    "\n",
    "def failure[S, D]() : Parser[S,D] = (ss : List[S]) => Empty\n",
    "\n",
    "def choose[S, D](p : Parser[S, D], q : Parser[S, D]) : Parser[S, D] = (ss : List[S]) =>\n",
    "{\n",
    "    val p_res = p(ss)\n",
    "    val q_res = q(ss)\n",
    "    append(p_res, q_res)\n",
    "} "
   ]
  },
  {
   "cell_type": "markdown",
   "metadata": {},
   "source": [
    "# Homework 8\n",
    "\n",
    "In this week's homework we will build up more interesting parsers by creating some new combinators using `bind`"
   ]
  },
  {
   "cell_type": "markdown",
   "metadata": {},
   "source": [
    "## RunParser\n",
    "\n",
    "`runParser` is a useful function for running a parser on an input. You will see it used in some of the examples below."
   ]
  },
  {
   "cell_type": "code",
   "execution_count": 3,
   "metadata": {},
   "outputs": [
    {
     "data": {
      "text/plain": [
       "defined \u001b[32mfunction\u001b[39m \u001b[36mrunParser\u001b[39m"
      ]
     },
     "execution_count": 3,
     "metadata": {},
     "output_type": "execute_result"
    }
   ],
   "source": [
    "def runParser[D](p : Parser[Char, D], s : String) : Maybe[D] = p(string_to_list(s)) match {\n",
    "    case Empty                   => Nothing\n",
    "    case Cons((x, Empty), Empty) => Just(x)\n",
    "    case _                       => Nothing\n",
    "}"
   ]
  },
  {
   "cell_type": "markdown",
   "metadata": {},
   "source": [
    "# Problem 1 - `satisfies` (10 points)\n",
    "\n",
    "For the following type:\n",
    "\n",
    "$$\n",
    "\\text{satisfies } : \\underbrace{(S \\rightarrow \\mathbb{B})}_{\\text{predicate}} \\rightarrow \\textbf{Parser } S\\: \\textbf{Char}\n",
    "$$\n",
    "\n",
    "Implement `satisfies` such that it successfully parses a symbol that the predicate is true for and fails if the predicate is false. \n",
    "\n",
    "***hint*** The implementation of `char` above may be helpful as a starting point."
   ]
  },
  {
   "cell_type": "code",
   "execution_count": 28,
   "metadata": {},
   "outputs": [
    {
     "data": {
      "text/plain": [
       "defined \u001b[32mfunction\u001b[39m \u001b[36msatisfies\u001b[39m"
      ]
     },
     "execution_count": 28,
     "metadata": {},
     "output_type": "execute_result"
    }
   ],
   "source": [
    "def satisfies[S](p : (S => Bool)) : Parser[S, S] = (ss : List[S]) => ss match {\n",
    "    case Empty      => Empty\n",
    "    case Cons(s,ss) => p(s) match {\n",
    "        case True  => singleton((s, ss))\n",
    "        case False => Empty\n",
    "    }\n",
    "}\n",
    "// Comparing p with ???\n",
    "\n",
    "// Is asking if something satisfied the condition, meaning we take the argument p and call that function\n",
    "// Essentially we are trying to see if p(something) is true\n",
    "// val sat = Satisfies((x) => (x==3))\n",
    "// sat(3) We then want to know if this evaluates to true\n",
    "\n",
    "// example with char when given char('a')(x)\n",
    "// For the above we want to know if char equals x\n",
    "// By making satisfies we are making a more generic version of it\n",
    "\n",
    "// 5 character difference between char and satisfies( thinkg more generic than just char)"
   ]
  },
  {
   "cell_type": "markdown",
   "metadata": {},
   "source": [
    "# Bind - Sequencing our Parses\n",
    "\n",
    "`bind` allows us to sequence parses. It can be a little confusing at first but with some practice it becomes very intuitive to use.\n",
    "\n",
    "The type for bind is: \n",
    "\n",
    "\n",
    "$$\n",
    "\\textbf{bind } : \\underbrace{\\textbf{Parser } S\\ D_1\\ }_{p_1\\text{ - First Parser}}\\rightarrow \\underbrace{(D_1 \\rightarrow \\textbf{Parser } S\\ D_2\\ )}_{p_2\\text{ - Generator for Second Parser}} \\rightarrow \\underbrace{\\textbf{Parser } S\\ D_2}_{p_1p_2\\text{ - Composite Parser} }\n",
    "$$\n",
    "\n",
    "Let's break down each part of this signature:\n",
    "\n",
    "* $p_1$ is the first parser we will use on an input. It will give us a parsed result of type $D_1$. We will then feed this result into the next part.\n",
    "* $p_2$ is a generator for a parser which takes, as an argument something of type $D_1$, and returns a parser which gives results of type $D_2$. `bind` takes the result of running the first parser $p_1$ on some input and then feeds that result into this function, producing the output type for `bind`- $\\textbf{Parser } S\\ D_2$\n",
    "\n",
    "Here is the implementation of `bind`. Don't worry too much about how it works. We will get an intuition for it through some examples."
   ]
  },
  {
   "cell_type": "code",
   "execution_count": 29,
   "metadata": {},
   "outputs": [
    {
     "data": {
      "text/plain": [
       "defined \u001b[32mfunction\u001b[39m \u001b[36mbind\u001b[39m"
      ]
     },
     "execution_count": 29,
     "metadata": {},
     "output_type": "execute_result"
    }
   ],
   "source": [
    "def bind[S, D, E](p : Parser[S,D], q : (D => Parser[S,E]) ) : Parser[S,E] = \n",
    "  (ss : List[S]) => {\n",
    "      val join = (res : (D, List[S])) => res match {case (d, ss2) => q(d)(ss2)}\n",
    "      concatMap(join, p(ss))\n",
    "  } "
   ]
  },
  {
   "cell_type": "markdown",
   "metadata": {},
   "source": [
    "## Example 1 - $ a $ then $b$\n",
    "\n",
    "In this example we will write a parser which recognizes the sequence of characters `\"ab\"`. We can begin by defining the parser for the first letter, `'a'`. For this we just need to use `char`:"
   ]
  },
  {
   "cell_type": "code",
   "execution_count": 30,
   "metadata": {},
   "outputs": [
    {
     "data": {
      "text/plain": [
       "defined \u001b[32mfunction\u001b[39m \u001b[36mparseLetterA\u001b[39m"
      ]
     },
     "execution_count": 30,
     "metadata": {},
     "output_type": "execute_result"
    }
   ],
   "source": [
    "def parseLetterA : Parser[Char,Char] = char('a')"
   ]
  },
  {
   "cell_type": "markdown",
   "metadata": {},
   "source": [
    "`parseLetterA` will be the first argument to `bind`. The next thing we need is a function of type:  $D_1 \\rightarrow \\textbf{Parser } S\\ D_2$\n",
    "\n",
    "We will start by defining the parser for just the letter B:"
   ]
  },
  {
   "cell_type": "code",
   "execution_count": 31,
   "metadata": {},
   "outputs": [
    {
     "data": {
      "text/plain": [
       "defined \u001b[32mfunction\u001b[39m \u001b[36mparseLetterB\u001b[39m"
      ]
     },
     "execution_count": 31,
     "metadata": {},
     "output_type": "execute_result"
    }
   ],
   "source": [
    "def parseLetterB : Parser[Char, Char] = char('b')"
   ]
  },
  {
   "cell_type": "markdown",
   "metadata": {},
   "source": [
    "We would like our parse result to be a list of characters that contains \"ab\"(which makes $D_2 = \\textbf{List Char}$). We also know that the result of the first parser is a character(This means $D_1 = \\textbf{Char}$) This specializes this type to: $\\textbf{Char} \\rightarrow \\textbf{Parser } S\\ (\\textbf{List Char})$. \n"
   ]
  },
  {
   "cell_type": "markdown",
   "metadata": {},
   "source": [
    "We will say that this is a parser that takes a letter and then parses a `'b'`. After doing this it combines them into a list of characters. "
   ]
  },
  {
   "cell_type": "code",
   "execution_count": 32,
   "metadata": {},
   "outputs": [
    {
     "data": {
      "text/plain": [
       "defined \u001b[32mfunction\u001b[39m \u001b[36mparseLetterThenB\u001b[39m"
      ]
     },
     "execution_count": 32,
     "metadata": {},
     "output_type": "execute_result"
    }
   ],
   "source": [
    "def parseLetterThenB(x : Char) : Parser[Char, List[Char]] = bind(parseLetterB, \n",
    "                                                             (letterb : Char) => \n",
    "                                                                  success(Cons(x, Cons(letterb, Empty))))\n",
    "// bind(parseA, parseLetterThenB)(s1) Which passes in A as \"Letter\" x in the second parser and we eventually construct the list a b c\n",
    "// Singleton turns something into a Cons so we can work with it\n",
    "// Success wraps things to make them a parser(ie: value x which was passed in and then next go to value b which was the result of the original parser)"
   ]
  },
  {
   "cell_type": "markdown",
   "metadata": {},
   "source": [
    "Above we provided bind a parser for the letter `'b'` and a lambda-function which takes the result of that parse and combines it with the letter `x` that was passed in as an argument.\n",
    "\n",
    "Now that we have this we can combine it all into our final parser for `\"ab\"`:"
   ]
  },
  {
   "cell_type": "code",
   "execution_count": 33,
   "metadata": {},
   "outputs": [
    {
     "data": {
      "text/plain": [
       "defined \u001b[32mfunction\u001b[39m \u001b[36mparseAThenB\u001b[39m"
      ]
     },
     "execution_count": 33,
     "metadata": {},
     "output_type": "execute_result"
    }
   ],
   "source": [
    "def parseAThenB : Parser[Char, List[Char]] = bind(parseLetterA, parseLetterThenB)"
   ]
  },
  {
   "cell_type": "markdown",
   "metadata": {},
   "source": [
    "If we test this we will notice it behaves as we would expect:"
   ]
  },
  {
   "cell_type": "code",
   "execution_count": 34,
   "metadata": {},
   "outputs": [
    {
     "data": {
      "text/plain": [
       "\u001b[36mres33\u001b[39m: \u001b[32mList\u001b[39m[(\u001b[32mList\u001b[39m[\u001b[32mChar\u001b[39m], \u001b[32mList\u001b[39m[\u001b[32mChar\u001b[39m])] = \u001b[33mCons\u001b[39m(\n",
       "  (\u001b[33mCons\u001b[39m(\u001b[32m'a'\u001b[39m, \u001b[33mCons\u001b[39m(\u001b[32m'b'\u001b[39m, Empty)), Empty),\n",
       "  Empty\n",
       ")"
      ]
     },
     "execution_count": 34,
     "metadata": {},
     "output_type": "execute_result"
    }
   ],
   "source": [
    "parseAThenB(string_to_list(\"ab\"))"
   ]
  },
  {
   "cell_type": "markdown",
   "metadata": {},
   "source": [
    "## Example 2 - $abc$\n",
    "\n",
    "Writing parsers as a bunch of small functions like this often becomes cumbersome so we prefer to write them as a single definition using several calls to `bind` at once. Here is an example of this for the string `\"abc\"`:"
   ]
  },
  {
   "cell_type": "code",
   "execution_count": 35,
   "metadata": {},
   "outputs": [
    {
     "data": {
      "text/plain": [
       "defined \u001b[32mfunction\u001b[39m \u001b[36mparseABC\u001b[39m"
      ]
     },
     "execution_count": 35,
     "metadata": {},
     "output_type": "execute_result"
    }
   ],
   "source": [
    "def parseABC : Parser[Char, List[Char]]  = bind(char('a'), \n",
    "                           (p_a : Char) => bind(char('b'), \n",
    "                           (p_b : Char) => bind(char('c'),\n",
    "                           (p_c : Char) => success(Cons(p_a, Cons(p_b, Cons(p_c, Empty)))))))"
   ]
  },
  {
   "cell_type": "markdown",
   "metadata": {},
   "source": [
    "Here is a quick proof that it works:"
   ]
  },
  {
   "cell_type": "code",
   "execution_count": 36,
   "metadata": {},
   "outputs": [
    {
     "data": {
      "text/plain": [
       "\u001b[36mres35_0\u001b[39m: \u001b[32mMaybe\u001b[39m[\u001b[32mList\u001b[39m[\u001b[32mChar\u001b[39m]] = \u001b[33mJust\u001b[39m(\u001b[33mCons\u001b[39m(\u001b[32m'a'\u001b[39m, \u001b[33mCons\u001b[39m(\u001b[32m'b'\u001b[39m, \u001b[33mCons\u001b[39m(\u001b[32m'c'\u001b[39m, Empty))))\n",
       "\u001b[36mres35_1\u001b[39m: \u001b[32mMaybe\u001b[39m[\u001b[32mList\u001b[39m[\u001b[32mChar\u001b[39m]] = Nothing"
      ]
     },
     "execution_count": 36,
     "metadata": {},
     "output_type": "execute_result"
    }
   ],
   "source": [
    "runParser(parseABC, \"abc\")\n",
    "runParser(parseABC, \"xyz\")"
   ]
  },
  {
   "cell_type": "markdown",
   "metadata": {},
   "source": [
    "To read the function above just take each call to `bind` to mean that we are calling a parser and using its result. So on the second line we have $p_a$ which is the character that resulted from parsing $\\text{char}('a')$. In the next bind we have access to both $p_a$ and $p_b$. In the third we have all three results and can combine them into the list we wanted. We need to wrap this list up in `success` so that it has the necessary type($\\textbf{Parser Char (List Char)}$)\n",
    "\n",
    "***Note on Layout*** We strongly recommend laying out calls to bind on multiple lines for readability. It need not be in the same manner as we have done here though. For instance the lambda terms could have been on the same line as their bind call. Any kind of spacing that helps read the code is a good idea here."
   ]
  },
  {
   "cell_type": "markdown",
   "metadata": {},
   "source": [
    "## `string` - A New Combinator\n",
    "\n",
    "The two examples above are examples of a more general class of parsers where we wish to parse some specific combination of characters, or a string. We can write a special parser generator which takes a string and creates a parser for that string:"
   ]
  },
  {
   "cell_type": "code",
   "execution_count": 37,
   "metadata": {},
   "outputs": [
    {
     "data": {
      "text/plain": [
       "defined \u001b[32mfunction\u001b[39m \u001b[36mstringL\u001b[39m\n",
       "defined \u001b[32mfunction\u001b[39m \u001b[36mstring\u001b[39m"
      ]
     },
     "execution_count": 37,
     "metadata": {},
     "output_type": "execute_result"
    }
   ],
   "source": [
    "def stringL(ss : List[Char]) : Parser[Char, List[Char]] = ss match {\n",
    "    case Empty      => success(Empty)\n",
    "    case Cons(s,ss) =>        bind(char(s), \n",
    "         (c : Char)        => bind(stringL(ss),\n",
    "         (cs : List[Char]) => success(Cons(c,cs)) ))\n",
    "}\n",
    "\n",
    "def string(str : String) : Parser[Char, List[Char]] = stringL(string_to_list(str))"
   ]
  },
  {
   "cell_type": "code",
   "execution_count": 38,
   "metadata": {},
   "outputs": [
    {
     "data": {
      "text/plain": [
       "\u001b[36mres37\u001b[39m: \u001b[32mMaybe\u001b[39m[\u001b[32mList\u001b[39m[\u001b[32mChar\u001b[39m]] = \u001b[33mJust\u001b[39m(\u001b[33mCons\u001b[39m(\u001b[32m'a'\u001b[39m, \u001b[33mCons\u001b[39m(\u001b[32m'b'\u001b[39m, \u001b[33mCons\u001b[39m(\u001b[32m'c'\u001b[39m, Empty))))"
      ]
     },
     "execution_count": 38,
     "metadata": {},
     "output_type": "execute_result"
    }
   ],
   "source": [
    "runParser(string(\"abc\"), \"abc\")"
   ]
  },
  {
   "cell_type": "markdown",
   "metadata": {},
   "source": [
    "# Problem 2 - Lettuce Keywords (10 points)\n",
    "\n",
    "Write a parser, using `string` and `choice` which accepts the strings `\"let\"`, `\"in\"`, `\"function\"`, and `\"rec\"`"
   ]
  },
  {
   "cell_type": "code",
   "execution_count": null,
   "metadata": {},
   "outputs": [],
   "source": [
    "// SOLUTION \n",
    "def parseKeywords : Parser[Char, List[Char]] = ???"
   ]
  },
  {
   "cell_type": "markdown",
   "metadata": {},
   "source": [
    "If your solution is correct the following examples should be parsed successfully:"
   ]
  },
  {
   "cell_type": "code",
   "execution_count": null,
   "metadata": {},
   "outputs": [],
   "source": [
    "runParser(parseKeywords, \"let\")\n",
    "runParser(parseKeywords, \"rec\")\n",
    "runParser(parseKeywords, \"function\")\n",
    "runParser(parseKeywords, \"in\")"
   ]
  },
  {
   "cell_type": "markdown",
   "metadata": {},
   "source": [
    "and the following examples should fail:"
   ]
  },
  {
   "cell_type": "code",
   "execution_count": null,
   "metadata": {},
   "outputs": [],
   "source": [
    "runParser(parseKeywords, \"x\")\n",
    "runParser(parseKeywords, \"or\")\n",
    "runParser(parseKeywords, \"functio\")\n",
    "runParser(parseKeywords, \"ni\")"
   ]
  },
  {
   "cell_type": "markdown",
   "metadata": {},
   "source": [
    "# Problem 3 - `mapParser` (10 points)\n",
    "\n",
    "One thing we may want to do to a parser is apply a function to its results. A function that does this could have the type:\n",
    "\n",
    "$$\n",
    "\\text{mapParser} : (A \\rightarrow B) \\rightarrow \\textbf{Parser } S\\: A\\: \\rightarrow \\textbf{Parser } S\\: B\n",
    "$$\n",
    "\n",
    "We do something very much like this by applying cons to the result of our parsers above. Using `bind` write the `mapParser` function below:"
   ]
  },
  {
   "cell_type": "code",
   "execution_count": null,
   "metadata": {},
   "outputs": [],
   "source": [
    "def mapParser[S,A,B](f : (A => B), p : Parser[S,A]) : Parser[S,B] = ???"
   ]
  },
  {
   "cell_type": "code",
   "execution_count": null,
   "metadata": {},
   "outputs": [],
   "source": []
  },
  {
   "cell_type": "code",
   "execution_count": null,
   "metadata": {},
   "outputs": [],
   "source": []
  }
 ],
 "metadata": {
  "kernelspec": {
   "display_name": "Scala",
   "language": "scala",
   "name": "scala"
  },
  "language_info": {
   "codemirror_mode": "text/x-scala",
   "file_extension": ".scala",
   "mimetype": "text/x-scala",
   "name": "scala",
   "nbconvert_exporter": "script",
   "version": "2.12.8"
  }
 },
 "nbformat": 4,
 "nbformat_minor": 2
}
