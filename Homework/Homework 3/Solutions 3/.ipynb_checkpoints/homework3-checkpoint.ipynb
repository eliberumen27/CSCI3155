{
 "cells": [
  {
   "cell_type": "code",
   "execution_count": 1,
   "metadata": {
    "nbgrader": {
     "grade": false,
     "grade_id": "cell-597e59ae79505596",
     "locked": true,
     "schema_version": 1,
     "solution": false
    }
   },
   "outputs": [
    {
     "data": {
      "text/plain": [
       "\u001b[32mimport \u001b[39m\u001b[36m$file.$            \n",
       "\u001b[39m\n",
       "\u001b[32mimport \u001b[39m\u001b[36mhw3stdlib_new._\u001b[39m"
      ]
     },
     "execution_count": 1,
     "metadata": {},
     "output_type": "execute_result"
    }
   ],
   "source": [
    "import $file.hw3stdlib_new\n",
    "import hw3stdlib_new._"
   ]
  },
  {
   "cell_type": "markdown",
   "metadata": {
    "nbgrader": {
     "grade": false,
     "grade_id": "cell-2c05ba4d46efec6c",
     "locked": true,
     "schema_version": 1,
     "solution": false
    }
   },
   "source": [
    "# Homework 3\n",
    "\n",
    "Due 9/22 at 11:59pm\n",
    "\n",
    "## Submission Instructions\n",
    "Upload only this .ipynb file to Canvas. Do not add anything to hw2stdlib since you can't submit it.\n",
    "\n",
    "In this homework we will develop more higher order functions and learn how to use fold.\n",
    "\n",
    "See [This link](https://www.notion.so/Guidelines-for-Programming-Homework-dbd25efa7bb24915ae6bcb06827fc5b6) for what is and isn't allowed in your code. "
   ]
  },
  {
   "cell_type": "markdown",
   "metadata": {
    "nbgrader": {
     "grade": false,
     "grade_id": "cell-f5597f5037957d34",
     "locked": true,
     "schema_version": 1,
     "solution": false
    }
   },
   "source": [
    "## Problem 1 (5 Points)\n",
    "\n",
    "Write the filter function. Remember that this should be polymorphic. So:\n",
    "\n",
    "$$\n",
    "filter : (a \\rightarrow \\mathbb{B}) \\rightarrow List\\ a \\rightarrow List\\ a\n",
    "$$\n",
    "\n",
    "Do not curry the parameters in the Scala version. If the predicate (The function we give it) is true for an element, then that element will be in the output list. If it's false leave it out."
   ]
  },
  {
   "cell_type": "code",
   "execution_count": 2,
   "metadata": {
    "nbgrader": {
     "grade": false,
     "grade_id": "cell-9b2228c9dd99027a",
     "locked": false,
     "schema_version": 1,
     "solution": true
    }
   },
   "outputs": [
    {
     "data": {
      "text/plain": [
       "defined \u001b[32mfunction\u001b[39m \u001b[36mfilter\u001b[39m"
      ]
     },
     "execution_count": 2,
     "metadata": {},
     "output_type": "execute_result"
    }
   ],
   "source": [
    "// BEGIN SOLUTION\n",
    "def filter[A](p : (A => Bool), xs : List[A]) : List[A] = xs match {\n",
    "    case Empty       => Empty\n",
    "    case Cons(x, xs) => p(x) match {\n",
    "        case True  => Cons(x, filter(p, xs))\n",
    "        case False => filter(p, xs)\n",
    "    }\n",
    "}\n",
    "// END SOLUTION"
   ]
  },
  {
   "cell_type": "code",
   "execution_count": 3,
   "metadata": {
    "nbgrader": {
     "grade": true,
     "grade_id": "cell-b64b76d103b58574",
     "locked": true,
     "points": 4,
     "schema_version": 1,
     "solution": false
    }
   },
   "outputs": [
    {
     "name": "stdout",
     "output_type": "stream",
     "text": [
      "\n",
      "*** Tests Passed (4 points) ***\n"
     ]
    }
   ],
   "source": [
    "assert(filter((n: Nat) => lte(n, two), Cons(three, Cons(two, Empty))) == Cons(two, Empty), 1)\n",
    "assert(filter((n: Nat) => lte(n, two), Empty) == Empty, 2)\n",
    "assert(filter((n: Nat) => lte(n, four), Cons(three, Cons(two, Empty))) == Cons(three, Cons(two, Empty)), 3)\n",
    "passed(4)"
   ]
  },
  {
   "cell_type": "code",
   "execution_count": 4,
   "metadata": {
    "nbgrader": {
     "grade": true,
     "grade_id": "cell-0539a9bbd0c1b24e",
     "locked": true,
     "points": 1,
     "schema_version": 1,
     "solution": false
    }
   },
   "outputs": [],
   "source": [
    "// HIDDEN TEST (1 pts)\n",
    "// BEGIN HIDDEN TESTS\n",
    "assert(filter((n: Nat) => lte(n, five), Cons(three, Cons(three, Cons(two, Empty)))) == Cons(three, Cons(three, Cons(two, Empty))))\n",
    "assert(filter((n: Nat) => lte(n, one), Cons(three, Cons(two, Empty))) == Empty)\n",
    "// END HIDDEN TESTS"
   ]
  },
  {
   "cell_type": "markdown",
   "metadata": {
    "nbgrader": {
     "grade": false,
     "grade_id": "cell-5b532dfa9d048094",
     "locked": true,
     "schema_version": 1,
     "solution": false
    }
   },
   "source": [
    "### Problem 2 (5 Points)\n",
    "\n",
    "Implement the same filter function using a `fold`. Name it `filterWithFold`. (Hint, take a look at the `append` and / or `reverse` functions in the standard library)."
   ]
  },
  {
   "cell_type": "code",
   "execution_count": 5,
   "metadata": {
    "nbgrader": {
     "grade": false,
     "grade_id": "cell-16f7380070a66d8e",
     "locked": false,
     "schema_version": 1,
     "solution": true
    }
   },
   "outputs": [
    {
     "data": {
      "text/plain": [
       "defined \u001b[32mfunction\u001b[39m \u001b[36mfilterWithFold\u001b[39m"
      ]
     },
     "execution_count": 5,
     "metadata": {},
     "output_type": "execute_result"
    }
   ],
   "source": [
    "// END SOLUTION\n",
    "def filterWithFold[A](p : (A => Bool), xs : List[A]) : List[A] = \n",
    "    reverse(fold((x: A, kept: List[A]) => p(x) match {\n",
    "        case True  => Cons(x, kept)\n",
    "        case False => kept\n",
    "    }, Empty, xs))\n",
    "// END SOLUTION"
   ]
  },
  {
   "cell_type": "code",
   "execution_count": 6,
   "metadata": {
    "nbgrader": {
     "grade": true,
     "grade_id": "cell-49c4b0530d9db3ca",
     "locked": true,
     "points": 4,
     "schema_version": 1,
     "solution": false
    }
   },
   "outputs": [
    {
     "name": "stdout",
     "output_type": "stream",
     "text": [
      "\n",
      "*** Tests Passed (4 points) ***\n"
     ]
    }
   ],
   "source": [
    "assert(filterWithFold((n: Nat) => lte(n, two), Cons(three, Cons(two, Empty))) == Cons(two, Empty), 1)\n",
    "assert(filterWithFold((n: Nat) => lte(n, two), Empty) == Empty, 2)\n",
    "assert(filterWithFold((n: Nat) => lte(n, four), Cons(three, Cons(two, Empty))) == Cons(three, Cons(two, Empty)), 3)\n",
    "passed(4)"
   ]
  },
  {
   "cell_type": "code",
   "execution_count": 7,
   "metadata": {
    "nbgrader": {
     "grade": true,
     "grade_id": "cell-633a0587e8ffb49f",
     "locked": true,
     "points": 1,
     "schema_version": 1,
     "solution": false
    }
   },
   "outputs": [],
   "source": [
    "// HIDDEN TEST (1 pts)\n",
    "// BEGIN HIDDEN TESTS\n",
    "assert(filterWithFold((n: Nat) => lte(n, five), Cons(three, Cons(three, Cons(two, Empty)))) == Cons(three, Cons(three, Cons(two, Empty))))\n",
    "assert(filterWithFold((n: Nat) => lte(n, one), Cons(three, Cons(two, Empty))) == Empty)\n",
    "// END HIDDEN TESTS"
   ]
  },
  {
   "cell_type": "markdown",
   "metadata": {
    "nbgrader": {
     "grade": false,
     "grade_id": "cell-a1e41daa75173c0c",
     "locked": true,
     "schema_version": 1,
     "solution": false
    }
   },
   "source": [
    "### Problem 3 (5 points)\n",
    "Implement a function $$ifThenElse: \\mathbb{B} \\rightarrow a \\rightarrow a \\rightarrow a$$ which chooses either the first $A$ given if the bool is true or the second if it's false."
   ]
  },
  {
   "cell_type": "code",
   "execution_count": 8,
   "metadata": {
    "nbgrader": {
     "grade": false,
     "grade_id": "cell-bcd9251068007fe3",
     "locked": false,
     "schema_version": 1,
     "solution": true
    }
   },
   "outputs": [
    {
     "data": {
      "text/plain": [
       "defined \u001b[32mfunction\u001b[39m \u001b[36mifThenElse\u001b[39m\n",
       "defined \u001b[32mfunction\u001b[39m \u001b[36mifThenElse_alt\u001b[39m"
      ]
     },
     "execution_count": 8,
     "metadata": {},
     "output_type": "execute_result"
    }
   ],
   "source": [
    "// BEGIN SOLUTION\n",
    "def ifThenElse[A](test: Bool)(then: A)(otherwise: A): A = test match {\n",
    "    case True => then\n",
    "    case False => otherwise\n",
    "}\n",
    "\n",
    "// Alternatively:\n",
    "def ifThenElse_alt[A](test: Bool): A => A => A = \n",
    "    test match {\n",
    "        case True => (then => otherwise => then)\n",
    "        case False => (then => otherwise => otherwise)\n",
    "    }\n",
    "// END SOLUTION"
   ]
  },
  {
   "cell_type": "code",
   "execution_count": 9,
   "metadata": {
    "nbgrader": {
     "grade": true,
     "grade_id": "cell-fc7f7449ac47fa14",
     "locked": true,
     "points": 4,
     "schema_version": 1,
     "solution": false
    }
   },
   "outputs": [
    {
     "name": "stdout",
     "output_type": "stream",
     "text": [
      "\n",
      "*** Tests Passed (4 points) ***\n"
     ]
    }
   ],
   "source": [
    "assert(ifThenElse(True)(one)(two) == one)\n",
    "assert(ifThenElse(False)(one)(two) == two)\n",
    "passed(4)"
   ]
  },
  {
   "cell_type": "code",
   "execution_count": 10,
   "metadata": {
    "nbgrader": {
     "grade": true,
     "grade_id": "cell-d4683268f4a95148",
     "locked": true,
     "points": 1,
     "schema_version": 1,
     "solution": false
    }
   },
   "outputs": [],
   "source": [
    "// HIDDEN TEST (1 pts)\n",
    "// BEGIN HIDDEN TESTS\n",
    "assert(ifThenElse[Bool](True)(True)(False) == True)\n",
    "assert(ifThenElse[Bool](False)(False)(True) == True)\n",
    "// END HIDDEN TESTS"
   ]
  },
  {
   "cell_type": "markdown",
   "metadata": {
    "nbgrader": {
     "grade": false,
     "grade_id": "cell-66e4b323026583ec",
     "locked": true,
     "schema_version": 1,
     "solution": false
    }
   },
   "source": [
    "### Problem 4 (5 points)\n",
    "Implement the `Maybe` type:\n",
    "$$\n",
    "\\begin{align}\n",
    "Maybe\\ a\\ :=\\ \\text{None}\\ \\mid\\ \\text{Just}\\ a\\\n",
    "\\end{align}\n",
    "$$\n",
    "Take a look at the definition of `List` in the stdlib as a starting point"
   ]
  },
  {
   "cell_type": "code",
   "execution_count": 11,
   "metadata": {
    "nbgrader": {
     "grade": false,
     "grade_id": "cell-9ee3e730ef837143",
     "locked": false,
     "schema_version": 1,
     "solution": true
    }
   },
   "outputs": [
    {
     "data": {
      "text/plain": [
       "defined \u001b[32mtrait\u001b[39m \u001b[36mMaybe\u001b[39m\n",
       "defined \u001b[32mobject\u001b[39m \u001b[36mNone\u001b[39m\n",
       "defined \u001b[32mclass\u001b[39m \u001b[36mJust\u001b[39m"
      ]
     },
     "execution_count": 11,
     "metadata": {},
     "output_type": "execute_result"
    }
   ],
   "source": [
    "sealed trait Maybe[+A]\n",
    "case object None extends Maybe[Nothing]\n",
    "case class Just[A](x : A) extends Maybe[A]"
   ]
  },
  {
   "cell_type": "code",
   "execution_count": 12,
   "metadata": {
    "nbgrader": {
     "grade": true,
     "grade_id": "cell-7c1e8b1d9b6f1079",
     "locked": true,
     "points": 4,
     "schema_version": 1,
     "solution": false
    }
   },
   "outputs": [
    {
     "name": "stdout",
     "output_type": "stream",
     "text": [
      "\n",
      "*** Tests Passed (4 points) ***\n"
     ]
    },
    {
     "data": {
      "text/plain": [
       "\u001b[36mmx\u001b[39m: \u001b[32mMaybe\u001b[39m[\u001b[32mNat\u001b[39m] = None\n",
       "\u001b[36mmy\u001b[39m: \u001b[32mJust\u001b[39m[\u001b[32mSucc\u001b[39m] = Just(Succ(Succ(Succ(Zero))))\n",
       "\u001b[36mres11_2\u001b[39m: \u001b[32mSucc\u001b[39m = Succ(Succ(Zero))"
      ]
     },
     "execution_count": 12,
     "metadata": {},
     "output_type": "execute_result"
    }
   ],
   "source": [
    "val mx: Maybe[Nat] = None\n",
    "val my = Just(three)\n",
    "(None: Maybe[Nat]) match {\n",
    "    case None => two\n",
    "    case Just(n) => three\n",
    "}\n",
    "passed(4)"
   ]
  },
  {
   "cell_type": "code",
   "execution_count": 13,
   "metadata": {
    "nbgrader": {
     "grade": true,
     "grade_id": "cell-8201540dbf3222f9",
     "locked": true,
     "points": 1,
     "schema_version": 1,
     "solution": false
    }
   },
   "outputs": [
    {
     "data": {
      "text/plain": [
       "\u001b[36mmy\u001b[39m: \u001b[32mJust\u001b[39m[\u001b[32mJust\u001b[39m[\u001b[32mNone\u001b[39m.type]] = \u001b[33mJust\u001b[39m(\u001b[33mJust\u001b[39m(None))"
      ]
     },
     "execution_count": 13,
     "metadata": {},
     "output_type": "execute_result"
    }
   ],
   "source": [
    "// HIDDEN TEST (1 pts)\n",
    "// BEGIN HIDDEN TESTS\n",
    "val my = Just(Just(None))\n",
    "// END HIDDEN TESTS"
   ]
  },
  {
   "cell_type": "markdown",
   "metadata": {
    "nbgrader": {
     "grade": false,
     "grade_id": "cell-c0793fcb256b6308",
     "locked": true,
     "schema_version": 1,
     "solution": false
    }
   },
   "source": [
    "### Problem 5 (5 points)\n",
    "Implement\n",
    "\n",
    "$$\n",
    "map: (a \\rightarrow b) \\rightarrow Maybe\\ a \\rightarrow Maybe\\ b\n",
    "$$\n",
    "\n",
    "Don't curry the function in the Scala implementation. Similarly to lists, it should return `None` if given `None` and should return `Just(f(value))` if it contains a value."
   ]
  },
  {
   "cell_type": "code",
   "execution_count": 14,
   "metadata": {
    "nbgrader": {
     "grade": false,
     "grade_id": "cell-2798ee2b3f2a50f6",
     "locked": false,
     "schema_version": 1,
     "solution": true
    }
   },
   "outputs": [
    {
     "data": {
      "text/plain": [
       "defined \u001b[32mfunction\u001b[39m \u001b[36mmap\u001b[39m"
      ]
     },
     "execution_count": 14,
     "metadata": {},
     "output_type": "execute_result"
    }
   ],
   "source": [
    "// BEGIN SOLUTION\n",
    "def map[A,B](f : (A => B), mx : Maybe[A]) : Maybe[B] = mx match {\n",
    "    case None => None\n",
    "    case Just(x) => Just(f(x))\n",
    "}\n",
    "// END SOLUTION"
   ]
  },
  {
   "cell_type": "code",
   "execution_count": 15,
   "metadata": {
    "nbgrader": {
     "grade": true,
     "grade_id": "cell-722112b63bcac170",
     "locked": true,
     "points": 4,
     "schema_version": 1,
     "solution": false
    }
   },
   "outputs": [
    {
     "name": "stdout",
     "output_type": "stream",
     "text": [
      "\n",
      "*** Tests Passed (4 points) ***\n"
     ]
    }
   ],
   "source": [
    "assert(map(plus(_: Nat, four), None) == None)\n",
    "assert(map(plus(_: Nat, four), Just(one)) == Just(five))\n",
    "passed(4)"
   ]
  },
  {
   "cell_type": "code",
   "execution_count": 16,
   "metadata": {
    "nbgrader": {
     "grade": true,
     "grade_id": "cell-0ce38fa2255b8c9d",
     "locked": true,
     "points": 1,
     "schema_version": 1,
     "solution": false
    }
   },
   "outputs": [],
   "source": [
    "// HIDDEN TEST (1 pts)\n",
    "// BEGIN HIDDEN TESTS\n",
    "assert(map(plus(_: Nat, four), None) == None)\n",
    "assert(map(map(plus(_: Nat, three), _: Maybe[Nat]), Just(Just(one))) == Just(Just(four)))\n",
    "// END HIDDEN TESTS"
   ]
  }
 ],
 "metadata": {
  "celltoolbar": "Create Assignment",
  "kernelspec": {
   "display_name": "Scala",
   "language": "scala",
   "name": "scala"
  },
  "language_info": {
   "codemirror_mode": "text/x-scala",
   "file_extension": ".scala",
   "mimetype": "text/x-scala",
   "name": "scala211",
   "nbconvert_exporter": "script",
   "pygments_lexer": "scala",
   "version": "2.11.11"
  }
 },
 "nbformat": 4,
 "nbformat_minor": 2
}
