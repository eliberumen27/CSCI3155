{
 "cells": [
  {
   "cell_type": "code",
   "execution_count": 1,
   "metadata": {
    "nbgrader": {
     "grade": false,
     "grade_id": "cell-8a6c26fde7f1ca2a",
     "locked": true,
     "schema_version": 1,
     "solution": false
    }
   },
   "outputs": [
    {
     "name": "stdout",
     "output_type": "stream",
     "text": [
      "Compiling hw5stdlib.sc\n"
     ]
    },
    {
     "data": {
      "text/plain": [
       "\u001b[32mimport \u001b[39m\u001b[36m$file.$        \n",
       "\u001b[39m\n",
       "\u001b[32mimport \u001b[39m\u001b[36mhw5stdlib._\u001b[39m"
      ]
     },
     "execution_count": 1,
     "metadata": {},
     "output_type": "execute_result"
    }
   ],
   "source": [
    "import $file.hw5stdlib\n",
    "import hw5stdlib._"
   ]
  },
  {
   "cell_type": "markdown",
   "metadata": {
    "nbgrader": {
     "grade": false,
     "grade_id": "cell-31b079288d90dc51",
     "locked": true,
     "schema_version": 1,
     "solution": false
    }
   },
   "source": [
    "# Homework 5\n",
    "\n",
    "In this assignment we will develop some helpful structures for building the next interpreter.\n"
   ]
  },
  {
   "cell_type": "markdown",
   "metadata": {
    "nbgrader": {
     "grade": false,
     "grade_id": "cell-405b57b28eb4f0f0",
     "locked": true,
     "schema_version": 1,
     "solution": false
    }
   },
   "source": [
    "## Dictionaries\n",
    "\n",
    "We will need to define the datatype $\\texttt{Dictionary}$ before we write the first interpreter for lettuce. We'll begin by giving the definition below:\n",
    "\n",
    "$$\n",
    "\\begin{aligned}\n",
    "\\textbf{Dictionary}\\ A\\ B\\ ::&= \\text{EmptyDict} \\\\\n",
    "&\\mid\\ \\text{Entry}\\ A\\ B\\ (\\textbf{Dictionary}\\ A\\ B)\n",
    "\\end{aligned}\n",
    "$$\n",
    "\n",
    "This will create dictionaries of key-value pairs which will be very useful for implementing contexts in the next homework assignment. The definition of this type in Scala is given below:"
   ]
  },
  {
   "cell_type": "code",
   "execution_count": 2,
   "metadata": {
    "nbgrader": {
     "grade": false,
     "grade_id": "cell-c777fe8e435f2d12",
     "locked": false,
     "schema_version": 1,
     "solution": true
    }
   },
   "outputs": [
    {
     "data": {
      "text/plain": [
       "defined \u001b[32mtrait\u001b[39m \u001b[36mDictionary\u001b[39m\n",
       "defined \u001b[32mobject\u001b[39m \u001b[36mEmptyDict\u001b[39m\n",
       "defined \u001b[32mclass\u001b[39m \u001b[36mEntry\u001b[39m"
      ]
     },
     "execution_count": 2,
     "metadata": {},
     "output_type": "execute_result"
    }
   ],
   "source": [
    "sealed trait Dictionary[+A, +B] \n",
    "case object EmptyDict extends Dictionary[Nothing, Nothing]\n",
    "case class Entry[A,B](key : A, value : B, xs : Dictionary[A, B]) extends Dictionary[A, B]"
   ]
  },
  {
   "cell_type": "markdown",
   "metadata": {
    "nbgrader": {
     "grade": false,
     "grade_id": "cell-ad23f96fb3d4306c",
     "locked": true,
     "schema_version": 1,
     "solution": false
    }
   },
   "source": [
    "For both of the following functions you will need to provide a parameter for an equality-checking function. This is so we can check if keys are equal to eachother"
   ]
  },
  {
   "cell_type": "markdown",
   "metadata": {
    "nbgrader": {
     "grade": false,
     "grade_id": "cell-66dfe694215bd90c",
     "locked": true,
     "schema_version": 1,
     "solution": false
    }
   },
   "source": [
    "### Membership(In) (5pts)\n",
    "\n",
    "Write a function called `isIn` which returns `True` if the Dictionary contains a given key and `False` if it does not."
   ]
  },
  {
   "cell_type": "code",
   "execution_count": 11,
   "metadata": {
    "nbgrader": {
     "grade": false,
     "grade_id": "cell-23433950c52a6f5e",
     "locked": false,
     "schema_version": 1,
     "solution": true
    }
   },
   "outputs": [
    {
     "data": {
      "text/plain": [
       "defined \u001b[32mfunction\u001b[39m \u001b[36misIn\u001b[39m"
      ]
     },
     "execution_count": 11,
     "metadata": {},
     "output_type": "execute_result"
    }
   ],
   "source": [
    "// BEGIN SOLUTION\n",
    "def isIn[A,B](eq : ((A,A) => Bool), dict : Dictionary[A,B], k : A ) : Bool = dict match {\n",
    "    case EmptyDict        => False\n",
    "    case Entry(k1, v, kvs) => eq(k,k1) match {\n",
    "        case True  => True\n",
    "        case False => isIn(eq, kvs, k)\n",
    "    }\n",
    "}\n",
    "// END SOLUTION"
   ]
  },
  {
   "cell_type": "code",
   "execution_count": 13,
   "metadata": {
    "nbgrader": {
     "grade": true,
     "grade_id": "cell-4972a9f7ef5db900",
     "locked": true,
     "points": 5,
     "schema_version": 1,
     "solution": false
    }
   },
   "outputs": [
    {
     "name": "stdout",
     "output_type": "stream",
     "text": [
      "\n",
      "*** Tests Passed (5 points) ***\n"
     ]
    }
   ],
   "source": [
    "assert(isIn(nat_eq, Entry(five, True, EmptyDict), five) == True)\n",
    "assert(isIn(nat_eq, Entry(eight, True, Entry(five, True, EmptyDict)), five) == True)\n",
    "assert(isIn(nat_eq, Entry(five, True, EmptyDict), six) == False)\n",
    "assert(isIn(nat_eq, EmptyDict, seven) == False)\n",
    "passed(5)"
   ]
  },
  {
   "cell_type": "markdown",
   "metadata": {
    "nbgrader": {
     "grade": false,
     "grade_id": "cell-9d21f17378934765",
     "locked": true,
     "schema_version": 1,
     "solution": false
    }
   },
   "source": [
    "### Lookup (5 pts)\n",
    "\n",
    "Write a function that retrieves a value that corresponds to a key in a dictionary. If the key is not in the map then return Nothing.\n",
    "\n",
    "$$\n",
    "\\texttt{lookup} : (a \\rightarrow a \\rightarrow \\mathbb{B}) \\rightarrow \\texttt{Dict}\\ a\\ b \\rightarrow a \\rightarrow \\texttt{Maybe}\\ b\n",
    "$$"
   ]
  },
  {
   "cell_type": "code",
   "execution_count": 16,
   "metadata": {
    "nbgrader": {
     "grade": false,
     "grade_id": "cell-2753a17919e5caa9",
     "locked": false,
     "schema_version": 1,
     "solution": true
    }
   },
   "outputs": [
    {
     "data": {
      "text/plain": [
       "defined \u001b[32mfunction\u001b[39m \u001b[36mlookup\u001b[39m"
      ]
     },
     "execution_count": 16,
     "metadata": {},
     "output_type": "execute_result"
    }
   ],
   "source": [
    "// BEGIN SOLUTION\n",
    "def lookup[A,B](eq : (A,A) => Bool, dict : Dictionary[A,B], k : A) : Maybe[B] = dict match {\n",
    "    case EmptyDict        => None\n",
    "    case Entry(k1, v, kvs) => eq(k,k1) match {\n",
    "        case True  => Just(v)\n",
    "        case False => lookup(eq, kvs, k)\n",
    "    }\n",
    "}\n",
    "// END SOLUTION"
   ]
  },
  {
   "cell_type": "code",
   "execution_count": 17,
   "metadata": {
    "nbgrader": {
     "grade": true,
     "grade_id": "cell-efcc8fd55430e3cc",
     "locked": true,
     "points": 5,
     "schema_version": 1,
     "solution": false
    }
   },
   "outputs": [
    {
     "name": "stdout",
     "output_type": "stream",
     "text": [
      "\n",
      "*** Tests Passed (5 points) ***\n"
     ]
    }
   ],
   "source": [
    "assert(lookup(nat_eq, Entry(five, \"ham\", EmptyDict), five) == Just(\"ham\"))\n",
    "assert(lookup(nat_eq, Entry(eight, seven, Entry(five, three, EmptyDict)), five) == Just(three))\n",
    "assert(lookup(nat_eq, Entry(five, True, EmptyDict), six) == None)\n",
    "assert(lookup(nat_eq, EmptyDict, seven) == None)\n",
    "passed(5)"
   ]
  },
  {
   "cell_type": "markdown",
   "metadata": {
    "nbgrader": {
     "grade": false,
     "grade_id": "cell-0bf168c166e56981",
     "locked": true,
     "schema_version": 1,
     "solution": false
    }
   },
   "source": [
    "### Practice using these functions (5 pts)\n",
    "#### Part A\n",
    "Create the following dictionary as a scala value using this definition:\n",
    "```\n",
    "{\n",
    "    five: True,\n",
    "    six: False,\n",
    "    seven: False\n",
    "}\n",
    "```\n",
    "Place it in a variable named \"`ans_3a`\""
   ]
  },
  {
   "cell_type": "code",
   "execution_count": 21,
   "metadata": {
    "nbgrader": {
     "grade": false,
     "grade_id": "cell-d081675d6d53a9cc",
     "locked": false,
     "schema_version": 1,
     "solution": true
    }
   },
   "outputs": [
    {
     "data": {
      "text/plain": [
       "\u001b[36mans_3a\u001b[39m: \u001b[32mEntry\u001b[39m[\u001b[32mSucc\u001b[39m, \u001b[32mProduct\u001b[39m with \u001b[32mSerializable\u001b[39m with \u001b[32mBool\u001b[39m] = Entry(Succ(Succ(Succ(Succ(Succ(Zero))))),True,Entry(Succ(Succ(Succ(Succ(Succ(Succ(Zero)))))),False,Entry(Succ(Succ(Succ(Succ(Succ(Succ(Succ(Zero))))))),False,EmptyDict)))"
      ]
     },
     "execution_count": 21,
     "metadata": {},
     "output_type": "execute_result"
    }
   ],
   "source": [
    "// Solution should look like `val ans3 = ???`\n",
    "// BEGIN SOLUTION\n",
    "val ans_3a = Entry(five, True, Entry(six, False, Entry(seven, False, EmptyDict)))\n",
    "// END SOLUTION"
   ]
  },
  {
   "cell_type": "code",
   "execution_count": 22,
   "metadata": {
    "nbgrader": {
     "grade": true,
     "grade_id": "cell-14d49877afa79bb3",
     "locked": true,
     "points": 2,
     "schema_version": 1,
     "solution": false
    }
   },
   "outputs": [
    {
     "name": "stdout",
     "output_type": "stream",
     "text": [
      "\n",
      "*** Tests Passed (2 points) ***\n"
     ]
    }
   ],
   "source": [
    "assert(lookup(nat_eq, ans_3a, five) == Just(True))\n",
    "assert(lookup(nat_eq, ans_3a, six) == Just(False))\n",
    "assert(lookup(nat_eq, ans_3a, seven) == Just(False))\n",
    "passed(2)"
   ]
  },
  {
   "cell_type": "markdown",
   "metadata": {
    "nbgrader": {
     "grade": false,
     "grade_id": "cell-e2c494340abb6706",
     "locked": true,
     "schema_version": 1,
     "solution": false
    }
   },
   "source": [
    "#### Part B\n",
    "\n",
    "1. Look up the value mapped by key `Positive(one)` and place it in variable `ans_3b1` \n",
    "2. Look up the value mapped by key `Positive(three)` and place it in variable `ans_3b2`\n",
    "3. Check whether the key `Negative(three)` is in the map and place True or False in variable `ans_3b3`\n",
    "4. Check whether the key `Negative(one)` is in the map and place True or False in variable `ans_3b4`\n",
    "\n",
    "\n",
    "**Note**: For 1 and 2 remember to extract it from the maybe type, set the variable to the string `\"does not exist\"` if you get `None` instead of `Just(x)`."
   ]
  },
  {
   "cell_type": "code",
   "execution_count": 23,
   "metadata": {},
   "outputs": [
    {
     "data": {
      "text/plain": [
       "\u001b[36msecret_dict\u001b[39m: \u001b[32mEntry\u001b[39m[\u001b[32mProduct\u001b[39m with \u001b[32mSerializable\u001b[39m with \u001b[32mInteger\u001b[39m, \u001b[32mString\u001b[39m] = Entry(Positive(Succ(Succ(Succ(Zero)))),abc,Entry(Negative(Succ(Zero)),xyz,Entry(Positive(Succ(Zero)),MIB,EmptyDict)))"
      ]
     },
     "execution_count": 23,
     "metadata": {},
     "output_type": "execute_result"
    }
   ],
   "source": [
    "val secret_dict = Entry(Positive(three), \"abc\",\n",
    "                        Entry(Negative(one), \"xyz\",\n",
    "                              Entry(Positive(one), \"MIB\", EmptyDict)))"
   ]
  },
  {
   "cell_type": "code",
   "execution_count": 24,
   "metadata": {
    "nbgrader": {
     "grade": false,
     "grade_id": "cell-41d83bd054b1372a",
     "locked": false,
     "schema_version": 1,
     "solution": true
    }
   },
   "outputs": [
    {
     "data": {
      "text/plain": [
       "\u001b[36mans_3b1\u001b[39m: \u001b[32mString\u001b[39m = \u001b[32m\"MIB\"\u001b[39m\n",
       "\u001b[36mans_3b2\u001b[39m: \u001b[32mString\u001b[39m = \u001b[32m\"abc\"\u001b[39m\n",
       "\u001b[36mans_3b3\u001b[39m: \u001b[32mBool\u001b[39m = False\n",
       "\u001b[36mans_3b4\u001b[39m: \u001b[32mBool\u001b[39m = True"
      ]
     },
     "execution_count": 24,
     "metadata": {},
     "output_type": "execute_result"
    }
   ],
   "source": [
    "// BEGIN SOLUTION\n",
    "val ans_3b1 = lookup(int_eq, secret_dict, Positive(one)) match {\n",
    "    case Just(x) => x\n",
    "    case None => \"does not exist\"\n",
    "}\n",
    "\n",
    "val ans_3b2 = lookup(int_eq, secret_dict, Positive(three)) match {\n",
    "    case Just(x) => x\n",
    "    case None => \"does not exist\"\n",
    "}\n",
    "\n",
    "val ans_3b3 = isIn(int_eq, secret_dict, Negative(three))\n",
    "\n",
    "val ans_3b4 = isIn(int_eq, secret_dict, Negative(one))\n",
    "// END SOLUTION"
   ]
  },
  {
   "cell_type": "code",
   "execution_count": null,
   "metadata": {
    "nbgrader": {
     "grade": true,
     "grade_id": "cell-0ffa542d701f8f36",
     "locked": true,
     "points": 3,
     "schema_version": 1,
     "solution": false
    }
   },
   "outputs": [],
   "source": [
    "// Hidden tests (3 pts)\n",
    "// BEGIN HIDDEN TESTS\n",
    "\n",
    "// END HIDDEN TESTS"
   ]
  }
 ],
 "metadata": {
  "celltoolbar": "Tags",
  "kernelspec": {
   "display_name": "Scala",
   "language": "scala",
   "name": "scala"
  },
  "language_info": {
   "codemirror_mode": "text/x-scala",
   "file_extension": ".scala",
   "mimetype": "text/x-scala",
   "name": "scala211",
   "nbconvert_exporter": "script",
   "pygments_lexer": "scala",
   "version": "2.11.11"
  }
 },
 "nbformat": 4,
 "nbformat_minor": 2
}
