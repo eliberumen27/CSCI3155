{
 "cells": [
  {
   "cell_type": "code",
   "execution_count": 1,
   "metadata": {},
   "outputs": [
    {
     "name": "stdout",
     "output_type": "stream",
     "text": [
      "Compiling /Users/Eli/Dropbox/FALL 2019 COURSES/CSCI 3155 Principles of Programming Languages/Recitation/recitation_week8/rec8stdlib.sc"
     ]
    },
    {
     "data": {
      "text/plain": [
       "\u001b[32mimport \u001b[39m\u001b[36m$file.$         \n",
       "\u001b[39m\n",
       "\u001b[32mimport \u001b[39m\u001b[36mrec8stdlib._\u001b[39m"
      ]
     },
     "execution_count": 1,
     "metadata": {},
     "output_type": "execute_result"
    }
   ],
   "source": [
    "import $file.rec8stdlib\n",
    "import rec8stdlib._"
   ]
  },
  {
   "cell_type": "markdown",
   "metadata": {},
   "source": [
    "# Recitation N\n",
    "\n",
    "In this recitation we will get some practice with the basic parser combinators.\n",
    "\n",
    "## The Parser Type\n",
    "\n",
    "We define parsers below with the following Grammar:\n",
    "\n",
    "$$\n",
    "\\large \\text{type }\\textbf{Parser}\\ s\\ d = (\\ (\\textbf{List}\\ s) \\rightarrow\\ \\textbf{List}\\ (d, (\\textbf{List}\\ s))\\ )\n",
    "$$\n",
    "\n",
    "We could also write the $\\textbf{List}$ type as square brackets. So we would write $\\textbf{List}\\ A $ as $[A]$ which may be easier to read:\n",
    "\n",
    "$$\n",
    "\\large \\text{type }\\textbf{Parser}\\ s\\ d =  (\\ [s] \\rightarrow\\ [(d, [s])]\\ )\n",
    "$$\n",
    "\n",
    "As a refresher, let's break down each part of this type.\n",
    "\n",
    "$$\n",
    "\\large{ \\text{type }\\textbf{Parser}\\ \\color{#1196cc}s\\ \\color{#cc8511}d =(\\ \\color{#27dc3a}{[s]\\rightarrow\\ [(d, [s])]}\\ )}\n",
    "$$\n",
    "\n",
    "* $\\color{#1196cc}s$ - The type of the symbols the parser is reading in. Usually this will be characters but could also be any other data type.\n",
    "* $\\color{#cc8511}d$ - The type of the data we are returning from the parse. This is the structure we are trying to build up. Later this will be Lettuce Expressions.\n",
    "* $\\color{#27dc3a}{[s]\\rightarrow\\ [(d, [s])]}$ - The parsing function. This is any function that takes a list of symbols(such as a string) and returns a list of success parses. A successful parse is any tuple of the parsed structure $d$ and the rest of the list that still needs to be parsed\n"
   ]
  },
  {
   "cell_type": "code",
   "execution_count": 2,
   "metadata": {},
   "outputs": [
    {
     "data": {
      "text/plain": [
       "defined \u001b[32mtype\u001b[39m \u001b[36mParser\u001b[39m"
      ]
     },
     "execution_count": 2,
     "metadata": {},
     "output_type": "execute_result"
    }
   ],
   "source": [
    "type Parser[S,D] = List[S] => List[(D, List[S])]"
   ]
  },
  {
   "cell_type": "markdown",
   "metadata": {},
   "source": [
    "## The Primitives\n",
    "\n",
    "We will define three primitive parsers that we will use to build up all of the other parsers we will need. These are:\n",
    "\n",
    "* `char` Takes a character as an argument and parses that character\n",
    "* `success` Takes any element of type $D$ and returns a parser of that type\n",
    "* `failure` Unsuccesful parses"
   ]
  },
  {
   "cell_type": "markdown",
   "metadata": {},
   "source": [
    "### Char\n",
    " \n",
    "The `char` primitive is a parser for the provided character `c`. This can be any character that is included in Scala's definition. We will use this as the primary building block for all of our parsers going forward."
   ]
  },
  {
   "cell_type": "code",
   "execution_count": 3,
   "metadata": {},
   "outputs": [
    {
     "data": {
      "text/plain": [
       "defined \u001b[32mfunction\u001b[39m \u001b[36mchar\u001b[39m"
      ]
     },
     "execution_count": 3,
     "metadata": {},
     "output_type": "execute_result"
    }
   ],
   "source": [
    "def char(c : Char) : Parser[Char,Char] = \n",
    "(ss : List[Char]) => ss match {\n",
    "    case Empty      => Empty\n",
    "    case Cons(s,ss) => char_eq(s,c) match {\n",
    "        case True  => singleton((s, ss))\n",
    "        case False => Empty\n",
    "    }\n",
    "}"
   ]
  },
  {
   "cell_type": "markdown",
   "metadata": {},
   "source": [
    "### Success\n",
    "\n",
    "This is a fairly simples primitive that acts as a pass-through. It will just wrap up its argument into a successful parse. This will be useful when returning results inside of the `bind` combinator."
   ]
  },
  {
   "cell_type": "code",
   "execution_count": 4,
   "metadata": {},
   "outputs": [
    {
     "data": {
      "text/plain": [
       "defined \u001b[32mfunction\u001b[39m \u001b[36msuccess\u001b[39m"
      ]
     },
     "execution_count": 4,
     "metadata": {},
     "output_type": "execute_result"
    }
   ],
   "source": [
    "def success[S, D](x : D) : Parser[S, D] = \n",
    "  (ss : List[S]) => singleton((x, ss))"
   ]
  },
  {
   "cell_type": "markdown",
   "metadata": {},
   "source": [
    "### Failure\n",
    "\n",
    "This is the dual of `success` and is used any time we have an unsuccesful parse"
   ]
  },
  {
   "cell_type": "code",
   "execution_count": 5,
   "metadata": {},
   "outputs": [
    {
     "data": {
      "text/plain": [
       "defined \u001b[32mfunction\u001b[39m \u001b[36mfailure\u001b[39m"
      ]
     },
     "execution_count": 5,
     "metadata": {},
     "output_type": "execute_result"
    }
   ],
   "source": [
    "def failure[S, D]() : Parser[S,D] = (ss : List[S]) => Empty"
   ]
  },
  {
   "cell_type": "markdown",
   "metadata": {},
   "source": [
    "## The Combinators\n",
    "\n",
    "We will use these primitives with _combinators_(A name that only a mathmetician could make up) to create our parsers. There are two basic combinators from which we will build all of the others:"
   ]
  },
  {
   "cell_type": "markdown",
   "metadata": {},
   "source": [
    "### Choice\n",
    "\n",
    "`Choice` represents a case where you have two parsers and want to combine them in an either/or way. If you have a parser that recognizes numbers and another that recognizes words you could combine them to recognize both numbers and words."
   ]
  },
  {
   "cell_type": "code",
   "execution_count": 6,
   "metadata": {
    "scrolled": true
   },
   "outputs": [
    {
     "data": {
      "text/plain": [
       "defined \u001b[32mfunction\u001b[39m \u001b[36mchoose\u001b[39m"
      ]
     },
     "execution_count": 6,
     "metadata": {},
     "output_type": "execute_result"
    }
   ],
   "source": [
    "def choose[S, D](p : Parser[S, D], q : Parser[S, D]) : Parser[S, D] = (ss : List[S]) =>\n",
    "{\n",
    "    val p_res = p(ss)\n",
    "    val q_res = q(ss)\n",
    "    append(p_res, q_res)\n",
    "} "
   ]
  },
  {
   "cell_type": "markdown",
   "metadata": {},
   "source": [
    "# Examples\n",
    "\n",
    "Note: To convert a string to a list of characters call the `string_to_list` function\n",
    "\n",
    "### 1\n",
    "Write a parser that accepts either a string beginning with `'a'` or `'z'`"
   ]
  },
  {
   "cell_type": "code",
   "execution_count": 8,
   "metadata": {},
   "outputs": [
    {
     "ename": "",
     "evalue": "",
     "output_type": "error",
     "traceback": [
      "\u001b[31mscala.NotImplementedError: an implementation is missing\u001b[39m\n  scala.Predef$.$qmark$qmark$qmark(\u001b[32mPredef.scala\u001b[39m:\u001b[32m288\u001b[39m)\n  ammonite.$sess.cmd7$Helper.<init>(\u001b[32mcmd7.sc\u001b[39m:\u001b[32m1\u001b[39m)\n  ammonite.$sess.cmd7$.<init>(\u001b[32mcmd7.sc\u001b[39m:\u001b[32m7\u001b[39m)\n  ammonite.$sess.cmd7$.<clinit>(\u001b[32mcmd7.sc\u001b[39m:\u001b[32m-1\u001b[39m)"
     ]
    }
   ],
   "source": [
    "val p1 = ???\n",
    "\n",
    "val ex1 = string_to_list(\"abc\")\n",
    "val ex2 = string_to_list(\"zyx\")\n",
    "val ex_bad = string_to_list(\"dog\")"
   ]
  },
  {
   "cell_type": "code",
   "execution_count": 8,
   "metadata": {},
   "outputs": [
    {
     "name": "stderr",
     "output_type": "stream",
     "text": [
      "cmd8.sc:1: not found: value p1\n",
      "val res8 = p1(ex1)\n",
      "           ^cmd8.sc:1: not found: value ex1\n",
      "val res8 = p1(ex1)\n",
      "              ^Compilation Failed"
     ]
    },
    {
     "ename": "",
     "evalue": "",
     "output_type": "error",
     "traceback": [
      "Compilation Failed"
     ]
    }
   ],
   "source": [
    "p1(ex1)"
   ]
  },
  {
   "cell_type": "markdown",
   "metadata": {},
   "source": [
    "### 2\n",
    "Write a parser that accepts any digit (0-9)"
   ]
  },
  {
   "cell_type": "code",
   "execution_count": null,
   "metadata": {},
   "outputs": [],
   "source": [
    "val pdigits = ???"
   ]
  },
  {
   "cell_type": "code",
   "execution_count": null,
   "metadata": {},
   "outputs": [],
   "source": [
    "assert(pdigits(string_to_list(\"4\")) == Cons(('4', Empty),Empty))\n",
    "assert(pdigits(string_to_list(\"9sd\")) == Cons(('9', Cons('s', Cons('d', Empty))),Empty))\n",
    "assert(pdigits(string_to_list(\"214\")) == Cons(('2', Cons('1', Cons('4', Empty))),Empty))\n",
    "assert(pdigits(string_to_list(\"d\")) == Empty)\n",
    "assert(pdigits(string_to_list(\"d3443\")) == Empty)"
   ]
  },
  {
   "cell_type": "markdown",
   "metadata": {},
   "source": [
    "### 3\n",
    "Write 4 parsers which do the following when given the string `\"abcd\"`\n",
    "1. One that fails to parse\n",
    "2. One that produces a single successful parse\n",
    "3. One that produces 3 successful parses (it's ok if they're the same as long as there are 3 results in the list)\n",
    "4. One that produces 32 results (think about how to do this efficiently)"
   ]
  },
  {
   "cell_type": "code",
   "execution_count": null,
   "metadata": {},
   "outputs": [],
   "source": [
    "val x = string_to_list(\"abcd\")\n",
    "\n",
    "val parser1 = ???\n",
    "val parser2 = ???\n",
    "val parser3 = ???\n",
    "val parser4 = ???"
   ]
  },
  {
   "cell_type": "code",
   "execution_count": null,
   "metadata": {},
   "outputs": [],
   "source": [
    "assert(length(parser1(x)) == Zero)\n",
    "assert(length(parser2(x)) == one)\n",
    "assert(length(parser3(x)) == three)\n",
    "assert(length(parser4(x)) == nat_pow(five, two))"
   ]
  },
  {
   "cell_type": "code",
   "execution_count": null,
   "metadata": {},
   "outputs": [],
   "source": []
  }
 ],
 "metadata": {
  "kernelspec": {
   "display_name": "Scala",
   "language": "scala",
   "name": "scala"
  },
  "language_info": {
   "codemirror_mode": "text/x-scala",
   "file_extension": ".scala",
   "mimetype": "text/x-scala",
   "name": "scala",
   "nbconvert_exporter": "script",
   "version": "2.12.8"
  }
 },
 "nbformat": 4,
 "nbformat_minor": 2
}
