{
 "cells": [
  {
   "cell_type": "code",
   "execution_count": 1,
   "metadata": {},
   "outputs": [
    {
     "name": "stdout",
     "output_type": "stream",
     "text": [
      "Compiling /Users/Eli/Dropbox/FALL 2019 COURSES/CSCI 3155 Principles of Programming Languages/Recitation/recitation_week9/hw8stdlib.sc"
     ]
    },
    {
     "data": {
      "text/plain": [
       "\u001b[32mimport \u001b[39m\u001b[36m$file.$        \n",
       "\u001b[39m\n",
       "\u001b[32mimport \u001b[39m\u001b[36mhw8stdlib._\u001b[39m"
      ]
     },
     "execution_count": 1,
     "metadata": {},
     "output_type": "execute_result"
    }
   ],
   "source": [
    "import $file.hw8stdlib\n",
    "import hw8stdlib._"
   ]
  },
  {
   "cell_type": "code",
   "execution_count": 3,
   "metadata": {},
   "outputs": [
    {
     "data": {
      "text/plain": [
       "defined \u001b[32mtype\u001b[39m \u001b[36mParser\u001b[39m\n",
       "defined \u001b[32mfunction\u001b[39m \u001b[36mchar\u001b[39m\n",
       "defined \u001b[32mfunction\u001b[39m \u001b[36msuccess\u001b[39m\n",
       "defined \u001b[32mfunction\u001b[39m \u001b[36mfailure\u001b[39m\n",
       "defined \u001b[32mfunction\u001b[39m \u001b[36mchoose\u001b[39m\n",
       "defined \u001b[32mfunction\u001b[39m \u001b[36mrunParser\u001b[39m\n",
       "defined \u001b[32mfunction\u001b[39m \u001b[36mbind\u001b[39m\n",
       "defined \u001b[32mfunction\u001b[39m \u001b[36mstringL\u001b[39m\n",
       "defined \u001b[32mfunction\u001b[39m \u001b[36mstring\u001b[39m"
      ]
     },
     "execution_count": 3,
     "metadata": {},
     "output_type": "execute_result"
    }
   ],
   "source": [
    "type Parser[S,D] = List[S] => List[(D, List[S])]\n",
    "\n",
    "def char(c : Char) : Parser[Char,Char] = \n",
    "(ss : List[Char]) => ss match {\n",
    "    case Empty      => Empty\n",
    "    case Cons(s,ss) => char_eq(s,c) match {\n",
    "        case True  => singleton((s, ss))\n",
    "        case False => Empty\n",
    "    }\n",
    "}\n",
    "\n",
    "def success[S, D](x : D) : Parser[S, D] = \n",
    "  (ss : List[S]) => singleton((x, ss))\n",
    "\n",
    "def failure[S, D]() : Parser[S,D] = (ss : List[S]) => Empty\n",
    "\n",
    "def choose[S, D](p : Parser[S, D], q : Parser[S, D]) : Parser[S, D] = (ss : List[S]) =>\n",
    "{\n",
    "    val p_res = p(ss)\n",
    "    val q_res = q(ss)\n",
    "    append(p_res, q_res)\n",
    "} \n",
    "\n",
    "\n",
    "def runParser[D](p : Parser[Char, D], s : String) : Maybe[D] = p(string_to_list(s)) match {\n",
    "    case Empty                   => Nothing\n",
    "    case Cons((x, Empty), Empty) => Just(x)\n",
    "    case _                       => Nothing\n",
    "}\n",
    "\n",
    "def bind[S, D, E](p : Parser[S,D], q : (D => Parser[S,E]) ) : Parser[S,E] = \n",
    "  (ss : List[S]) => {\n",
    "      val join = (res : (D, List[S])) => res match {case (d, ss2) => q(d)(ss2)}\n",
    "      concatMap(join, p(ss))\n",
    "  } \n",
    "\n",
    "def stringL(ss : List[Char]) : Parser[Char, List[Char]] = ss match {\n",
    "    case Empty      => success(Empty)\n",
    "    case Cons(s,ss) =>        bind(char(s), \n",
    "         (c : Char)        => bind(stringL(ss),\n",
    "         (cs : List[Char]) => success(Cons(c,cs)) ))\n",
    "}\n",
    "\n",
    "def string(str : String) : Parser[Char, List[Char]] = stringL(string_to_list(str))"
   ]
  },
  {
   "cell_type": "markdown",
   "metadata": {},
   "source": [
    "# Recitation 9\n",
    "\n",
    "In this recitation we will develop the last few tools we will need to write our Lexer and Parser."
   ]
  },
  {
   "cell_type": "markdown",
   "metadata": {},
   "source": [
    "## Adendum: Your teacher made an oopsie\n",
    "\n",
    "Dear Class,\n",
    "\n",
    "I hope this finds you well. I'm writing you from a table at Panera Bagels amidst a small rain storm. I have just made the observation that I have made a grave error when teaching you this very capturing and awe-inspiring material. There are in fact two different combinators that capture the notion of \"choice\". The first is the `choose` combinator that we have been using. This is actually a slightly less than ideal option. We often would actually prefer the `option` function defined here:"
   ]
  },
  {
   "cell_type": "code",
   "execution_count": 5,
   "metadata": {},
   "outputs": [
    {
     "data": {
      "text/plain": [
       "defined \u001b[32mfunction\u001b[39m \u001b[36moption\u001b[39m"
      ]
     },
     "execution_count": 5,
     "metadata": {},
     "output_type": "execute_result"
    }
   ],
   "source": [
    "def option[S, D](p : Parser[S, D], q : Parser[S, D]) : Parser[S, D] = (ss : List[S]) => \n",
    "  p(ss) match {\n",
    "      case Empty => q(ss)\n",
    "      case res   => res\n",
    "  }"
   ]
  },
  {
   "cell_type": "markdown",
   "metadata": {},
   "source": [
    "As you will quickly notice, this parser combinator will parse using the first parser `p` and if `p` is unsuccesful it will attempt parsing with `q`. This is the idea of _exclusive or_ that we are familiar with from logic. The `choose` combinator will explore all possible paths. We will often prefer `option` because of its treatment of precedence with our parsers. Please take a second to note the differences between the two and understand when one might want to use one over the other.\n",
    "\n",
    "I hope you enjoy today's recitation as much as I enjoyed writing it. Behold, the joy of functional programming!\n",
    "\n",
    "Sincerely,\n",
    "\n",
    "John Martin, Instructor of the Dark Arts(of Programming)"
   ]
  },
  {
   "cell_type": "markdown",
   "metadata": {},
   "source": [
    "## Parsing Whitespace\n",
    "\n",
    "Parsing whitespace will be very important for building out any lexer or parser. We will treat whitespace as the delimiter between different tokens in our lexical grammar, and so it is very important we have a working parser for whitespace characters. We can write a basic parser for the different whitespace characters like so:"
   ]
  },
  {
   "cell_type": "code",
   "execution_count": 6,
   "metadata": {},
   "outputs": [
    {
     "data": {
      "text/plain": [
       "defined \u001b[32mfunction\u001b[39m \u001b[36mwhitespaceChar\u001b[39m"
      ]
     },
     "execution_count": 6,
     "metadata": {},
     "output_type": "execute_result"
    }
   ],
   "source": [
    "def whitespaceChar : Parser[Char,Char] = choose(char(' '),\n",
    "                                         choose(char('\\n'), \n",
    "                                         choose(char('\\r'), \n",
    "                                                char('\\t'))))"
   ]
  },
  {
   "cell_type": "markdown",
   "metadata": {},
   "source": [
    "The only problem with this parser is that it doesn't have any way of handling multiple whitespace characters. In general, we don't have a way of applying a parser a multitude of times. We will need to develop this combinator, it is called `many`.\n",
    "\n",
    "## `many`\n",
    "\n",
    "`many` will be a combinator that takes a parser and uses that parser on the input string as many times as possible."
   ]
  },
  {
   "cell_type": "code",
   "execution_count": 8,
   "metadata": {},
   "outputs": [
    {
     "data": {
      "text/plain": [
       "defined \u001b[32mfunction\u001b[39m \u001b[36mmany\u001b[39m"
      ]
     },
     "execution_count": 8,
     "metadata": {},
     "output_type": "execute_result"
    }
   ],
   "source": [
    "def many[S,D](p : Parser[S,D]) : Parser[S, List[D]] = option(\n",
    "                                                        bind(p, \n",
    "                                                            (x: D) => bind(many(p),\n",
    "                                                            (xs: List[D]) => success(Cons(x, xs))))\n",
    "                                                        , success(Empty)\n",
    "                                                        )\n",
    "// We keep going and binding until we fail and return fail( The end result is collected in a big list)"
   ]
  },
  {
   "cell_type": "markdown",
   "metadata": {},
   "source": [
    "We can use many to create a parser that parses all of the whitespace characters in a string."
   ]
  },
  {
   "cell_type": "code",
   "execution_count": 11,
   "metadata": {},
   "outputs": [
    {
     "data": {
      "text/plain": [
       "defined \u001b[32mfunction\u001b[39m \u001b[36mwhitespace\u001b[39m"
      ]
     },
     "execution_count": 11,
     "metadata": {},
     "output_type": "execute_result"
    }
   ],
   "source": [
    "def whitespace : Parser[Char, List[Char]] = many(whitespaceChar)"
   ]
  },
  {
   "cell_type": "markdown",
   "metadata": {},
   "source": [
    "And we can see with the examples below that it works as we would expect:"
   ]
  },
  {
   "cell_type": "code",
   "execution_count": 12,
   "metadata": {},
   "outputs": [
    {
     "data": {
      "text/plain": [
       "\u001b[36mres11_0\u001b[39m: \u001b[32mMaybe\u001b[39m[\u001b[32mList\u001b[39m[\u001b[32mChar\u001b[39m]] = \u001b[33mJust\u001b[39m(\u001b[33mCons\u001b[39m(\u001b[32m' '\u001b[39m, Empty))\n",
       "\u001b[36mres11_1\u001b[39m: \u001b[32mMaybe\u001b[39m[\u001b[32mList\u001b[39m[\u001b[32mChar\u001b[39m]] = \u001b[33mJust\u001b[39m(\u001b[33mCons\u001b[39m(\u001b[32m' '\u001b[39m, Empty))\n",
       "\u001b[36mres11_2\u001b[39m: \u001b[32mMaybe\u001b[39m[\u001b[32mList\u001b[39m[\u001b[32mChar\u001b[39m]] = \u001b[33mJust\u001b[39m(\u001b[33mCons\u001b[39m(\u001b[32m'\\n'\u001b[39m, Empty))\n",
       "\u001b[36mres11_3\u001b[39m: \u001b[32mMaybe\u001b[39m[\u001b[32mList\u001b[39m[\u001b[32mChar\u001b[39m]] = \u001b[33mJust\u001b[39m(\n",
       "  \u001b[33mCons\u001b[39m(\n",
       "    \u001b[32m' '\u001b[39m,\n",
       "    \u001b[33mCons\u001b[39m(\u001b[32m' '\u001b[39m, \u001b[33mCons\u001b[39m(\u001b[32m' '\u001b[39m, \u001b[33mCons\u001b[39m(\u001b[32m' '\u001b[39m, \u001b[33mCons\u001b[39m(\u001b[32m' '\u001b[39m, \u001b[33mCons\u001b[39m(\u001b[32m' '\u001b[39m, \u001b[33mCons\u001b[39m(\u001b[32m' '\u001b[39m, Empty))))))\n",
       "  )\n",
       ")\n",
       "\u001b[36mres11_4\u001b[39m: \u001b[32mMaybe\u001b[39m[\u001b[32mList\u001b[39m[\u001b[32mChar\u001b[39m]] = \u001b[33mJust\u001b[39m(\n",
       "  \u001b[33mCons\u001b[39m(\n",
       "    \u001b[32m' '\u001b[39m,\n",
       "    \u001b[33mCons\u001b[39m(\n",
       "      \u001b[32m' '\u001b[39m,\n",
       "      \u001b[33mCons\u001b[39m(\n",
       "        \u001b[32m' '\u001b[39m,\n",
       "        \u001b[33mCons\u001b[39m(\n",
       "          \u001b[32m' '\u001b[39m,\n",
       "          \u001b[33mCons\u001b[39m(\n",
       "            \u001b[32m'\\n'\u001b[39m,\n",
       "            \u001b[33mCons\u001b[39m(\u001b[32m' '\u001b[39m, \u001b[33mCons\u001b[39m(\u001b[32m'\\r'\u001b[39m, \u001b[33mCons\u001b[39m(\u001b[32m' '\u001b[39m, \u001b[33mCons\u001b[39m(\u001b[32m' '\u001b[39m, \u001b[33mCons\u001b[39m(\u001b[32m' '\u001b[39m, Empty)))))\n",
       "          )\n",
       "        )\n",
       "      )\n",
       "    )\n",
       "  )\n",
       ")"
      ]
     },
     "execution_count": 12,
     "metadata": {},
     "output_type": "execute_result"
    }
   ],
   "source": [
    "runParser(whitespace, \" \")\n",
    "runParser(whitespace, \" \")\n",
    "runParser(whitespace, \"\\n\")\n",
    "runParser(whitespace, \"       \")\n",
    "runParser(whitespace, \"    \\n \\r   \")"
   ]
  },
  {
   "cell_type": "markdown",
   "metadata": {},
   "source": [
    "Note that in the examples above the whitespace characters did not need to all be the same. They just had to be successfully parsed by the `whitespaceChar` parser."
   ]
  },
  {
   "cell_type": "markdown",
   "metadata": {},
   "source": [
    "## Parsing Numbers\n",
    "\n",
    "One of the trickier parses we will need to perform is on numbers. We will need to _look-ahead_ a bit to see if the number has ended or not, and if it has we will need some way of converting it into an Integer or Natural Number.\n",
    "\n",
    "Let's begin by defining a parser for the digits:"
   ]
  },
  {
   "cell_type": "code",
   "execution_count": 13,
   "metadata": {},
   "outputs": [
    {
     "data": {
      "text/plain": [
       "defined \u001b[32mfunction\u001b[39m \u001b[36mdigit\u001b[39m"
      ]
     },
     "execution_count": 13,
     "metadata": {},
     "output_type": "execute_result"
    }
   ],
   "source": [
    "def digit : Parser[Char, Char] = ???\n",
    "// nest option(char('0'))\n",
    "//      option(char('1'))"
   ]
  },
  {
   "cell_type": "markdown",
   "metadata": {},
   "source": [
    "Now that we have this we need a way of parsing many digits. It turns out that we have just that, the `many` parser will perform this perfectly."
   ]
  },
  {
   "cell_type": "code",
   "execution_count": 14,
   "metadata": {},
   "outputs": [
    {
     "data": {
      "text/plain": [
       "defined \u001b[32mfunction\u001b[39m \u001b[36mnumString\u001b[39m"
      ]
     },
     "execution_count": 14,
     "metadata": {},
     "output_type": "execute_result"
    }
   ],
   "source": [
    "def numString : Parser[Char, List[Char]] = many(digit)"
   ]
  },
  {
   "cell_type": "markdown",
   "metadata": {},
   "source": [
    "Now the last step will be to convert the string of digits into a natural number. Write the function, `stringToNat` below. It may be helpful to write a function that converts digits to nats first."
   ]
  },
  {
   "cell_type": "code",
   "execution_count": 15,
   "metadata": {},
   "outputs": [
    {
     "data": {
      "text/plain": [
       "defined \u001b[32mfunction\u001b[39m \u001b[36mdigitToNat\u001b[39m\n",
       "defined \u001b[32mfunction\u001b[39m \u001b[36mstringToNat\u001b[39m"
      ]
     },
     "execution_count": 15,
     "metadata": {},
     "output_type": "execute_result"
    }
   ],
   "source": [
    "def digitToNat(c: Char): Nat = c match {\n",
    "    case '0' => Zero\n",
    "    case '1' => one\n",
    "    case '2' => two\n",
    "    case '3' => three\n",
    "    case '4' => four\n",
    "    case '5' => five\n",
    "    case '6' => six\n",
    "    case '7' => seven\n",
    "    case '8' => eight\n",
    "    case '9' => nine\n",
    "}\n",
    "\n",
    "def stringToNat(xs: List[Char]) : Nat = \n",
    "    fold( (x: Nat, acc: Nat) => nat_plus(x, nat_mult(acc, ten)), Zero, map(digitToNat, xs))"
   ]
  },
  {
   "cell_type": "markdown",
   "metadata": {},
   "source": [
    "Now use `bind` to apply `stringToNat` to the result of a parsed number string. This will be our final parser called `number`."
   ]
  },
  {
   "cell_type": "code",
   "execution_count": 16,
   "metadata": {},
   "outputs": [
    {
     "data": {
      "text/plain": [
       "defined \u001b[32mfunction\u001b[39m \u001b[36mnumber\u001b[39m"
      ]
     },
     "execution_count": 16,
     "metadata": {},
     "output_type": "execute_result"
    }
   ],
   "source": [
    "def number : Parser[Char, Nat] = bind(numString,\n",
    "                                     ())"
   ]
  },
  {
   "cell_type": "markdown",
   "metadata": {},
   "source": [
    "If this was done properly, the next line should give successful parses:"
   ]
  },
  {
   "cell_type": "code",
   "execution_count": 17,
   "metadata": {},
   "outputs": [
    {
     "ename": "",
     "evalue": "",
     "output_type": "error",
     "traceback": [
      "\u001b[31mscala.NotImplementedError: an implementation is missing\u001b[39m\n  scala.Predef$.$qmark$qmark$qmark(\u001b[32mPredef.scala\u001b[39m:\u001b[32m288\u001b[39m)\n  ammonite.$sess.cmd15$Helper.number(\u001b[32mcmd15.sc\u001b[39m:\u001b[32m1\u001b[39m)\n  ammonite.$sess.cmd16$Helper.<init>(\u001b[32mcmd16.sc\u001b[39m:\u001b[32m1\u001b[39m)\n  ammonite.$sess.cmd16$.<init>(\u001b[32mcmd16.sc\u001b[39m:\u001b[32m7\u001b[39m)\n  ammonite.$sess.cmd16$.<clinit>(\u001b[32mcmd16.sc\u001b[39m:\u001b[32m-1\u001b[39m)"
     ]
    }
   ],
   "source": [
    "runParser(number, \"5\")\n",
    "runParser(number, \"12\")\n",
    "runParser(number, \"100\")"
   ]
  },
  {
   "cell_type": "code",
   "execution_count": null,
   "metadata": {},
   "outputs": [],
   "source": []
  }
 ],
 "metadata": {
  "kernelspec": {
   "display_name": "Scala",
   "language": "scala",
   "name": "scala"
  },
  "language_info": {
   "codemirror_mode": "text/x-scala",
   "file_extension": ".scala",
   "mimetype": "text/x-scala",
   "name": "scala",
   "nbconvert_exporter": "script",
   "version": "2.12.8"
  }
 },
 "nbformat": 4,
 "nbformat_minor": 2
}
