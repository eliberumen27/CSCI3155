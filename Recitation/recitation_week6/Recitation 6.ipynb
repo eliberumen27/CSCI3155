{
 "cells": [
  {
   "cell_type": "code",
   "execution_count": 0,
   "metadata": {},
   "outputs": [
    {
     "name": "stderr",
     "output_type": "stream",
     "text": [
      "cmd0.sc:104: object hw6stdlib is not a member of package ammonite.$sess\n",
      "import ammonite.$sess.hw6stdlib.{\n",
      "                      ^cmd0.sc:2: not found: value hw6stdlib\n",
      "import hw6stdlib._\n",
      "       ^Compilation Failed"
     ]
    },
    {
     "ename": "",
     "evalue": "",
     "output_type": "error",
     "traceback": [
      "Compilation Failed"
     ]
    }
   ],
   "source": [
    "import $file.hw6stdlib\n",
    "import hw6stdlib._"
   ]
  },
  {
   "cell_type": "code",
   "execution_count": 1,
   "metadata": {},
   "outputs": [],
   "source": [
    "// let y = 5+5 in y"
   ]
  },
  {
   "cell_type": "markdown",
   "metadata": {},
   "source": [
    "# Recitation 6\n",
    "\n",
    "In this recitation we will write a well-formedness checker for Lettuce. Recall that well-formedness as we have defined it is a property of programs in which variables are only used after they have been defined.\n",
    "\n",
    "For example:\n",
    "\n",
    "```\n",
    "//exNotWF below\n",
    "let x = 5 in\n",
    "  y + x\n",
    "```\n",
    "\n",
    "is not a well-formed lettuce program because `y` is not defined when it is used.\n",
    "\n",
    "```\n",
    "//exWF below\n",
    "let y = 10 in\n",
    "  let x = 5 in \n",
    "    y + x\n",
    "```\n",
    "\n",
    "in this example `y` _is_ defined, as is `x`, when used on the last line of the program. Therefore, this is an example of a well-formed Lettuce expression.\n",
    "\n",
    "\n"
   ]
  },
  {
   "cell_type": "markdown",
   "metadata": {},
   "source": [
    "Here we give the abstract syntax of Lettuce expressions:\n",
    "\n",
    "$$\\begin{array}{rcll}\n",
    "\\mathbf{Expr} & ::= & Num(\\mathbb{Z}) \\\\\n",
    " & | & Bin(\\mathbb{B}) \\\\\n",
    " & | & Ident(\\mathbf{String}) \\\\\n",
    " & | & Plus(\\mathbf{Expr}, \\mathbf{Expr}) \\\\\n",
    " & | & Minus(\\mathbf{Expr}, \\mathbf{Expr}) \\\\\n",
    " & | & Mult (\\mathbf{Expr}, \\mathbf{Expr}) \\\\\n",
    " & | & Pow (\\mathbf{Expr}, \\mathbf{Expr}) \\\\\n",
    " & | & Neg (\\mathbf{Expr}) \\\\\n",
    " & | & Eq (\\mathbf{Expr}, \\mathbf{Expr}) \\\\\n",
    " & | & And ( \\mathbf{Expr}, \\mathbf{Expr} ) \\\\\n",
    " & | & Or ( \\mathbf{Expr}, \\mathbf{Expr} ) \\\\\n",
    " & | & IfThenElse(\\mathbf{Expr}, \\mathbf{Expr}, \\mathbf{Expr}) \\\\\n",
    " & | & Let( \\mathbf{String}, \\mathbf{Expr}, \\mathbf{Expr}) \\\\\n",
    "\\end{array}$$\n",
    "\n",
    "and it's encoding in Scala:"
   ]
  },
  {
   "cell_type": "code",
   "execution_count": 2,
   "metadata": {},
   "outputs": [
    {
     "data": {
      "text/plain": [
       "defined \u001b[32mtrait\u001b[39m \u001b[36mExpr\u001b[39m\n",
       "defined \u001b[32mclass\u001b[39m \u001b[36mNum\u001b[39m\n",
       "defined \u001b[32mclass\u001b[39m \u001b[36mBin\u001b[39m\n",
       "defined \u001b[32mclass\u001b[39m \u001b[36mIdent\u001b[39m\n",
       "defined \u001b[32mclass\u001b[39m \u001b[36mPlus\u001b[39m\n",
       "defined \u001b[32mclass\u001b[39m \u001b[36mMinus\u001b[39m\n",
       "defined \u001b[32mclass\u001b[39m \u001b[36mMult\u001b[39m\n",
       "defined \u001b[32mclass\u001b[39m \u001b[36mPow\u001b[39m\n",
       "defined \u001b[32mclass\u001b[39m \u001b[36mNeg\u001b[39m\n",
       "defined \u001b[32mclass\u001b[39m \u001b[36mEq\u001b[39m\n",
       "defined \u001b[32mclass\u001b[39m \u001b[36mAnd\u001b[39m\n",
       "defined \u001b[32mclass\u001b[39m \u001b[36mOr\u001b[39m\n",
       "defined \u001b[32mclass\u001b[39m \u001b[36mIfThenElse\u001b[39m\n",
       "defined \u001b[32mclass\u001b[39m \u001b[36mLet\u001b[39m"
      ]
     },
     "execution_count": 2,
     "metadata": {},
     "output_type": "execute_result"
    }
   ],
   "source": [
    "sealed trait Expr\n",
    "case class Num(x : Integer) extends Expr\n",
    "case class Bin(x : Bool) extends Expr\n",
    "case class Ident(x : String) extends Expr\n",
    "case class Plus(x : Expr, y : Expr) extends Expr\n",
    "case class Minus(x : Expr, y : Expr) extends Expr\n",
    "case class Mult(x : Expr, y : Expr) extends Expr\n",
    "case class Pow(x : Expr, y : Expr) extends Expr\n",
    "case class Neg(x : Expr) extends Expr\n",
    "case class Eq(x : Expr, y : Expr) extends Expr\n",
    "case class And(x : Expr, y : Expr) extends Expr\n",
    "case class Or(x : Expr, y : Expr) extends Expr\n",
    "case class IfThenElse(p : Expr, t : Expr, f : Expr) extends Expr\n",
    "case class Let(id : String, x : Expr, y : Expr) extends Expr"
   ]
  },
  {
   "cell_type": "markdown",
   "metadata": {},
   "source": [
    "Below we have encoded the two examples from above:"
   ]
  },
  {
   "cell_type": "code",
   "execution_count": 3,
   "metadata": {},
   "outputs": [
    {
     "data": {
      "text/plain": [
       "\u001b[36mexNotWF\u001b[39m: \u001b[32mLet\u001b[39m = \u001b[33mLet\u001b[39m(\n",
       "  \u001b[32m\"x\"\u001b[39m,\n",
       "  \u001b[33mNum\u001b[39m(\u001b[33mPositive\u001b[39m(\u001b[33mSucc\u001b[39m(\u001b[33mSucc\u001b[39m(\u001b[33mSucc\u001b[39m(\u001b[33mSucc\u001b[39m(\u001b[33mSucc\u001b[39m(Zero))))))),\n",
       "  \u001b[33mPlus\u001b[39m(\u001b[33mIdent\u001b[39m(\u001b[32m\"x\"\u001b[39m), \u001b[33mIdent\u001b[39m(\u001b[32m\"y\"\u001b[39m))\n",
       ")\n",
       "\u001b[36mexWF\u001b[39m: \u001b[32mLet\u001b[39m = \u001b[33mLet\u001b[39m(\n",
       "  \u001b[32m\"y\"\u001b[39m,\n",
       "  \u001b[33mNum\u001b[39m(\n",
       "    \u001b[33mPositive\u001b[39m(\u001b[33mSucc\u001b[39m(\u001b[33mSucc\u001b[39m(\u001b[33mSucc\u001b[39m(\u001b[33mSucc\u001b[39m(\u001b[33mSucc\u001b[39m(\u001b[33mSucc\u001b[39m(\u001b[33mSucc\u001b[39m(\u001b[33mSucc\u001b[39m(\u001b[33mSucc\u001b[39m(\u001b[33mSucc\u001b[39m(Zero)))))))))))\n",
       "  ),\n",
       "  \u001b[33mLet\u001b[39m(\n",
       "    \u001b[32m\"x\"\u001b[39m,\n",
       "    \u001b[33mNum\u001b[39m(\u001b[33mPositive\u001b[39m(\u001b[33mSucc\u001b[39m(\u001b[33mSucc\u001b[39m(\u001b[33mSucc\u001b[39m(\u001b[33mSucc\u001b[39m(\u001b[33mSucc\u001b[39m(Zero))))))),\n",
       "    \u001b[33mPlus\u001b[39m(\u001b[33mIdent\u001b[39m(\u001b[32m\"x\"\u001b[39m), \u001b[33mIdent\u001b[39m(\u001b[32m\"y\"\u001b[39m))\n",
       "  )\n",
       ")"
      ]
     },
     "execution_count": 3,
     "metadata": {},
     "output_type": "execute_result"
    }
   ],
   "source": [
    "val exNotWF = Let(\"x\", Num(Positive(five)), Plus(Ident(\"x\"), Ident(\"y\")))\n",
    "\n",
    "val exWF = Let(\"y\", Num(Positive(ten)), exNotWF)"
   ]
  },
  {
   "cell_type": "markdown",
   "metadata": {},
   "source": [
    "## Exercise: Well Formedness Checker for Lettuce\n",
    "\n",
    "Now define the well-formedness checker for Lettuce. The isIn function below, which checks if a given string is in a list of strings, may prove to be helpful.\n",
    "\n",
    "This function should be very easy to write if you have the inference rules for WellFormedness from last week's recitation"
   ]
  },
  {
   "cell_type": "code",
   "execution_count": 7,
   "metadata": {},
   "outputs": [
    {
     "data": {
      "text/plain": [
       "defined \u001b[32mfunction\u001b[39m \u001b[36misIn\u001b[39m"
      ]
     },
     "execution_count": 7,
     "metadata": {},
     "output_type": "execute_result"
    }
   ],
   "source": [
    "def isIn(xs : List[String], x : String) : Bool = fold(( (y : String, acc : Bool) => or(acc, string_eq(x,y))), False, xs) // Do we know what the variable is? Is it in our context?"
   ]
  },
  {
   "cell_type": "code",
   "execution_count": 10,
   "metadata": {},
   "outputs": [
    {
     "data": {
      "text/plain": [
       "defined \u001b[32mfunction\u001b[39m \u001b[36misWellFormed\u001b[39m"
      ]
     },
     "execution_count": 10,
     "metadata": {},
     "output_type": "execute_result"
    }
   ],
   "source": [
    "def isWellFormed(expr : Expr, context : List[String]) : Bool = expr match {\n",
    "    case Num(x) => True \n",
    "    case Bin(x) => True\n",
    "    case Ident(id) => isIn(context, id)// Check context for the identity. ie: We've found explicit x\n",
    "    case Plus(x, y) => and(isWellFormed(x, context), isWellFormed(y, context)) // Takes expression and a context(checking for x and y here)\n",
    "    case Minus(x, y) => and(isWellFormed(x, context), isWellFormed(y, context))// Expression with two subexpressions within them\n",
    "    case Mult(x, y) => and(isWellFormed(x, context), isWellFormed(y, context)) // Expression with two subexpressions within them\n",
    "    case Pow(x, y) => and(isWellFormed(x, context), isWellFormed(y, context)) // Expression with two subexpressions within them\n",
    "    case Neg(p) => isWellFormed(p, context)\n",
    "    case Eq(x, y) => and(isWellFormed(x, context), isWellFormed(y, context)) // Same as the others above since binary operators\n",
    "    case And(x, y) => and(isWellFormed(x, context), isWellFormed(y, context))\n",
    "    case Or(x, y) => and(isWellFormed(x, context), isWellFormed(y, context))\n",
    "    case IfThenElse(p, x, y) => and(isWellFormed(p, context), and(isWellFormed(x, context), isWellFormed(y, context)))\n",
    "    case Let(id, e1, e2) => and(isWellFormed(e1, context), isWellFormed(e2, Cons(id, context))) // Checks if e1 is valid(WF) first then e2\n",
    "    // In the Let case, we are prepending the id to the context since we now know y exists. \n",
    "}\n",
    "\n",
    "// Context is just a list of all currently known variable names"
   ]
  },
  {
   "cell_type": "code",
   "execution_count": 11,
   "metadata": {},
   "outputs": [],
   "source": [
    "// let y = 5+y in y+1"
   ]
  },
  {
   "cell_type": "code",
   "execution_count": 12,
   "metadata": {},
   "outputs": [],
   "source": [
    "assert(isWellFormed(Plus(Num(Positive(one)), Num(Negative(one))), Empty) == True)\n",
    "assert(isWellFormed(exNotWF, Empty) == False)\n",
    "assert(isWellFormed(exWF, Empty) == True)"
   ]
  },
  {
   "cell_type": "markdown",
   "metadata": {},
   "source": [
    "## Exercise: Write rules from code\n",
    "Given the code for Nat plus (coppied bellow) write the rules that are equivalent to the code using this format on paper:\n",
    "\n",
    "$ \\begin{array}{c}\n",
    "???\\ \\ \\ \\ ???\\ \\ \\ \\ ???\\\\\n",
    "\\hline\n",
    "\\text{nat_plus}(???, ???)\\ \\text{returns}\\ ??? \\\\\n",
    "\\end{array} \\mathbf{(Rule\\ Name)} $"
   ]
  },
  {
   "cell_type": "code",
   "execution_count": null,
   "metadata": {},
   "outputs": [],
   "source": [
    "def nat_plus(x : Nat, y : Nat) : Nat = x match {\n",
    "    case Zero         => y\n",
    "    case Succ(x_pred) => Succ(nat_plus(x_pred, y))\n",
    "}"
   ]
  },
  {
   "cell_type": "code",
   "execution_count": null,
   "metadata": {},
   "outputs": [],
   "source": []
  }
 ],
 "metadata": {
  "kernelspec": {
   "display_name": "Scala",
   "language": "scala",
   "name": "scala"
  },
  "language_info": {
   "codemirror_mode": "text/x-scala",
   "file_extension": ".scala",
   "mimetype": "text/x-scala",
   "name": "scala",
   "nbconvert_exporter": "script",
   "version": "2.12.8"
  }
 },
 "nbformat": 4,
 "nbformat_minor": 2
}
