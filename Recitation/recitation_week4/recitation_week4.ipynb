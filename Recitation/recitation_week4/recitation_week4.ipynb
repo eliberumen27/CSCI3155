{
 "cells": [
  {
   "cell_type": "code",
   "execution_count": 1,
   "metadata": {},
   "outputs": [
    {
     "name": "stdout",
     "output_type": "stream",
     "text": [
      "Compiling /Users/Eli/Dropbox/FALL 2019 COURSES/CSCI 3155 Principles of Programming Languages/Recitation/recitation_week4/rec4stdlib.sc"
     ]
    },
    {
     "data": {
      "text/plain": [
       "\u001b[32mimport \u001b[39m\u001b[36m$file.$         \n",
       "\u001b[39m\n",
       "\u001b[32mimport \u001b[39m\u001b[36mrec4stdlib._\u001b[39m"
      ]
     },
     "execution_count": 1,
     "metadata": {},
     "output_type": "execute_result"
    }
   ],
   "source": [
    "import $file.rec4stdlib\n",
    "import rec4stdlib._"
   ]
  },
  {
   "cell_type": "markdown",
   "metadata": {},
   "source": [
    "# Recitation: Week 5\n",
    "\n",
    "This week's recitation is a review. Work these problems with a group in whichever order you prefer, asking your TA for assistance when you need help.\n",
    "\n",
    "These problems involve the following definition of binary trees:\n",
    "\n",
    "$$\n",
    "\\begin{align}\n",
    "BTree\\ a\\ :=&\\ \\text{Leaf} \\\\\n",
    "          \\mid&\\ \\text{Branch}\\ (BTree\\ a)\\ a\\ (BTree\\ a)\\\n",
    "\\end{align}\n",
    "$$"
   ]
  },
  {
   "cell_type": "code",
   "execution_count": 3,
   "metadata": {},
   "outputs": [
    {
     "data": {
      "text/plain": [
       "defined \u001b[32mtrait\u001b[39m \u001b[36mBTree\u001b[39m\n",
       "defined \u001b[32mobject\u001b[39m \u001b[36mLeaf\u001b[39m\n",
       "defined \u001b[32mclass\u001b[39m \u001b[36mBranch\u001b[39m"
      ]
     },
     "execution_count": 3,
     "metadata": {},
     "output_type": "execute_result"
    }
   ],
   "source": [
    "sealed trait BTree[+A]\n",
    "case object Leaf extends BTree[Nothing]\n",
    "case class Branch[A](left: BTree[A], data: A, right: BTree[A]) extends BTree[A]"
   ]
  },
  {
   "cell_type": "markdown",
   "metadata": {},
   "source": [
    "## 1\n",
    "*Inductive values*\n",
    "\n",
    "Create the following tree as a value in Scala:\n",
    "```\n",
    "    5\n",
    "   / \\\n",
    "  4   3\n",
    " /   / \\\n",
    "2   7   5\n",
    "```"
   ]
  },
  {
   "cell_type": "code",
   "execution_count": 11,
   "metadata": {},
   "outputs": [
    {
     "data": {
      "text/plain": [
       "\u001b[36mans1\u001b[39m: \u001b[32mBranch\u001b[39m[\u001b[32mSucc\u001b[39m] = \u001b[33mBranch\u001b[39m(\n",
       "  \u001b[33mBranch\u001b[39m(\n",
       "    \u001b[33mBranch\u001b[39m(Leaf, \u001b[33mSucc\u001b[39m(\u001b[33mSucc\u001b[39m(Zero)), Leaf),\n",
       "    \u001b[33mSucc\u001b[39m(\u001b[33mSucc\u001b[39m(\u001b[33mSucc\u001b[39m(\u001b[33mSucc\u001b[39m(Zero)))),\n",
       "    \u001b[33mBranch\u001b[39m(Leaf, \u001b[33mSucc\u001b[39m(Zero), Leaf)\n",
       "  ),\n",
       "  \u001b[33mSucc\u001b[39m(\u001b[33mSucc\u001b[39m(\u001b[33mSucc\u001b[39m(\u001b[33mSucc\u001b[39m(\u001b[33mSucc\u001b[39m(Zero))))),\n",
       "  \u001b[33mBranch\u001b[39m(Leaf, \u001b[33mSucc\u001b[39m(\u001b[33mSucc\u001b[39m(\u001b[33mSucc\u001b[39m(Zero))), Leaf)\n",
       ")"
      ]
     },
     "execution_count": 11,
     "metadata": {},
     "output_type": "execute_result"
    }
   ],
   "source": [
    "val ans1 = Branch(Branch(Branch(Leaf, two, Leaf), four, Branch(Leaf, one, Leaf)), five, Branch(Leaf, three, Leaf))"
   ]
  },
  {
   "cell_type": "markdown",
   "metadata": {},
   "source": [
    "## 2a\n",
    "*Recursion and pattern matching*\n",
    "\n",
    "Write the following function (for use in 2b):\n",
    "$$\\text{max}: Nat \\rightarrow Nat \\rightarrow Nat$$\n",
    "which returns the greater of the two inputs."
   ]
  },
  {
   "cell_type": "code",
   "execution_count": 7,
   "metadata": {},
   "outputs": [
    {
     "name": "stderr",
     "output_type": "stream",
     "text": [
      "(console):3:1 expected (TypePattern | BindPattern)\n",
      "}\n",
      "^"
     ]
    },
    {
     "ename": "",
     "evalue": "",
     "output_type": "error",
     "traceback": [
      "(console):3:1 expected (TypePattern | BindPattern)\n}\n^"
     ]
    }
   ],
   "source": [
    "def max(x: Nat, y: Nat) : Nat = x match {\n",
    "     case\n",
    "}"
   ]
  },
  {
   "cell_type": "code",
   "execution_count": null,
   "metadata": {},
   "outputs": [],
   "source": [
    "assert(max(one, two) == two)\n",
    "assert(max(five, Zero) == five)\n",
    "assert(max(five, five) == five)"
   ]
  },
  {
   "cell_type": "markdown",
   "metadata": {},
   "source": [
    "## 2b\n",
    "*More recursion and polymorphism*\n",
    "\n",
    "Write the following function:\n",
    "$$\\text{height}: BTree \\rightarrow Nat$$\n",
    "which gives the height of a tree. Check the height of the tree you made in 1a to double check."
   ]
  },
  {
   "cell_type": "code",
   "execution_count": null,
   "metadata": {},
   "outputs": [],
   "source": [
    "???"
   ]
  },
  {
   "cell_type": "code",
   "execution_count": null,
   "metadata": {},
   "outputs": [],
   "source": [
    "assert(height(Leaf) == Zero)\n",
    "assert(height(Branch(Leaf, five, Branch(Leaf, one, Leaf))) == two)"
   ]
  },
  {
   "cell_type": "markdown",
   "metadata": {},
   "source": [
    "## 3c\n",
    "*filter and lambdas*\n",
    "\n",
    "Keep only trees from the following list with height less than or equal to 1 (hint: use a stdlib function)."
   ]
  },
  {
   "cell_type": "code",
   "execution_count": null,
   "metadata": {},
   "outputs": [],
   "source": [
    "val t1 = Leaf // 0\n",
    "val t2 = Branch(t1, one, t1) // 1\n",
    "val t3 = Branch(t1, two, t2) // 2\n",
    "val t4 = Branch(t3, two, t3) // 3\n",
    "val t5 = Branch(t2, two, t1) // 2\n",
    "val l = Cons(t1, Cons(t2, Cons(t3, Cons(t4, Cons(t5, Empty)))))"
   ]
  },
  {
   "cell_type": "code",
   "execution_count": null,
   "metadata": {},
   "outputs": [],
   "source": [
    "val ans2c = ???"
   ]
  },
  {
   "cell_type": "code",
   "execution_count": null,
   "metadata": {},
   "outputs": [],
   "source": [
    "assert(ans2c == Cons(Leaf,Cons(Branch(Leaf,Succ(Zero),Leaf),Empty)))"
   ]
  },
  {
   "cell_type": "markdown",
   "metadata": {},
   "source": [
    "## 3a\n",
    "*map and higher order functions*\n",
    "\n",
    "\n",
    "`map` is not only definable on lists, it can be used with many different data structures. For this problem, define map for BTrees:\n",
    "$$\\text{map_tree}: (a \\rightarrow b) \\rightarrow BTree\\ a \\rightarrow BTree\\ b$$"
   ]
  },
  {
   "cell_type": "code",
   "execution_count": null,
   "metadata": {
    "scrolled": true
   },
   "outputs": [],
   "source": [
    "???"
   ]
  },
  {
   "cell_type": "code",
   "execution_count": null,
   "metadata": {},
   "outputs": [],
   "source": [
    "assert(map_tree(Succ(_: Nat), Leaf) == Leaf)"
   ]
  },
  {
   "cell_type": "markdown",
   "metadata": {},
   "source": [
    "## 3b\n",
    "*map and lambdas*\n",
    "\n",
    "Change the following tree by negating each element (maybe using a function you just defined... hint hint)."
   ]
  },
  {
   "cell_type": "code",
   "execution_count": null,
   "metadata": {},
   "outputs": [],
   "source": [
    "val t = Branch(Branch(Leaf, True, Leaf), False, Branch(Leaf, False, Branch(Leaf, True, Leaf)))\n",
    "val ans3b = ???"
   ]
  },
  {
   "cell_type": "code",
   "execution_count": null,
   "metadata": {},
   "outputs": [],
   "source": [
    "assert(ans3b == Branch(Branch(Leaf,False,Leaf),True,Branch(Leaf,True,Branch(Leaf,False,Leaf))))"
   ]
  },
  {
   "cell_type": "markdown",
   "metadata": {},
   "source": [
    "## 4a\n",
    "*Pattern matching*\n",
    "\n",
    "We can address nodes in many ways, for this problem, we will use a list of numbers, with a 0 meaning take a left and a 1 meaning take a right. When the numbers run out, you've reached the desired node. Define the following function that implements this addressing scheme:\n",
    "\n",
    "$$\\text{get_at_addr}: List\\ Nat \\rightarrow BTree\\ a \\rightarrow a$$\n",
    "\n",
    "If you reach a Leaf (no more data) return `???` (this throws a `NotImplementedError`)."
   ]
  },
  {
   "cell_type": "code",
   "execution_count": null,
   "metadata": {},
   "outputs": [],
   "source": [
    "???"
   ]
  },
  {
   "cell_type": "code",
   "execution_count": null,
   "metadata": {},
   "outputs": [],
   "source": [
    "assert(get_at_addr(Cons(one, Empty), Branch(Leaf, four, Branch(Leaf, five, Leaf))) == five)"
   ]
  },
  {
   "cell_type": "markdown",
   "metadata": {},
   "source": [
    "## 4b\n",
    "*Maybe*\n",
    "\n",
    "Crashing is usually not what we want on edge cases. Change `get_at_addr` to return a `Maybe[A]` (from the hw) which allows us to represent both a found value and no answer safely. Call it `get_at_addr_maybe`."
   ]
  },
  {
   "cell_type": "code",
   "execution_count": null,
   "metadata": {
    "scrolled": false
   },
   "outputs": [],
   "source": [
    "???"
   ]
  },
  {
   "cell_type": "code",
   "execution_count": null,
   "metadata": {},
   "outputs": [],
   "source": [
    "assert(get_at_addr_maybe(Cons(one, Empty), Branch(Leaf, four, Branch(Leaf, five, Leaf))) == Just(five))\n",
    "assert(get_at_addr_maybe(Cons(Zero, Empty), Branch(Leaf, four, Branch(Leaf, five, Leaf))) == None)"
   ]
  },
  {
   "cell_type": "markdown",
   "metadata": {},
   "source": [
    "## 5\n",
    "\n",
    "Write a function that composes two other functions. A.K.A:\n",
    "\n",
    "$$compose(f, g)(X) == g(f(X))$$\n",
    "\n",
    "It should have the following type:\n",
    "\n",
    "$$\\text{compose}: (a \\rightarrow b) \\rightarrow (b \\rightarrow c) \\rightarrow (a \\rightarrow c)$$"
   ]
  },
  {
   "cell_type": "code",
   "execution_count": null,
   "metadata": {
    "scrolled": true
   },
   "outputs": [],
   "source": [
    "???"
   ]
  },
  {
   "cell_type": "code",
   "execution_count": null,
   "metadata": {},
   "outputs": [],
   "source": [
    "assert(compose(not, not)(True) == not(not(True)))"
   ]
  },
  {
   "cell_type": "markdown",
   "metadata": {},
   "source": [
    "## 6\n",
    "*currying, higher order functions, polymorphism*\n",
    "\n",
    "Write a function that curries a 2 parameter function\n",
    "\n",
    "$$\\text{curry}: ((a, b) \\rightarrow c) \\rightarrow (a \\rightarrow b \\rightarrow c)$$"
   ]
  },
  {
   "cell_type": "code",
   "execution_count": null,
   "metadata": {},
   "outputs": [],
   "source": [
    "???"
   ]
  },
  {
   "cell_type": "code",
   "execution_count": null,
   "metadata": {},
   "outputs": [],
   "source": [
    "assert(curry(plus(_: Nat, _: Nat))(one)(two) == three)"
   ]
  }
 ],
 "metadata": {
  "kernelspec": {
   "display_name": "Scala",
   "language": "scala",
   "name": "scala"
  },
  "language_info": {
   "codemirror_mode": "text/x-scala",
   "file_extension": ".scala",
   "mimetype": "text/x-scala",
   "name": "scala",
   "nbconvert_exporter": "script",
   "version": "2.12.8"
  }
 },
 "nbformat": 4,
 "nbformat_minor": 2
}
