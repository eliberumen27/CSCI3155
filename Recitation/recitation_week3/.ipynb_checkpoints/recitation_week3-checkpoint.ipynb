{
 "cells": [
  {
   "cell_type": "code",
   "execution_count": 1,
   "metadata": {},
   "outputs": [
    {
     "name": "stdout",
     "output_type": "stream",
     "text": [
      "Compiling /Users/Eli/Dropbox/FALL 2019 COURSES/CSCI 3155 Principles of Programming Languages/Recitation/recitation_week3/hw3stdlib.sc"
     ]
    },
    {
     "data": {
      "text/plain": [
       "\u001b[32mimport \u001b[39m\u001b[36m$file.$        \n",
       "\u001b[39m\n",
       "\u001b[32mimport \u001b[39m\u001b[36mhw3stdlib._\u001b[39m"
      ]
     },
     "execution_count": 1,
     "metadata": {},
     "output_type": "execute_result"
    }
   ],
   "source": [
    "import $file.hw3stdlib\n",
    "import hw3stdlib._"
   ]
  },
  {
   "cell_type": "markdown",
   "metadata": {},
   "source": [
    "# Recitation: Week 3\n",
    "\n",
    "## Topics\n",
    "\n",
    "* Folds\n",
    "* Currying and partial application\n",
    "\n",
    "## Folding\n",
    "\n",
    "Implement the fold function you've seen in class using recursion in Scala:\n",
    "\n",
    "$$\n",
    "\\begin{align}\n",
    "fold : ((A, B) \\rightarrow B,\\ B,\\ List[A]) \\rightarrow B\n",
    "\\end{align}\n",
    "$$\n",
    "\n",
    "Remember, the first parameter is the function that accumulates, the second is the initial accumulator value, and the last is the list to accumulate over."
   ]
  },
  {
   "cell_type": "code",
   "execution_count": 5,
   "metadata": {},
   "outputs": [
    {
     "data": {
      "text/plain": [
       "defined \u001b[32mfunction\u001b[39m \u001b[36mfold\u001b[39m"
      ]
     },
     "execution_count": 5,
     "metadata": {},
     "output_type": "execute_result"
    }
   ],
   "source": [
    "def fold[A, B](f: (A, B) => B, acc: B, l: List[A]) : B = l match {\n",
    "    case Empty => acc\n",
    "    case Cons(v, t) => fold(f, f(v, acc), t)\n",
    "} \n",
    "// Polymophic types here based on definition and note we are using accumulator of type B. \n",
    "// v is current value and t is the tail(rest of the list)\n",
    "// Lastly realize f(v, acc) returns type B"
   ]
  },
  {
   "cell_type": "markdown",
   "metadata": {},
   "source": [
    "Next, use the fold function you just implemented to solve the `sum` and `prod` functions. As a reminder `sum` should take a list of natural numbers and return their sum. `prod` should multiply the list instead. Here are their types:\n",
    "\n",
    "$$\n",
    "sum : \\text{List}\\ \\mathbb{N} \\rightarrow \\mathbb{N} \\\\\n",
    "prod : \\text{List}\\ \\mathbb{N} \\rightarrow \\mathbb{N}\n",
    "$$"
   ]
  },
  {
   "cell_type": "code",
   "execution_count": 16,
   "metadata": {},
   "outputs": [
    {
     "data": {
      "text/plain": [
       "defined \u001b[32mfunction\u001b[39m \u001b[36msum\u001b[39m\n",
       "defined \u001b[32mfunction\u001b[39m \u001b[36mprod\u001b[39m"
      ]
     },
     "execution_count": 16,
     "metadata": {},
     "output_type": "execute_result"
    }
   ],
   "source": [
    "def sum(xs : List[Nat]) : Nat = fold(plus, Zero, xs) // We pass in the function we want, what we start the acc at, and the list\n",
    "def prod(xs : List[Nat]) : Nat = fold(mult, one, xs) // the mult acc can't start at zero obviously"
   ]
  },
  {
   "cell_type": "code",
   "execution_count": 17,
   "metadata": {},
   "outputs": [
    {
     "data": {
      "text/plain": [
       "\u001b[36mfourteen\u001b[39m: \u001b[32mSucc\u001b[39m = \u001b[33mSucc\u001b[39m(\n",
       "  \u001b[33mSucc\u001b[39m(\n",
       "    \u001b[33mSucc\u001b[39m(\u001b[33mSucc\u001b[39m(\u001b[33mSucc\u001b[39m(\u001b[33mSucc\u001b[39m(\u001b[33mSucc\u001b[39m(\u001b[33mSucc\u001b[39m(\u001b[33mSucc\u001b[39m(\u001b[33mSucc\u001b[39m(\u001b[33mSucc\u001b[39m(\u001b[33mSucc\u001b[39m(\u001b[33mSucc\u001b[39m(\u001b[33mSucc\u001b[39m(Zero))))))))))))\n",
       "  )\n",
       ")"
      ]
     },
     "execution_count": 17,
     "metadata": {},
     "output_type": "execute_result"
    }
   ],
   "source": [
    "assert(sum(Cons(one, Empty)) == one, 1)\n",
    "assert(sum(Cons(one, Cons(seven, Cons(two, Empty)))) == ten, 2)\n",
    "assert(prod(Cons(one, Empty)) == one, 3)\n",
    "val fourteen = Succ(Succ(Succ(Succ(ten))))\n",
    "assert(prod(Cons(one, Cons(seven, Cons(two, Empty)))) == fourteen, 4)"
   ]
  },
  {
   "cell_type": "markdown",
   "metadata": {},
   "source": [
    "## Lambdas\n",
    "\n",
    "Rewrite the following using lambda abstractions"
   ]
  },
  {
   "cell_type": "code",
   "execution_count": 18,
   "metadata": {
    "collapsed": true
   },
   "outputs": [
    {
     "data": {
      "text/plain": [
       "\u001b[36ml\u001b[39m: \u001b[32mCons\u001b[39m[\u001b[32mProduct\u001b[39m with \u001b[32mSerializable\u001b[39m with \u001b[32mNat\u001b[39m] = \u001b[33mCons\u001b[39m(\n",
       "  \u001b[33mSucc\u001b[39m(\u001b[33mSucc\u001b[39m(\u001b[33mSucc\u001b[39m(\u001b[33mSucc\u001b[39m(\u001b[33mSucc\u001b[39m(Zero))))),\n",
       "  \u001b[33mCons\u001b[39m(\u001b[33mSucc\u001b[39m(\u001b[33mSucc\u001b[39m(\u001b[33mSucc\u001b[39m(Zero))), \u001b[33mCons\u001b[39m(Zero, Empty))\n",
       ")\n",
       "defined \u001b[32mfunction\u001b[39m \u001b[36madd5\u001b[39m\n",
       "\u001b[36mANS1\u001b[39m: \u001b[32mList\u001b[39m[\u001b[32mNat\u001b[39m] = \u001b[33mCons\u001b[39m(\n",
       "  \u001b[33mSucc\u001b[39m(\u001b[33mSucc\u001b[39m(\u001b[33mSucc\u001b[39m(\u001b[33mSucc\u001b[39m(\u001b[33mSucc\u001b[39m(\u001b[33mSucc\u001b[39m(\u001b[33mSucc\u001b[39m(\u001b[33mSucc\u001b[39m(\u001b[33mSucc\u001b[39m(\u001b[33mSucc\u001b[39m(Zero)))))))))),\n",
       "  \u001b[33mCons\u001b[39m(\n",
       "    \u001b[33mSucc\u001b[39m(\u001b[33mSucc\u001b[39m(\u001b[33mSucc\u001b[39m(\u001b[33mSucc\u001b[39m(\u001b[33mSucc\u001b[39m(\u001b[33mSucc\u001b[39m(\u001b[33mSucc\u001b[39m(\u001b[33mSucc\u001b[39m(Zero)))))))),\n",
       "    \u001b[33mCons\u001b[39m(\u001b[33mSucc\u001b[39m(\u001b[33mSucc\u001b[39m(\u001b[33mSucc\u001b[39m(\u001b[33mSucc\u001b[39m(\u001b[33mSucc\u001b[39m(Zero))))), Empty)\n",
       "  )\n",
       ")\n",
       "defined \u001b[32mfunction\u001b[39m \u001b[36mnon_zero\u001b[39m\n",
       "\u001b[36mANS2\u001b[39m: \u001b[32mList\u001b[39m[\u001b[32mBool\u001b[39m] = \u001b[33mCons\u001b[39m(True, \u001b[33mCons\u001b[39m(True, \u001b[33mCons\u001b[39m(False, Empty)))\n",
       "defined \u001b[32mfunction\u001b[39m \u001b[36msum_and_add3\u001b[39m\n",
       "\u001b[36mANS3\u001b[39m: \u001b[32mNat\u001b[39m = \u001b[33mSucc\u001b[39m(\n",
       "  \u001b[33mSucc\u001b[39m(\n",
       "    \u001b[33mSucc\u001b[39m(\n",
       "      \u001b[33mSucc\u001b[39m(\n",
       "        \u001b[33mSucc\u001b[39m(\n",
       "          \u001b[33mSucc\u001b[39m(\n",
       "            \u001b[33mSucc\u001b[39m(\n",
       "              \u001b[33mSucc\u001b[39m(\u001b[33mSucc\u001b[39m(\u001b[33mSucc\u001b[39m(\u001b[33mSucc\u001b[39m(\u001b[33mSucc\u001b[39m(\u001b[33mSucc\u001b[39m(\u001b[33mSucc\u001b[39m(\u001b[33mSucc\u001b[39m(\u001b[33mSucc\u001b[39m(\u001b[33mSucc\u001b[39m(Zero))))))))))\n",
       "            )\n",
       "          )\n",
       "        )\n",
       "      )\n",
       "    )\n",
       "  )\n",
       ")"
      ]
     },
     "execution_count": 18,
     "metadata": {},
     "output_type": "execute_result"
    }
   ],
   "source": [
    "// Lambda functions have no names\n",
    "val l = Cons(five, Cons(three, Cons(Zero, Empty)))\n",
    "\n",
    "def add5(x: Nat): Nat = plus(x, five)\n",
    "val ANS1 = map(add5, l)\n",
    "\n",
    "def non_zero(x: Nat): Bool = x match {\n",
    "    case Zero => False\n",
    "    case _ => True\n",
    "}\n",
    "val ANS2 = map(non_zero, l)\n",
    "\n",
    "def sum_and_add3(x: Nat, y: Nat): Nat = plus(plus(three, x), y)\n",
    "val ANS3 = fold(sum_and_add3, Zero, l)"
   ]
  },
  {
   "cell_type": "code",
   "execution_count": 20,
   "metadata": {},
   "outputs": [
    {
     "data": {
      "text/plain": [
       "defined \u001b[32mfunction\u001b[39m \u001b[36madd5\u001b[39m\n",
       "\u001b[36mres19_1\u001b[39m: \u001b[32mNat\u001b[39m => \u001b[32mNat\u001b[39m = ammonite.$sess.cmd19$Helper$$Lambda$2889/709411951@1ee3b98c"
      ]
     },
     "execution_count": 20,
     "metadata": {},
     "output_type": "execute_result"
    }
   ],
   "source": [
    "def add5(x: Nat): Nat = plus(x, five)\n",
    "(x: Nat) => plus(x, five) // Sample lamda function that doesn't need to get referenced outside of the context it's in since it's kinda redundant"
   ]
  },
  {
   "cell_type": "code",
   "execution_count": 25,
   "metadata": {},
   "outputs": [
    {
     "name": "stderr",
     "output_type": "stream",
     "text": [
      "cmd25.sc:8: too many arguments (3) for method map: (f: A => B, xs: cmd25.this.hw3stdlib.List[A])cmd25.this.hw3stdlib.List[B]\n",
      "val ANS3 = map((x: Nat, y: Nat) => plus(plus(three, x), y), Zero, l) // Why doesn't it want 3 parameters\n",
      "                                                                  ^Compilation Failed"
     ]
    },
    {
     "ename": "",
     "evalue": "",
     "output_type": "error",
     "traceback": [
      "Compilation Failed"
     ]
    }
   ],
   "source": [
    "val ANS1 = map((x: Nat) => plus(x, five), l)\n",
    "\n",
    "val ANS2 = map((x: Nat) => x match {\n",
    "    case Zero => False\n",
    "    case _ => True\n",
    "}, l) // l is the second argument to map and the first argument is the function we are passing in\n",
    "\n",
    "val ANS3 = map((x: Nat, y: Nat) => plus(plus(three, x), y), Zero, l) // Why doesn't it want 3 parameters"
   ]
  },
  {
   "cell_type": "code",
   "execution_count": 23,
   "metadata": {},
   "outputs": [],
   "source": [
    "assert(ANS1 == Cons(ten, Cons(eight, Cons(five, Empty))))\n",
    "assert(ANS2 == Cons(True, Cons(True, Cons(False, Empty))))\n",
    "assert(ANS3 == Succ(Succ(Succ(Succ(Succ(Succ(Succ(Succ(Succ(Succ(Succ(Succ(Succ(Succ(Succ(Succ(Succ(Zero))))))))))))))))))"
   ]
  },
  {
   "cell_type": "markdown",
   "metadata": {},
   "source": [
    "## Partial Application\n",
    "Rewrite the calls above to use partial application where possible."
   ]
  },
  {
   "cell_type": "code",
   "execution_count": 26,
   "metadata": {},
   "outputs": [
    {
     "data": {
      "text/plain": [
       "\u001b[36mANS1\u001b[39m: \u001b[32mList\u001b[39m[\u001b[32mNat\u001b[39m] = \u001b[33mCons\u001b[39m(\n",
       "  \u001b[33mSucc\u001b[39m(\u001b[33mSucc\u001b[39m(\u001b[33mSucc\u001b[39m(\u001b[33mSucc\u001b[39m(\u001b[33mSucc\u001b[39m(\u001b[33mSucc\u001b[39m(\u001b[33mSucc\u001b[39m(\u001b[33mSucc\u001b[39m(\u001b[33mSucc\u001b[39m(\u001b[33mSucc\u001b[39m(Zero)))))))))),\n",
       "  \u001b[33mCons\u001b[39m(\n",
       "    \u001b[33mSucc\u001b[39m(\u001b[33mSucc\u001b[39m(\u001b[33mSucc\u001b[39m(\u001b[33mSucc\u001b[39m(\u001b[33mSucc\u001b[39m(\u001b[33mSucc\u001b[39m(\u001b[33mSucc\u001b[39m(\u001b[33mSucc\u001b[39m(Zero)))))))),\n",
       "    \u001b[33mCons\u001b[39m(\u001b[33mSucc\u001b[39m(\u001b[33mSucc\u001b[39m(\u001b[33mSucc\u001b[39m(\u001b[33mSucc\u001b[39m(\u001b[33mSucc\u001b[39m(Zero))))), Empty)\n",
       "  )\n",
       ")"
      ]
     },
     "execution_count": 26,
     "metadata": {},
     "output_type": "execute_result"
    }
   ],
   "source": [
    "// Partial Application is to have a smaller arity\n",
    "// ie: def func(a, b, c) => func(a, b)\n",
    "\n",
    "val ANS1 = map(plus(_, five), l)\n",
    "\n",
    "\n",
    "// ANS2\n",
    "\n",
    "// ANS3\n"
   ]
  },
  {
   "cell_type": "code",
   "execution_count": 27,
   "metadata": {},
   "outputs": [],
   "source": [
    "assert(ANS1 == Cons(ten, Cons(eight, Cons(five, Empty))))"
   ]
  },
  {
   "cell_type": "markdown",
   "metadata": {},
   "source": [
    "## Curry the following functions\n",
    "Do it both manually, and using Scala's built in currying method."
   ]
  },
  {
   "cell_type": "code",
   "execution_count": 34,
   "metadata": {},
   "outputs": [
    {
     "data": {
      "text/plain": [
       "defined \u001b[32mfunction\u001b[39m \u001b[36mf1\u001b[39m\n",
       "defined \u001b[32mfunction\u001b[39m \u001b[36mf2\u001b[39m"
      ]
     },
     "execution_count": 34,
     "metadata": {},
     "output_type": "execute_result"
    }
   ],
   "source": [
    "// partial application reduces the amount of arguments a function needs\n",
    "// Currying is taking what may have been a higher order function, and sorta nests higher order functions?\n",
    "// Good for debugging since it makes you do things in the right order such that arguments passed in matters\n",
    "def f1(x: Nat, y: Bool, z: List[Nat]): Nat = three // takes x y z and returns a Nat\n",
    "def f2(x: Nat, y: Bool => List[Nat]): Nat = eight"
   ]
  },
  {
   "cell_type": "code",
   "execution_count": 35,
   "metadata": {},
   "outputs": [
    {
     "data": {
      "text/plain": [
       "defined \u001b[32mfunction\u001b[39m \u001b[36mf1_manual_curry\u001b[39m\n",
       "\u001b[36mc1\u001b[39m: \u001b[32mBool\u001b[39m => \u001b[32mList\u001b[39m[\u001b[32mNat\u001b[39m] => \u001b[32mNat\u001b[39m = ammonite.$sess.cmd34$Helper$$Lambda$3171/2118013094@7421a344\n",
       "\u001b[36mc2\u001b[39m: \u001b[32mList\u001b[39m[\u001b[32mNat\u001b[39m] => \u001b[32mNat\u001b[39m = ammonite.$sess.cmd34$Helper$$Lambda$3172/802836780@4d1fabc\n",
       "\u001b[36mc3\u001b[39m: \u001b[32mNat\u001b[39m = \u001b[33mSucc\u001b[39m(\u001b[33mSucc\u001b[39m(\u001b[33mSucc\u001b[39m(Zero)))\n",
       "defined \u001b[32mfunction\u001b[39m \u001b[36mf1_scala_curry\u001b[39m"
      ]
     },
     "execution_count": 35,
     "metadata": {},
     "output_type": "execute_result"
    }
   ],
   "source": [
    "def f1_manual_curry(x: Nat): Bool => List[Nat] => Nat = {\n",
    "    (y: Bool) => {\n",
    "        (z: List[Nat]) => three\n",
    "    }\n",
    "}\n",
    "\n",
    "val c1 = f1_manual_curry(three)\n",
    "val c2 = c1(True)\n",
    "val c3 = c2(Cons(Zero, Empty))\n",
    "\n",
    "def f1_scala_curry(x: Nat)(y: Bool)(z: List[Nat]): Nat = three\n",
    "\n",
    "// f2_manual_curry\n",
    "\n",
    "// f2_scala_curry\n"
   ]
  },
  {
   "cell_type": "code",
   "execution_count": 35,
   "metadata": {},
   "outputs": [
    {
     "name": "stderr",
     "output_type": "stream",
     "text": [
      "cmd35.sc:3: not found: value f2_manual_curry\n",
      "val res35_2 = assert(f2(three, g => Empty) == f2_manual_curry(three)(g => Empty))\n",
      "                                              ^cmd35.sc:4: not found: value f2_scala_curry\n",
      "val res35_3 = assert(f2(three, g => Empty) == f2_scala_curry(three)(g => Empty))\n",
      "                                              ^Compilation Failed"
     ]
    },
    {
     "ename": "",
     "evalue": "",
     "output_type": "error",
     "traceback": [
      "Compilation Failed"
     ]
    }
   ],
   "source": [
    "assert(f1(three, True, Empty) == f1_manual_curry(three)(True)(Cons(four, Empty)))\n",
    "assert(f1(three, True, Empty) == f1_scala_curry(three)(True)(Cons(four, Empty)))\n",
    "assert(f2(three, g => Empty) == f2_manual_curry(three)(g => Empty))\n",
    "assert(f2(three, g => Empty) == f2_scala_curry(three)(g => Empty))"
   ]
  },
  {
   "cell_type": "code",
   "execution_count": null,
   "metadata": {},
   "outputs": [],
   "source": []
  }
 ],
 "metadata": {
  "kernelspec": {
   "display_name": "Scala",
   "language": "scala",
   "name": "scala"
  },
  "language_info": {
   "codemirror_mode": "text/x-scala",
   "file_extension": ".scala",
   "mimetype": "text/x-scala",
   "name": "scala",
   "nbconvert_exporter": "script",
   "version": "2.12.8"
  }
 },
 "nbformat": 4,
 "nbformat_minor": 2
}
