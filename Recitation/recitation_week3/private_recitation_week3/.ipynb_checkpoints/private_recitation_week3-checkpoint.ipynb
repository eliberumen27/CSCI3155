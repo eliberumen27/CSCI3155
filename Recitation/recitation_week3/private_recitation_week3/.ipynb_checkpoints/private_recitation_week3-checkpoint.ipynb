{
 "cells": [
  {
   "cell_type": "code",
   "execution_count": 1,
   "metadata": {},
   "outputs": [
    {
     "data": {
      "text/plain": [
       "\u001b[32mimport \u001b[39m\u001b[36m$file.$        \n",
       "\u001b[39m\n",
       "\u001b[32mimport \u001b[39m\u001b[36mhw3stdlib._\u001b[39m"
      ]
     },
     "execution_count": 1,
     "metadata": {},
     "output_type": "execute_result"
    }
   ],
   "source": [
    "import $file.hw3stdlib\n",
    "import hw3stdlib._"
   ]
  },
  {
   "cell_type": "markdown",
   "metadata": {},
   "source": [
    "# Recitation: Week 3\n",
    "\n",
    "## Topics\n",
    "\n",
    "* Folds\n",
    "* Currying and partial application\n",
    "\n",
    "## Folding\n",
    "\n",
    "Implement the fold function you've seen in class using recursion in Scala:\n",
    "\n",
    "$$\n",
    "\\begin{align}\n",
    "fold : ((A, B) \\rightarrow B,\\ B,\\ List[A]) \\rightarrow B\n",
    "\\end{align}\n",
    "$$\n",
    "\n",
    "Remember, the first parameter is the function that accumulates, the second is the initial accumulator value, and the last is the list to accumulate over."
   ]
  },
  {
   "cell_type": "code",
   "execution_count": 2,
   "metadata": {},
   "outputs": [
    {
     "data": {
      "text/plain": [
       "defined \u001b[32mfunction\u001b[39m \u001b[36mfold\u001b[39m"
      ]
     },
     "execution_count": 2,
     "metadata": {},
     "output_type": "execute_result"
    }
   ],
   "source": [
    "def fold[A, B](f : ((A, B) => B), acc : B, xs : List[A]) : B = xs match {\n",
    "    case Empty       => acc\n",
    "    case Cons(x, xs) => fold(f, f(x, acc), xs)\n",
    "}"
   ]
  },
  {
   "cell_type": "markdown",
   "metadata": {},
   "source": [
    "Next, use the fold function you just implemented to solve the `sum` and `prod` functions. As a reminder `sum` should take a list of natural numbers and return their sum. `prod` should multiply the list instead. Here are their types:\n",
    "\n",
    "$$\n",
    "sum : \\text{List}\\ \\mathbb{N} \\rightarrow \\mathbb{N} \\\\\n",
    "prod : \\text{List}\\ \\mathbb{N} \\rightarrow \\mathbb{N}\n",
    "$$"
   ]
  },
  {
   "cell_type": "code",
   "execution_count": 3,
   "metadata": {},
   "outputs": [
    {
     "data": {
      "text/plain": [
       "defined \u001b[32mfunction\u001b[39m \u001b[36msum\u001b[39m\n",
       "defined \u001b[32mfunction\u001b[39m \u001b[36mprod\u001b[39m"
      ]
     },
     "execution_count": 3,
     "metadata": {},
     "output_type": "execute_result"
    }
   ],
   "source": [
    "def sum(xs : List[Nat]) : Nat = fold(plus, Zero, xs)\n",
    "def prod(xs : List[Nat]) : Nat = fold(mult, one, xs)"
   ]
  },
  {
   "cell_type": "code",
   "execution_count": 4,
   "metadata": {},
   "outputs": [
    {
     "data": {
      "text/plain": [
       "\u001b[36mfourteen\u001b[39m: \u001b[32mSucc\u001b[39m = Succ(Succ(Succ(Succ(Succ(Succ(Succ(Succ(Succ(Succ(Succ(Succ(Succ(Succ(Zero))))))))))))))"
      ]
     },
     "execution_count": 4,
     "metadata": {},
     "output_type": "execute_result"
    }
   ],
   "source": [
    "assert(sum(Cons(one, Empty)) == one, 1)\n",
    "assert(sum(Cons(one, Cons(seven, Cons(two, Empty)))) == ten, 2)\n",
    "assert(prod(Cons(one, Empty)) == one, 3)\n",
    "val fourteen = Succ(Succ(Succ(Succ(ten))))\n",
    "assert(prod(Cons(one, Cons(seven, Cons(two, Empty)))) == fourteen, 4)"
   ]
  },
  {
   "cell_type": "markdown",
   "metadata": {},
   "source": [
    "## Lambdas\n",
    "\n",
    "Rewrite the following using lambda abstractions"
   ]
  },
  {
   "cell_type": "code",
   "execution_count": 5,
   "metadata": {},
   "outputs": [
    {
     "data": {
      "text/plain": [
       "\u001b[36ml\u001b[39m: \u001b[32mCons\u001b[39m[\u001b[32mProduct\u001b[39m with \u001b[32mSerializable\u001b[39m with \u001b[32mNat\u001b[39m] = Cons(Succ(Succ(Succ(Succ(Succ(Zero))))),Cons(Succ(Succ(Succ(Zero))),Cons(Zero,Empty)))\n",
       "defined \u001b[32mfunction\u001b[39m \u001b[36madd5\u001b[39m\n",
       "\u001b[36mANS1\u001b[39m: \u001b[32mList\u001b[39m[\u001b[32mNat\u001b[39m] = Cons(Succ(Succ(Succ(Succ(Succ(Succ(Succ(Succ(Succ(Succ(Zero)))))))))),Cons(Succ(Succ(Succ(Succ(Succ(Succ(Succ(Succ(Zero)))))))),Cons(Succ(Succ(Succ(Succ(Succ(Zero))))),Empty)))\n",
       "defined \u001b[32mfunction\u001b[39m \u001b[36mnon_zero\u001b[39m\n",
       "\u001b[36mANS2\u001b[39m: \u001b[32mList\u001b[39m[\u001b[32mBool\u001b[39m] = Cons(True,Cons(True,Cons(False,Empty)))\n",
       "defined \u001b[32mfunction\u001b[39m \u001b[36msum_and_add3\u001b[39m\n",
       "\u001b[36mANS3\u001b[39m: \u001b[32mNat\u001b[39m = Succ(Succ(Succ(Succ(Succ(Succ(Succ(Succ(Succ(Succ(Succ(Succ(Succ(Succ(Succ(Succ(Succ(Zero)))))))))))))))))"
      ]
     },
     "execution_count": 5,
     "metadata": {},
     "output_type": "execute_result"
    }
   ],
   "source": [
    "val l = Cons(five, Cons(three, Cons(Zero, Empty)))\n",
    "\n",
    "def add5(x: Nat): Nat = plus(x, five)\n",
    "val ANS1 = map(add5, l)\n",
    "\n",
    "def non_zero(x: Nat): Bool = x match {\n",
    "    case Zero => False\n",
    "    case _ => True\n",
    "}\n",
    "val ANS2 = map(non_zero, l)\n",
    "\n",
    "def sum_and_add3(x: Nat, y: Nat): Nat = plus(plus(three, x), y)\n",
    "val ANS3 = fold(sum_and_add3, Zero, l)"
   ]
  },
  {
   "cell_type": "code",
   "execution_count": 6,
   "metadata": {},
   "outputs": [
    {
     "data": {
      "text/plain": [
       "\u001b[36mANS1\u001b[39m: \u001b[32mList\u001b[39m[\u001b[32mNat\u001b[39m] = Cons(Succ(Succ(Succ(Succ(Succ(Succ(Succ(Succ(Succ(Succ(Zero)))))))))),Cons(Succ(Succ(Succ(Succ(Succ(Succ(Succ(Succ(Zero)))))))),Cons(Succ(Succ(Succ(Succ(Succ(Zero))))),Empty)))\n",
       "\u001b[36mANS2\u001b[39m: \u001b[32mList\u001b[39m[\u001b[32mProduct\u001b[39m with \u001b[32mSerializable\u001b[39m with \u001b[32mBool\u001b[39m] = Cons(True,Cons(True,Cons(False,Empty)))\n",
       "\u001b[36mANS3\u001b[39m: \u001b[32mNat\u001b[39m = Succ(Succ(Succ(Succ(Succ(Succ(Succ(Succ(Succ(Succ(Succ(Succ(Succ(Succ(Succ(Succ(Succ(Zero)))))))))))))))))"
      ]
     },
     "execution_count": 6,
     "metadata": {},
     "output_type": "execute_result"
    }
   ],
   "source": [
    "val ANS1 = map((x: Nat) => plus(x, five), l)\n",
    "\n",
    "val ANS2 = map((x: Nat) => x match {\n",
    "    case Zero => False\n",
    "    case _ => True\n",
    "}, l)\n",
    "\n",
    "val ANS3 = fold((x: Nat, y: Nat) => plus(plus(three, x), y), Zero, l)"
   ]
  },
  {
   "cell_type": "code",
   "execution_count": 7,
   "metadata": {},
   "outputs": [],
   "source": [
    "assert(ANS1 == Cons(ten, Cons(eight, Cons(five, Empty))))\n",
    "assert(ANS2 == Cons(True, Cons(True, Cons(False, Empty))))\n",
    "assert(ANS3 == Succ(Succ(Succ(Succ(Succ(Succ(Succ(Succ(Succ(Succ(Succ(Succ(Succ(Succ(Succ(Succ(Succ(Zero))))))))))))))))))"
   ]
  },
  {
   "cell_type": "markdown",
   "metadata": {},
   "source": [
    "## Partial Application\n",
    "Rewrite the calls above to use partial application where possible."
   ]
  },
  {
   "cell_type": "code",
   "execution_count": 8,
   "metadata": {},
   "outputs": [
    {
     "data": {
      "text/plain": [
       "\u001b[36mANS1\u001b[39m: \u001b[32mList\u001b[39m[\u001b[32mNat\u001b[39m] = Cons(Succ(Succ(Succ(Succ(Succ(Succ(Succ(Succ(Succ(Succ(Zero)))))))))),Cons(Succ(Succ(Succ(Succ(Succ(Succ(Succ(Succ(Zero)))))))),Cons(Succ(Succ(Succ(Succ(Succ(Zero))))),Empty)))"
      ]
     },
     "execution_count": 8,
     "metadata": {},
     "output_type": "execute_result"
    }
   ],
   "source": [
    "val ANS1 = map(plus(_: Nat, five), l)\n",
    "\n",
    "// val ANS2 = NO PARTIAL APPLICATION WITH MATCH since it's not a function\n",
    "\n",
    "// val ANS3 = CAN'T NEST PARTIAL APPLICATION\n",
    "// I.E., no plus(plus(three, _), _)\n",
    "// NOTE: plus(_, _)"
   ]
  },
  {
   "cell_type": "code",
   "execution_count": 9,
   "metadata": {},
   "outputs": [],
   "source": [
    "assert(ANS1 == Cons(ten, Cons(eight, Cons(five, Empty))))"
   ]
  },
  {
   "cell_type": "markdown",
   "metadata": {},
   "source": [
    "## Curry the following functions\n",
    "Do it both manually, and using Scala's built in currying method."
   ]
  },
  {
   "cell_type": "code",
   "execution_count": 10,
   "metadata": {},
   "outputs": [
    {
     "data": {
      "text/plain": [
       "defined \u001b[32mfunction\u001b[39m \u001b[36mf1\u001b[39m\n",
       "defined \u001b[32mfunction\u001b[39m \u001b[36mf2\u001b[39m"
      ]
     },
     "execution_count": 10,
     "metadata": {},
     "output_type": "execute_result"
    }
   ],
   "source": [
    "def f1(x: Nat, y: Bool, z: List[Nat]): Nat = three\n",
    "def f2(x: Nat, y: Bool => List[Nat]): Nat = eight"
   ]
  },
  {
   "cell_type": "code",
   "execution_count": 11,
   "metadata": {},
   "outputs": [
    {
     "data": {
      "text/plain": [
       "defined \u001b[32mfunction\u001b[39m \u001b[36mf1_manual_curry\u001b[39m\n",
       "defined \u001b[32mfunction\u001b[39m \u001b[36mf1_scala_curry\u001b[39m\n",
       "defined \u001b[32mfunction\u001b[39m \u001b[36mf2_manual_curry\u001b[39m\n",
       "defined \u001b[32mfunction\u001b[39m \u001b[36mf2_scala_curry\u001b[39m"
      ]
     },
     "execution_count": 11,
     "metadata": {},
     "output_type": "execute_result"
    }
   ],
   "source": [
    "def f1_manual_curry(x: Nat): Bool => List[Nat] => Nat = {\n",
    "    (y: Bool) => {\n",
    "        (z: List[Nat]) => three\n",
    "    }\n",
    "}\n",
    "def f1_scala_curry(x: Nat)(y: Bool)(z: List[Nat]): Nat = three\n",
    "\n",
    "def f2_manual_curry(x: Nat): (Bool => List[Nat]) => Nat = {\n",
    "    (y: Bool => List[Nat]) => eight\n",
    "}\n",
    "def f2_scala_curry(x: Nat)(y: Bool => List[Nat]): Nat = eight"
   ]
  },
  {
   "cell_type": "code",
   "execution_count": 12,
   "metadata": {},
   "outputs": [],
   "source": [
    "assert(f1(three, True, Empty) == f1_manual_curry(three)(True)(Cons(four, Empty)))\n",
    "assert(f1(three, True, Empty) == f1_scala_curry(three)(True)(Cons(four, Empty)))\n",
    "assert(f2(three, g => Empty) == f2_manual_curry(three)(g => Empty))\n",
    "assert(f2(three, g => Empty) == f2_scala_curry(three)(g => Empty))"
   ]
  }
 ],
 "metadata": {
  "kernelspec": {
   "display_name": "Scala",
   "language": "scala",
   "name": "scala"
  },
  "language_info": {
   "codemirror_mode": "text/x-scala",
   "file_extension": ".scala",
   "mimetype": "text/x-scala",
   "name": "scala",
   "nbconvert_exporter": "script",
   "version": "2.12.8"
  }
 },
 "nbformat": 4,
 "nbformat_minor": 2
}
