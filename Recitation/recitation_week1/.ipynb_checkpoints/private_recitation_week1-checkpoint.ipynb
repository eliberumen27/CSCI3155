{
 "cells": [
  {
   "cell_type": "code",
   "execution_count": null,
   "metadata": {},
   "outputs": [],
   "source": []
  },
  {
   "cell_type": "markdown",
   "metadata": {},
   "source": [
    "# Recitation: Week 1\n",
    "\n",
    "## Topics\n",
    "\n",
    "* Scala encodings of:\n",
    "  * Algebraic Datatypes\n",
    "  * Functions\n",
    "  * Pattern Matching\n",
    "\n",
    "## Defining Types\n",
    "\n",
    "We saw this week that we can define new types when we feel they will be useful and have some meaning in our Formal System. The first example we saw was the Booleans($\\mathbb{B}$). Here is a refresher of the defintion:\n",
    "\n",
    "$$\n",
    "\\begin{align}\n",
    "\\mathbb{B} := \\text{true}\\ \\mid\\ \\text{false}\n",
    "\\end{align}\n",
    "$$\n",
    "\n",
    "Below we will now write this definition in Scala:"
   ]
  },
  {
   "cell_type": "code",
   "execution_count": 1,
   "metadata": {},
   "outputs": [
    {
     "data": {
      "text/plain": [
       "defined \u001b[32mtrait\u001b[39m \u001b[36mBool\u001b[39m\n",
       "defined \u001b[32mobject\u001b[39m \u001b[36mTrue\u001b[39m\n",
       "defined \u001b[32mobject\u001b[39m \u001b[36mFalse\u001b[39m"
      ]
     },
     "execution_count": 1,
     "metadata": {},
     "output_type": "execute_result"
    }
   ],
   "source": [
    "sealed trait Bool\n",
    "case object True extends Bool\n",
    "case object False extends Bool"
   ]
  },
  {
   "cell_type": "markdown",
   "metadata": {},
   "source": [
    "### Some Boolean Values\n",
    "\n",
    "We can test that this works by trying to construct some values of Bool. There are only two so this should be fairly easy."
   ]
  },
  {
   "cell_type": "code",
   "execution_count": 2,
   "metadata": {},
   "outputs": [
    {
     "data": {
      "text/plain": [
       "defined \u001b[32mfunction\u001b[39m \u001b[36mt\u001b[39m\n",
       "defined \u001b[32mfunction\u001b[39m \u001b[36mf\u001b[39m"
      ]
     },
     "execution_count": 2,
     "metadata": {},
     "output_type": "execute_result"
    }
   ],
   "source": [
    "def t = True\n",
    "def f = False"
   ]
  },
  {
   "cell_type": "markdown",
   "metadata": {},
   "source": [
    "## Defining Functions \n",
    "\n",
    "The next thing we might want to do is define some functions on the Booleans. This should be fairly simple to do. Let's start with the simple identity function. Identity takes in some boolean and returns that same boolean. Formally, we write this as:\n",
    "\n",
    "$$\n",
    "\\begin{align}\n",
    "\\text{id}& : \\mathbb{B} \\rightarrow \\mathbb{B}\\\\\n",
    "\\text{id}&\\ x = x\n",
    "\\end{align}\n",
    "$$\n",
    "\n",
    "And in Scala:"
   ]
  },
  {
   "cell_type": "code",
   "execution_count": 5,
   "metadata": {},
   "outputs": [
    {
     "data": {
      "text/plain": [
       "defined \u001b[32mfunction\u001b[39m \u001b[36mid\u001b[39m"
      ]
     },
     "execution_count": 5,
     "metadata": {},
     "output_type": "execute_result"
    }
   ],
   "source": [
    "def id(x : Bool) : Bool = x"
   ]
  },
  {
   "cell_type": "markdown",
   "metadata": {},
   "source": [
    "Now we can try to define some more interesting functions. Lets do negation of Booleans.\n",
    "\n",
    "$$\n",
    "\\begin{align}\n",
    "\\text{not}& : \\mathbb{B} \\rightarrow \\mathbb{B}\\\\\n",
    "\\text{not}& \\text{true}\\ = \\text{false}\\\\\n",
    "\\text{not}& \\text{false}\\ = \\text{true}\n",
    "\\end{align}\n",
    "$$\n"
   ]
  },
  {
   "cell_type": "code",
   "execution_count": 6,
   "metadata": {},
   "outputs": [
    {
     "data": {
      "text/plain": [
       "defined \u001b[32mfunction\u001b[39m \u001b[36mnot\u001b[39m"
      ]
     },
     "execution_count": 6,
     "metadata": {},
     "output_type": "execute_result"
    }
   ],
   "source": [
    "def not(x : Bool) : Bool = x match {\n",
    "    case True => False\n",
    "    case False => True\n",
    "}"
   ]
  },
  {
   "cell_type": "markdown",
   "metadata": {},
   "source": [
    "## More Boolean Functions\n",
    "\n",
    "### And"
   ]
  },
  {
   "cell_type": "code",
   "execution_count": 7,
   "metadata": {},
   "outputs": [
    {
     "data": {
      "text/plain": [
       "defined \u001b[32mfunction\u001b[39m \u001b[36mand1\u001b[39m"
      ]
     },
     "execution_count": 7,
     "metadata": {},
     "output_type": "execute_result"
    }
   ],
   "source": [
    "def and1(x : Bool, y : Bool) : Bool = x match {\n",
    "    case True => y match {\n",
    "        case True => True\n",
    "        case False => False\n",
    "    }\n",
    "    case False => False\n",
    "}"
   ]
  },
  {
   "cell_type": "code",
   "execution_count": 8,
   "metadata": {},
   "outputs": [
    {
     "data": {
      "text/plain": [
       "defined \u001b[32mfunction\u001b[39m \u001b[36mand\u001b[39m"
      ]
     },
     "execution_count": 8,
     "metadata": {},
     "output_type": "execute_result"
    }
   ],
   "source": [
    "def and(x : Bool, y : Bool) : Bool = (x,y) match {\n",
    "    case (True, True) => True\n",
    "    case _ => False\n",
    "}"
   ]
  },
  {
   "cell_type": "markdown",
   "metadata": {},
   "source": [
    "### Or"
   ]
  },
  {
   "cell_type": "code",
   "execution_count": 9,
   "metadata": {},
   "outputs": [
    {
     "data": {
      "text/plain": [
       "defined \u001b[32mfunction\u001b[39m \u001b[36mor\u001b[39m"
      ]
     },
     "execution_count": 9,
     "metadata": {},
     "output_type": "execute_result"
    }
   ],
   "source": [
    "def or(x : Bool, y : Bool) : Bool = (x, y) match {\n",
    "    case (False, False) => False\n",
    "    case _              => True\n",
    "}"
   ]
  },
  {
   "cell_type": "markdown",
   "metadata": {},
   "source": [
    "### XOR"
   ]
  },
  {
   "cell_type": "code",
   "execution_count": 10,
   "metadata": {},
   "outputs": [
    {
     "data": {
      "text/plain": [
       "defined \u001b[32mfunction\u001b[39m \u001b[36mxor\u001b[39m"
      ]
     },
     "execution_count": 10,
     "metadata": {},
     "output_type": "execute_result"
    }
   ],
   "source": [
    "def xor(x : Bool, y : Bool) : Bool = (x, y) match{\n",
    "    case (True, False) => True\n",
    "    case (False, True) => True\n",
    "    case _ => False\n",
    "}"
   ]
  },
  {
   "cell_type": "markdown",
   "metadata": {},
   "source": [
    "### Nand\n",
    "\n",
    "Try to define this one in two different ways: with and without pattern matching"
   ]
  },
  {
   "cell_type": "code",
   "execution_count": 11,
   "metadata": {},
   "outputs": [
    {
     "data": {
      "text/plain": [
       "defined \u001b[32mfunction\u001b[39m \u001b[36mnand1\u001b[39m"
      ]
     },
     "execution_count": 11,
     "metadata": {},
     "output_type": "execute_result"
    }
   ],
   "source": [
    "def nand1(x : Bool, y : Bool) : Bool = (x, y) match{\n",
    "    case (False, False) => True\n",
    "    case _              => False\n",
    "}"
   ]
  },
  {
   "cell_type": "code",
   "execution_count": 12,
   "metadata": {},
   "outputs": [
    {
     "data": {
      "text/plain": [
       "defined \u001b[32mfunction\u001b[39m \u001b[36mnand\u001b[39m"
      ]
     },
     "execution_count": 12,
     "metadata": {},
     "output_type": "execute_result"
    }
   ],
   "source": [
    "def nand(x : Bool, y : Bool) : Bool = not(and(x,y))"
   ]
  },
  {
   "cell_type": "markdown",
   "metadata": {},
   "source": [
    "## Algebraic Datatypes\n",
    "\n",
    "We can also encode more complication Algebraic Datatypes in Scala such as the Natural Numbers, Lists, Maybe, and more.\n",
    "\n",
    "Let's now encode the natural numbers:\n",
    "\n",
    "$$\n",
    "\\begin{align}\n",
    "\\mathbb{N} :=&\\ \\text{zero} \\\\\n",
    "\\mid&\\ \\text{succ}\\ \\mathbb{N}\n",
    "\\end{align}\n",
    "$$"
   ]
  },
  {
   "cell_type": "code",
   "execution_count": 13,
   "metadata": {},
   "outputs": [
    {
     "data": {
      "text/plain": [
       "defined \u001b[32mtrait\u001b[39m \u001b[36mNat\u001b[39m\n",
       "defined \u001b[32mobject\u001b[39m \u001b[36mZero\u001b[39m\n",
       "defined \u001b[32mclass\u001b[39m \u001b[36mSucc\u001b[39m"
      ]
     },
     "execution_count": 13,
     "metadata": {},
     "output_type": "execute_result"
    }
   ],
   "source": [
    "sealed trait Nat\n",
    "case object Zero extends Nat\n",
    "case class  Succ(pred : Nat) extends Nat"
   ]
  },
  {
   "cell_type": "markdown",
   "metadata": {},
   "source": [
    "As a sanity check we can also define some values of type Nat:"
   ]
  },
  {
   "cell_type": "code",
   "execution_count": 18,
   "metadata": {},
   "outputs": [
    {
     "data": {
      "text/plain": [
       "defined \u001b[32mfunction\u001b[39m \u001b[36mone\u001b[39m\n",
       "defined \u001b[32mfunction\u001b[39m \u001b[36mtwo\u001b[39m\n",
       "defined \u001b[32mfunction\u001b[39m \u001b[36mtwo_prime\u001b[39m\n",
       "defined \u001b[32mfunction\u001b[39m \u001b[36mthree\u001b[39m"
      ]
     },
     "execution_count": 18,
     "metadata": {},
     "output_type": "execute_result"
    }
   ],
   "source": [
    "def one = Succ(Zero)\n",
    "def two = Succ(Succ(Zero))\n",
    "def two_prime = Succ( one )\n",
    "def three = Succ(two)"
   ]
  },
  {
   "cell_type": "markdown",
   "metadata": {},
   "source": [
    "## Plus\n",
    "\n",
    "Now define the plus function as we defined it in class:"
   ]
  },
  {
   "cell_type": "code",
   "execution_count": 19,
   "metadata": {},
   "outputs": [
    {
     "data": {
      "text/plain": [
       "defined \u001b[32mfunction\u001b[39m \u001b[36mplus\u001b[39m"
      ]
     },
     "execution_count": 19,
     "metadata": {},
     "output_type": "execute_result"
    }
   ],
   "source": [
    "def plus(x : Nat, y : Nat) : Nat = x match {\n",
    "    case Zero    => y\n",
    "    case Succ(z) => Succ(plus(z, y))\n",
    "}"
   ]
  },
  {
   "cell_type": "code",
   "execution_count": 20,
   "metadata": {},
   "outputs": [
    {
     "data": {
      "text/plain": [
       "\u001b[36mres19\u001b[39m: \u001b[32mNat\u001b[39m = \u001b[33mSucc\u001b[39m(\u001b[33mSucc\u001b[39m(\u001b[33mSucc\u001b[39m(\u001b[33mSucc\u001b[39m(\u001b[33mSucc\u001b[39m(Zero)))))"
      ]
     },
     "execution_count": 20,
     "metadata": {},
     "output_type": "execute_result"
    }
   ],
   "source": [
    "plus(two, three)"
   ]
  },
  {
   "cell_type": "code",
   "execution_count": null,
   "metadata": {},
   "outputs": [],
   "source": []
  }
 ],
 "metadata": {
  "kernelspec": {
   "display_name": "Scala",
   "language": "scala",
   "name": "scala"
  },
  "language_info": {
   "codemirror_mode": "text/x-scala",
   "file_extension": ".scala",
   "mimetype": "text/x-scala",
   "name": "scala",
   "nbconvert_exporter": "script",
   "version": "2.12.8"
  }
 },
 "nbformat": 4,
 "nbformat_minor": 2
}
