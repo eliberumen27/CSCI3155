{
 "cells": [
  {
   "cell_type": "markdown",
   "metadata": {},
   "source": [
    "# Bind"
   ]
  },
  {
   "cell_type": "markdown",
   "metadata": {},
   "source": [
    "I'm just going to go ahead and import all of the things that we need and copy over some definitions.  All of this is taken from Homework 8.  A lot of this notebook will look incredibly similar to the examples in that homework.  This will be looking at them in a little more detail with a few more examples."
   ]
  },
  {
   "cell_type": "code",
   "execution_count": 1,
   "metadata": {},
   "outputs": [
    {
     "name": "stdout",
     "output_type": "stream",
     "text": [
      "Compiling /Users/Eli/Dropbox/FALL 2019 COURSES/CSCI 3155 Principles of Programming Languages/Supplemental Resources/Bind/hw8stdlib.sc"
     ]
    },
    {
     "data": {
      "text/plain": [
       "\u001b[32mimport \u001b[39m\u001b[36m$file.$        \n",
       "\u001b[39m\n",
       "\u001b[32mimport \u001b[39m\u001b[36mhw8stdlib._\u001b[39m"
      ]
     },
     "execution_count": 1,
     "metadata": {},
     "output_type": "execute_result"
    }
   ],
   "source": [
    "import $file.hw8stdlib\n",
    "import hw8stdlib._"
   ]
  },
  {
   "cell_type": "code",
   "execution_count": 2,
   "metadata": {},
   "outputs": [
    {
     "data": {
      "text/plain": [
       "defined \u001b[32mtype\u001b[39m \u001b[36mParser\u001b[39m\n",
       "defined \u001b[32mfunction\u001b[39m \u001b[36mchar\u001b[39m\n",
       "defined \u001b[32mfunction\u001b[39m \u001b[36msuccess\u001b[39m\n",
       "defined \u001b[32mfunction\u001b[39m \u001b[36mfailure\u001b[39m\n",
       "defined \u001b[32mfunction\u001b[39m \u001b[36mchoose\u001b[39m\n",
       "defined \u001b[32mfunction\u001b[39m \u001b[36mrunParser\u001b[39m"
      ]
     },
     "execution_count": 2,
     "metadata": {},
     "output_type": "execute_result"
    }
   ],
   "source": [
    "type Parser[S,D] = List[S] => List[(D, List[S])]\n",
    "\n",
    "def char(c : Char) : Parser[Char,Char] = \n",
    "(ss : List[Char]) => ss match {\n",
    "    case Empty      => Empty\n",
    "    case Cons(s,ss) => char_eq(s,c) match {\n",
    "        case True  => singleton((s, ss))\n",
    "        case False => Empty\n",
    "    }\n",
    "}\n",
    "\n",
    "def success[S, D](x : D) : Parser[S, D] = \n",
    "  (ss : List[S]) => singleton((x, ss))\n",
    "\n",
    "def failure[S, D]() : Parser[S,D] = (ss : List[S]) => Empty\n",
    "\n",
    "def choose[S, D](p : Parser[S, D], q : Parser[S, D]) : Parser[S, D] = (ss : List[S]) =>\n",
    "{\n",
    "    val p_res = p(ss)\n",
    "    val q_res = q(ss)\n",
    "    append(p_res, q_res)\n",
    "} \n",
    "\n",
    "def runParser[D](p : Parser[Char, D], s : String) : Maybe[D] = p(string_to_list(s)) match {\n",
    "    case Empty                   => Nothing\n",
    "    case Cons((x, Empty), Empty) => Just(x)\n",
    "    case _                       => Nothing\n",
    "}"
   ]
  },
  {
   "cell_type": "markdown",
   "metadata": {},
   "source": [
    "## Bind - Sequencing our Parses\n",
    "\n",
    "`bind` allows us to sequence parses. It can be a little confusing at first but with some practice it becomes very intuitive to use.\n",
    "\n",
    "The type for bind is: \n",
    "\n",
    "\n",
    "$$\n",
    "\\textbf{bind } : \\underbrace{\\textbf{Parser } S\\ D_1\\ }_{p_1\\text{ - First Parser}}\\rightarrow \\underbrace{(D_1 \\rightarrow \\textbf{Parser } S\\ D_2\\ )}_{p_2\\text{ - Generator for Second Parser}} \\rightarrow \\underbrace{\\textbf{Parser } S\\ D_2}_{p_1p_2\\text{ - Composite Parser} }\n",
    "$$\n",
    "\n",
    "Let's break down each part of this signature:\n",
    "\n",
    "* $p_1$ is the first parser we will use on an input. It will give us a parsed result of type $D_1$. We will then feed this result into the next part.\n",
    "* $p_2$ is a generator for a parser which takes, as an argument something of type $D_1$, and returns a parser which gives results of type $D_2$. `bind` takes the result of running the first parser $p_1$ on some input and then feeds that result into this function, producing the output type for `bind`- $\\textbf{Parser } S\\ D_2$\n",
    "\n",
    "Here is the implementation of `bind`."
   ]
  },
  {
   "cell_type": "code",
   "execution_count": null,
   "metadata": {
    "scrolled": true
   },
   "outputs": [],
   "source": [
    "def bind[S, D, E](p : Parser[S,D], q : (D => Parser[S,E]) ) : Parser[S,E] = \n",
    "  (ss : List[S]) => {\n",
    "      val join = (res : (D, List[S])) => res match {case (d, ss2) => q(d)(ss2)}\n",
    "      concatMap(join, p(ss))\n",
    "  } "
   ]
  },
  {
   "cell_type": "markdown",
   "metadata": {},
   "source": [
    "## \"so thats cool and all but, like, what does it mean?\"\n",
    "\n",
    "First of all, don't start by trying to understand the code itself.  Some of you might find it useful but I promise that learning what it is *doing* first will make it so much easier to look back at what the code actually did.\n",
    "\n",
    "`bind` lets us string together multiple parsers.  It does this by first taking in a valid parser.  This could be the return value of something like `char('a')`.  Let's go ahead and set up two of these and some strings to be used later."
   ]
  },
  {
   "cell_type": "code",
   "execution_count": null,
   "metadata": {},
   "outputs": [],
   "source": [
    "val abc = string_to_list(\"abc\")\n",
    "val aab = string_to_list(\"aab\")\n",
    "val bcd = string_to_list(\"bcd\")\n",
    "\n",
    "val parseA = char('a')\n",
    "val parseB = char('b')"
   ]
  },
  {
   "cell_type": "markdown",
   "metadata": {},
   "source": [
    "Awesome.  Now we have two simple parsers that can parse out `a` and `b`.  But what if we didn't want to just parse one character?  What if we wanted to parse `a` then `b` in a string?  Well, we know that running them will either give us a list of valid parses if it works or an empty list if it doesn't."
   ]
  },
  {
   "cell_type": "code",
   "execution_count": null,
   "metadata": {},
   "outputs": [],
   "source": [
    "parseA(abc)\n",
    "parseB(abc)"
   ]
  },
  {
   "cell_type": "markdown",
   "metadata": {},
   "source": [
    "With that in mind, the first thing that `bind` does is take the input to parse then runs it through that first parser given to it.  This means that if we have something like\n",
    "```\n",
    "bind(parseA, PARSER_GENERATOR)(abc)\n",
    "```\n",
    "the first thing that it will do is parse the variable `abc` using `parseA`.  When the first parser executes, it returns something of type `(S,[D])`.  In this case, we would get `('a', ['b', 'c'])` as output.\n",
    "\n",
    "Now, I've clearly glossed over something really important.  What is `PARSER_GENERATOR`?  We say that a parser generator is a function that returns a parser.  You've actually already encountered one of these; the function `char` is a parser generator.  How do we know this?  Well, in our `bind` definition, we stated that its second argument should be a function that takes in a single argument and returns a parser.  `char` takes a single argument, the character to parse, then returns a parser.\n",
    "\n",
    "The next thing we need to figure out is why we need a parser generator instead of just a parser itself.  This is where the magic happens.  After the first parser is applied to the input, its output is passed to the parser generator.  Let's break that down.  If we had something like\n",
    "```\n",
    "bind(parseA, PARSER_GENERATOR)(aab)   // note the new input\n",
    "```\n",
    "the first thing that happens is the parser is applied to the input.  This gives us the output `('a', ['a', 'b'])`.  For right now, let's just rename those two tuple fields so we have `(SUCCESSFUl_PARSE, TO_BE_PARSED)`.  `bind` then takes those values and does this with them: `PARSER_GENERATOR(SUCCESSFUL_PARSE)(TO_BE_PARSED)`.  Therefore if we had\n",
    "```\n",
    "bind(parseA, char)(aab)\n",
    "```\n",
    "it first would apply `parseA` to the input giving us `('a', ['a', 'b'])`.  It would then do `char('a')(['a', 'b'])` as `a` is the successful parse and the list is what still needs to be parsed.\n",
    "\n",
    "Sweet!  Let's see it in action!"
   ]
  },
  {
   "cell_type": "code",
   "execution_count": null,
   "metadata": {},
   "outputs": [],
   "source": [
    "bind(parseA, char)(aab)"
   ]
  },
  {
   "cell_type": "markdown",
   "metadata": {},
   "source": [
    "Hold up, something seems off.  We threw both of those into `bind`, parsed `aab`, then got back a valid parse on only one letter `a`.  That should make some sense.  At the end of the day, all that we actually returned was the result of `char('a')(['a', 'b'])`.  We lost the original parse results entirely.  This also should seem odd to you because, with our current parser generators, we can only parse the same character twice in a row.\n",
    "\n",
    "Now it's time to write a new parser generator!"
   ]
  },
  {
   "cell_type": "code",
   "execution_count": null,
   "metadata": {},
   "outputs": [],
   "source": [
    "def parseLetterThenB(x : Char) : Parser[Char, List[Char]] = bind(parseB, \n",
    "                                                             (letterb : Char) => \n",
    "                                                                 success(Cons(x, Cons(letterb, Empty))))"
   ]
  },
  {
   "cell_type": "markdown",
   "metadata": {},
   "source": [
    "`parseLetterThenB` is a parser generator that takes in the successful parse of the last parser and returns another parser (it is ok if \"parser\" no longer looks like a real word).  Specifically, we have another bind in there that lets us string together even more parsers!\n",
    "\n",
    "This may seem needlessly complicated but it's how we'll capture the output of the original parser.  It first takes in the result of the previous parse to hold onto for later.  It then parses the new string input with `parseB` and returns a concatenation of those parse results.\n",
    "\n",
    "What does this look like in practice?  Well, if we just pass in a random character to `parseLetterThenB` and apply it to a string, we can look at its output.  (I am using the letter `t` just so we can clearly see where it ends up)"
   ]
  },
  {
   "cell_type": "code",
   "execution_count": null,
   "metadata": {},
   "outputs": [],
   "source": [
    "parseLetterThenB('t')(bcd)"
   ]
  },
  {
   "cell_type": "markdown",
   "metadata": {},
   "source": [
    "See how that `t` is at the front of the parse?  That's because it was the argument to the generator.  Now ignore that `t` for a moment and look at the rest of the list.  It looks the same as if we just ran"
   ]
  },
  {
   "cell_type": "code",
   "execution_count": null,
   "metadata": {},
   "outputs": [],
   "source": [
    "parseB(bcd)"
   ]
  },
  {
   "cell_type": "markdown",
   "metadata": {},
   "source": [
    "The only difference is that the `t` was prepended to the list.  This should also make sense as the first step of a parser generated by `parseLetterThenB` is to apply `parseB` to the input.  Aha!  We can finally recover the results of the previous parse.  `parseLetterThenB` lets us complete a parse, perform a `parseB` on the remainder of the input, then return all of the successful parses that happened and everything that still needs to be parsed.  We can now finally parse an `a` then a `b` out of a string."
   ]
  },
  {
   "cell_type": "code",
   "execution_count": null,
   "metadata": {},
   "outputs": [],
   "source": [
    "bind(parseA, parseLetterThenB)(abc)"
   ]
  },
  {
   "cell_type": "markdown",
   "metadata": {},
   "source": [
    "In this example `parseA` is applied to `abc`.  Because this is successful, this gives us the initial result of `('a', ['b', 'c'])`.  This is then applied to the second argument as `parseLetterThenB('a')(['b', 'c'])`.  We know that this will actually parse the input, then prepend `a` to its parse results.  This is how we get our final result."
   ]
  },
  {
   "cell_type": "markdown",
   "metadata": {},
   "source": [
    "## Looking Back at the Code\n",
    "\n",
    "This is an optional section for anyone curious.  It's just going to show the code you already said but with some comments showing what's happening.  If you get the parts above but not this, you're fine."
   ]
  },
  {
   "cell_type": "code",
   "execution_count": null,
   "metadata": {},
   "outputs": [],
   "source": [
    "def bind[S, D, E](p : Parser[S,D], q : (D => Parser[S,E]) ) : Parser[S,E] = \n",
    "  (ss : List[S]) => {\n",
    "      val join = (res : (D, List[S])) => res match { // Apply the first parser and check its result\n",
    "          case (d, ss2) => q(d)(ss2) // If the parse was successful, use d to create a new parser\n",
    "                                     // then pass what it still needs to be parsed\n",
    "      }\n",
    "      concatMap(join, p(ss)) // Combine the output of the two parsers\n",
    "  } "
   ]
  },
  {
   "cell_type": "code",
   "execution_count": null,
   "metadata": {},
   "outputs": [],
   "source": []
  }
 ],
 "metadata": {
  "kernelspec": {
   "display_name": "Scala",
   "language": "scala",
   "name": "scala"
  },
  "language_info": {
   "codemirror_mode": "text/x-scala",
   "file_extension": ".scala",
   "mimetype": "text/x-scala",
   "name": "scala",
   "nbconvert_exporter": "script",
   "version": "2.12.8"
  }
 },
 "nbformat": 4,
 "nbformat_minor": 2
}
