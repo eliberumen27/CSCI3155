{
 "cells": [
  {
   "cell_type": "markdown",
   "metadata": {},
   "source": [
    "# Closures"
   ]
  },
  {
   "cell_type": "markdown",
   "metadata": {},
   "source": [
    "Closures are what we use to wrap all of the necessary information for a function.  They provide a self-contained way for us to use it later."
   ]
  },
  {
   "cell_type": "markdown",
   "metadata": {},
   "source": [
    "Let's say we have the function `f` defined as:\n",
    "\n",
    "`f x = x+1`"
   ]
  },
  {
   "cell_type": "code",
   "execution_count": 1,
   "metadata": {},
   "outputs": [
    {
     "data": {
      "text/plain": [
       "defined \u001b[32mfunction\u001b[39m \u001b[36mf\u001b[39m"
      ]
     },
     "execution_count": 1,
     "metadata": {},
     "output_type": "execute_result"
    }
   ],
   "source": [
    "def f(x: Int): Int = x+1"
   ]
  },
  {
   "cell_type": "markdown",
   "metadata": {},
   "source": [
    "When we call this function with input, it works as expected."
   ]
  },
  {
   "cell_type": "code",
   "execution_count": 2,
   "metadata": {},
   "outputs": [
    {
     "data": {
      "text/plain": [
       "\u001b[36mres1\u001b[39m: \u001b[32mInt\u001b[39m = \u001b[32m3\u001b[39m"
      ]
     },
     "execution_count": 2,
     "metadata": {},
     "output_type": "execute_result"
    }
   ],
   "source": [
    "f(2)"
   ]
  },
  {
   "cell_type": "markdown",
   "metadata": {},
   "source": [
    "What if we had `g x = x+y`?"
   ]
  },
  {
   "cell_type": "code",
   "execution_count": 2,
   "metadata": {},
   "outputs": [
    {
     "name": "stderr",
     "output_type": "stream",
     "text": [
      "cmd2.sc:1: not found: value y\n",
      "def g(x: Int): Int = x+y\n",
      "                       ^Compilation Failed"
     ]
    },
    {
     "ename": "",
     "evalue": "",
     "output_type": "error",
     "traceback": [
      "Compilation Failed"
     ]
    }
   ],
   "source": [
    "def g(x: Int): Int = x+y\n",
    "g(2)"
   ]
  },
  {
   "cell_type": "markdown",
   "metadata": {},
   "source": [
    "Obviously this errors out.  We don't know what the variable `y` is!"
   ]
  },
  {
   "cell_type": "markdown",
   "metadata": {},
   "source": [
    "### Bound vs Free Symbols\n",
    "\n",
    "This brings us to the idea of \"bound\" and \"free\" symbols (variables).\n",
    "\n",
    "A \"bound\" symbol is one that is self-contained in the expression.  This means that we require no extra information.  The `x` in `f x = x+1` is bound as it is defined in the expression itself.\n",
    "\n",
    "A \"free\" symbol is a symbol that requires us to look somewhere else to find its meaning.  The `y` in `g x = x+y` is a free symbol as we can't just look to `g` to get its definition.  (Technically, `1` and `+` are also free symbols because they aren't defined in the expressions.)"
   ]
  },
  {
   "cell_type": "markdown",
   "metadata": {},
   "source": [
    "An expression is considered \"closed\" if every symbol is bound.  Otherwise, it is considered \"open\".  Now wouldn't it be nice if we could \"close\" these expressions?"
   ]
  },
  {
   "cell_type": "markdown",
   "metadata": {},
   "source": [
    "### Closing an Open Expression\n",
    "\n",
    "Wow! We can close the expression using a `closure`.  The closure of a function includes the set of symbols already defined in the environment.  This lets us give values to the free symbols in that expression.\n",
    "\n",
    "Let's say we have the function `h x = x+y`.  We might expect it to error out like `g` did but now we are first defining two variables above it, `y` and `z`."
   ]
  },
  {
   "cell_type": "code",
   "execution_count": 3,
   "metadata": {},
   "outputs": [
    {
     "data": {
      "text/plain": [
       "\u001b[36my\u001b[39m: \u001b[32mInt\u001b[39m = \u001b[32m3\u001b[39m\n",
       "\u001b[36mz\u001b[39m: \u001b[32mString\u001b[39m = \u001b[32m\"i love pl!\"\u001b[39m\n",
       "defined \u001b[32mfunction\u001b[39m \u001b[36mh\u001b[39m\n",
       "\u001b[36mres2_3\u001b[39m: \u001b[32mInt\u001b[39m = \u001b[32m5\u001b[39m"
      ]
     },
     "execution_count": 3,
     "metadata": {},
     "output_type": "execute_result"
    }
   ],
   "source": [
    "val y = 3\n",
    "val z = \"i love pl!\"\n",
    "def h(x: Int): Int = x+y\n",
    "h(2)"
   ]
  },
  {
   "cell_type": "markdown",
   "metadata": {},
   "source": [
    "It worked!  This should make some sense to you.  `y` and `z` were already defined within the scope of our `h` definition.  This means that we can find a value for `y` without erroring out completely.  This is done by creating an environment snapshot called $\\pi$ which is a direct copy of $\\sigma$ at the time of function definition.  The environment snapshot for `h` would be something like:\n",
    "```\n",
    "{\n",
    "    y: 3,\n",
    "    z: \"i love pl!\",\n",
    "    +: [language defined]\n",
    "}\n",
    "```\n",
    "Notice how even though `z` isn't used in the function itself, it is still included in the environment snapshot.  Also note how `+` is included because it's also not defined in `h`.  This isn't *super* pertinent to us but it's still pretty cool."
   ]
  },
  {
   "cell_type": "markdown",
   "metadata": {},
   "source": [
    "Now what if we were to change the value of `y` after `h` is defined?  What happens to the value within $\\pi$?  Well, in Lettuce, that value within $\\pi$ won't change.  $\\pi$ is immutable and will never be updated for this closure.  That means that if we were to have the cell:\n",
    "```\n",
    "val y = 3\n",
    "def h(x: Int): Int = x+y\n",
    "h(2)\n",
    "val y = 39584372526398\n",
    "h(2)\n",
    "```\n",
    "Both executions of `h(2)` should return `5`.  We would not return `5` the first time then that insane number the second.  You may be wondering why I didn't just put that into a code cell and let you run it yourself.  It turns out that Scala doesn't follow the same rules that we define for Lettuce."
   ]
  },
  {
   "cell_type": "markdown",
   "metadata": {},
   "source": [
    "Just to be clear:\n",
    "\n",
    "__Even if the variable is updated after the function is defined, the original value from the environment snapshot is still used.__\n",
    "\n",
    "It should be `5`, not something crazy.  If anyone tries to come up and say, \"well Scala doesn't do it that way,\" I'm going to be very upset."
   ]
  },
  {
   "cell_type": "code",
   "execution_count": null,
   "metadata": {},
   "outputs": [],
   "source": []
  }
 ],
 "metadata": {
  "kernelspec": {
   "display_name": "Scala",
   "language": "scala",
   "name": "scala"
  },
  "language_info": {
   "codemirror_mode": "text/x-scala",
   "file_extension": ".scala",
   "mimetype": "text/x-scala",
   "name": "scala",
   "nbconvert_exporter": "script",
   "version": "2.12.8"
  }
 },
 "nbformat": 4,
 "nbformat_minor": 2
}
